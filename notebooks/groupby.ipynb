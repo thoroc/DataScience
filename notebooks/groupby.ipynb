{
 "metadata": {
  "language_info": {
   "codemirror_mode": {
    "name": "ipython",
    "version": 3
   },
   "file_extension": ".py",
   "mimetype": "text/x-python",
   "name": "python",
   "nbconvert_exporter": "python",
   "pygments_lexer": "ipython3",
   "version": "3.9.0"
  },
  "orig_nbformat": 2,
  "kernelspec": {
   "name": "python390jvsc74a57bd0f986b2146d1d979e0b59e1ce291b438a192131f5cf93776136015019779e7c2f",
   "display_name": "Python 3.9.0 64-bit ('.venv': venv)",
   "language": "python"
  }
 },
 "nbformat": 4,
 "nbformat_minor": 2,
 "cells": [
  {
   "source": [
    "source https://www.datasciencemadesimple.com/group-by-count-in-pandas-dataframe-python-2/"
   ],
   "cell_type": "markdown",
   "metadata": {}
  },
  {
   "cell_type": "code",
   "execution_count": 1,
   "metadata": {},
   "outputs": [
    {
     "output_type": "execute_result",
     "data": {
      "text/plain": [
       "    Product           State  Sales\n",
       "0       Box          Alaska     14\n",
       "1   Bottles      California     24\n",
       "2       Pen           Texas     31\n",
       "3   Markers  North Carolina     12\n",
       "4   Bottles      California     13\n",
       "5       Pen           Texas      7\n",
       "6   Markers          Alaska      9\n",
       "7   Bottles           Texas     31\n",
       "8       Box  North Carolina     18\n",
       "9   Markers          Alaska     16\n",
       "10  Markers      California     18\n",
       "11      Pen           Texas     14"
      ],
      "text/html": "<div>\n<style scoped>\n    .dataframe tbody tr th:only-of-type {\n        vertical-align: middle;\n    }\n\n    .dataframe tbody tr th {\n        vertical-align: top;\n    }\n\n    .dataframe thead th {\n        text-align: right;\n    }\n</style>\n<table border=\"1\" class=\"dataframe\">\n  <thead>\n    <tr style=\"text-align: right;\">\n      <th></th>\n      <th>Product</th>\n      <th>State</th>\n      <th>Sales</th>\n    </tr>\n  </thead>\n  <tbody>\n    <tr>\n      <th>0</th>\n      <td>Box</td>\n      <td>Alaska</td>\n      <td>14</td>\n    </tr>\n    <tr>\n      <th>1</th>\n      <td>Bottles</td>\n      <td>California</td>\n      <td>24</td>\n    </tr>\n    <tr>\n      <th>2</th>\n      <td>Pen</td>\n      <td>Texas</td>\n      <td>31</td>\n    </tr>\n    <tr>\n      <th>3</th>\n      <td>Markers</td>\n      <td>North Carolina</td>\n      <td>12</td>\n    </tr>\n    <tr>\n      <th>4</th>\n      <td>Bottles</td>\n      <td>California</td>\n      <td>13</td>\n    </tr>\n    <tr>\n      <th>5</th>\n      <td>Pen</td>\n      <td>Texas</td>\n      <td>7</td>\n    </tr>\n    <tr>\n      <th>6</th>\n      <td>Markers</td>\n      <td>Alaska</td>\n      <td>9</td>\n    </tr>\n    <tr>\n      <th>7</th>\n      <td>Bottles</td>\n      <td>Texas</td>\n      <td>31</td>\n    </tr>\n    <tr>\n      <th>8</th>\n      <td>Box</td>\n      <td>North Carolina</td>\n      <td>18</td>\n    </tr>\n    <tr>\n      <th>9</th>\n      <td>Markers</td>\n      <td>Alaska</td>\n      <td>16</td>\n    </tr>\n    <tr>\n      <th>10</th>\n      <td>Markers</td>\n      <td>California</td>\n      <td>18</td>\n    </tr>\n    <tr>\n      <th>11</th>\n      <td>Pen</td>\n      <td>Texas</td>\n      <td>14</td>\n    </tr>\n  </tbody>\n</table>\n</div>"
     },
     "metadata": {},
     "execution_count": 1
    }
   ],
   "source": [
    "import pandas as pd\n",
    "import numpy as np\n",
    "\n",
    "data = {'Product':['Box','Bottles','Pen','Markers','Bottles','Pen','Markers','Bottles','Box','Markers','Markers','Pen'],\n",
    "       'State':['Alaska','California','Texas','North Carolina','California','Texas','Alaska','Texas','North Carolina','Alaska','California','Texas'],\n",
    "       'Sales':[14,24,31,12,13,7,9,31,18,16,18,14]}\n",
    "\n",
    "df1=pd.DataFrame(data, columns=['Product','State','Sales'])\n",
    "\n",
    "df1"
   ]
  },
  {
   "cell_type": "code",
   "execution_count": 9,
   "metadata": {},
   "outputs": [
    {
     "output_type": "execute_result",
     "data": {
      "text/plain": [
       "                Product  Sales\n",
       "State                         \n",
       "Alaska                3      3\n",
       "California            3      3\n",
       "North Carolina        2      2\n",
       "Texas                 4      4"
      ],
      "text/html": "<div>\n<style scoped>\n    .dataframe tbody tr th:only-of-type {\n        vertical-align: middle;\n    }\n\n    .dataframe tbody tr th {\n        vertical-align: top;\n    }\n\n    .dataframe thead th {\n        text-align: right;\n    }\n</style>\n<table border=\"1\" class=\"dataframe\">\n  <thead>\n    <tr style=\"text-align: right;\">\n      <th></th>\n      <th>Product</th>\n      <th>Sales</th>\n    </tr>\n    <tr>\n      <th>State</th>\n      <th></th>\n      <th></th>\n    </tr>\n  </thead>\n  <tbody>\n    <tr>\n      <th>Alaska</th>\n      <td>3</td>\n      <td>3</td>\n    </tr>\n    <tr>\n      <th>California</th>\n      <td>3</td>\n      <td>3</td>\n    </tr>\n    <tr>\n      <th>North Carolina</th>\n      <td>2</td>\n      <td>2</td>\n    </tr>\n    <tr>\n      <th>Texas</th>\n      <td>4</td>\n      <td>4</td>\n    </tr>\n  </tbody>\n</table>\n</div>"
     },
     "metadata": {},
     "execution_count": 9
    }
   ],
   "source": [
    "''' Groupby single column in pandas python'''\n",
    "\n",
    "df1.groupby(['State']).count()"
   ]
  },
  {
   "cell_type": "code",
   "execution_count": 2,
   "metadata": {},
   "outputs": [
    {
     "output_type": "execute_result",
     "data": {
      "text/plain": [
       "State\n",
       "Alaska            3\n",
       "California        3\n",
       "North Carolina    2\n",
       "Texas             4\n",
       "Name: Sales, dtype: int64"
      ]
     },
     "metadata": {},
     "execution_count": 2
    }
   ],
   "source": [
    "''' Groupby single column in pandas python'''\n",
    "\n",
    "df1.groupby(['State'])['Sales'].count()"
   ]
  },
  {
   "cell_type": "code",
   "execution_count": 8,
   "metadata": {},
   "outputs": [
    {
     "output_type": "execute_result",
     "data": {
      "text/plain": [
       "Product\n",
       "Bottles    3\n",
       "Box        2\n",
       "Markers    4\n",
       "Pen        3\n",
       "Name: Sales, dtype: int64"
      ]
     },
     "metadata": {},
     "execution_count": 8
    }
   ],
   "source": [
    "''' Groupby single column in pandas python'''\n",
    "\n",
    "df1.groupby(['Product'])['Sales'].count()"
   ]
  },
  {
   "cell_type": "code",
   "execution_count": 10,
   "metadata": {},
   "outputs": [
    {
     "output_type": "execute_result",
     "data": {
      "text/plain": [
       "Product\n",
       "Bottles    68\n",
       "Box        32\n",
       "Markers    55\n",
       "Pen        52\n",
       "Name: Sales, dtype: int64"
      ]
     },
     "metadata": {},
     "execution_count": 10
    }
   ],
   "source": [
    "''' Groupby single column in pandas python'''\n",
    "\n",
    "df1.groupby(['Product'])['Sales'].sum()"
   ]
  },
  {
   "cell_type": "code",
   "execution_count": 3,
   "metadata": {},
   "outputs": [
    {
     "output_type": "execute_result",
     "data": {
      "text/plain": [
       "            State  Sales\n",
       "0          Alaska      3\n",
       "1      California      3\n",
       "2  North Carolina      2\n",
       "3           Texas      4"
      ],
      "text/html": "<div>\n<style scoped>\n    .dataframe tbody tr th:only-of-type {\n        vertical-align: middle;\n    }\n\n    .dataframe tbody tr th {\n        vertical-align: top;\n    }\n\n    .dataframe thead th {\n        text-align: right;\n    }\n</style>\n<table border=\"1\" class=\"dataframe\">\n  <thead>\n    <tr style=\"text-align: right;\">\n      <th></th>\n      <th>State</th>\n      <th>Sales</th>\n    </tr>\n  </thead>\n  <tbody>\n    <tr>\n      <th>0</th>\n      <td>Alaska</td>\n      <td>3</td>\n    </tr>\n    <tr>\n      <th>1</th>\n      <td>California</td>\n      <td>3</td>\n    </tr>\n    <tr>\n      <th>2</th>\n      <td>North Carolina</td>\n      <td>2</td>\n    </tr>\n    <tr>\n      <th>3</th>\n      <td>Texas</td>\n      <td>4</td>\n    </tr>\n  </tbody>\n</table>\n</div>"
     },
     "metadata": {},
     "execution_count": 3
    }
   ],
   "source": [
    "''' Groupby single column in pandas python using reset_index()'''\n",
    "\n",
    "df1.groupby(['State'])['Sales'].count().reset_index()\n"
   ]
  },
  {
   "cell_type": "code",
   "execution_count": 4,
   "metadata": {},
   "outputs": [
    {
     "output_type": "execute_result",
     "data": {
      "text/plain": [
       "State           Product\n",
       "Alaska          Box        1\n",
       "                Markers    2\n",
       "California      Bottles    2\n",
       "                Markers    1\n",
       "North Carolina  Box        1\n",
       "                Markers    1\n",
       "Texas           Bottles    1\n",
       "                Pen        3\n",
       "Name: Sales, dtype: int64"
      ]
     },
     "metadata": {},
     "execution_count": 4
    }
   ],
   "source": [
    "''' Groupby multiple columns in pandas python'''\n",
    "\n",
    "df1.groupby(['State','Product'])['Sales'].count()\n"
   ]
  },
  {
   "cell_type": "code",
   "execution_count": 5,
   "metadata": {},
   "outputs": [
    {
     "output_type": "execute_result",
     "data": {
      "text/plain": [
       "            State  Product  Sales\n",
       "0          Alaska      Box      1\n",
       "1          Alaska  Markers      2\n",
       "2      California  Bottles      2\n",
       "3      California  Markers      1\n",
       "4  North Carolina      Box      1\n",
       "5  North Carolina  Markers      1\n",
       "6           Texas  Bottles      1\n",
       "7           Texas      Pen      3"
      ],
      "text/html": "<div>\n<style scoped>\n    .dataframe tbody tr th:only-of-type {\n        vertical-align: middle;\n    }\n\n    .dataframe tbody tr th {\n        vertical-align: top;\n    }\n\n    .dataframe thead th {\n        text-align: right;\n    }\n</style>\n<table border=\"1\" class=\"dataframe\">\n  <thead>\n    <tr style=\"text-align: right;\">\n      <th></th>\n      <th>State</th>\n      <th>Product</th>\n      <th>Sales</th>\n    </tr>\n  </thead>\n  <tbody>\n    <tr>\n      <th>0</th>\n      <td>Alaska</td>\n      <td>Box</td>\n      <td>1</td>\n    </tr>\n    <tr>\n      <th>1</th>\n      <td>Alaska</td>\n      <td>Markers</td>\n      <td>2</td>\n    </tr>\n    <tr>\n      <th>2</th>\n      <td>California</td>\n      <td>Bottles</td>\n      <td>2</td>\n    </tr>\n    <tr>\n      <th>3</th>\n      <td>California</td>\n      <td>Markers</td>\n      <td>1</td>\n    </tr>\n    <tr>\n      <th>4</th>\n      <td>North Carolina</td>\n      <td>Box</td>\n      <td>1</td>\n    </tr>\n    <tr>\n      <th>5</th>\n      <td>North Carolina</td>\n      <td>Markers</td>\n      <td>1</td>\n    </tr>\n    <tr>\n      <th>6</th>\n      <td>Texas</td>\n      <td>Bottles</td>\n      <td>1</td>\n    </tr>\n    <tr>\n      <th>7</th>\n      <td>Texas</td>\n      <td>Pen</td>\n      <td>3</td>\n    </tr>\n  </tbody>\n</table>\n</div>"
     },
     "metadata": {},
     "execution_count": 5
    }
   ],
   "source": [
    "''' Groupby multiple columns in pandas python using reset_index()'''\n",
    "\n",
    "df1.groupby(['State','Product'])['Sales'].count().reset_index()\n"
   ]
  },
  {
   "cell_type": "code",
   "execution_count": 6,
   "metadata": {},
   "outputs": [
    {
     "output_type": "execute_result",
     "data": {
      "text/plain": [
       "            State  Product  Sales\n",
       "0          Alaska      Box      1\n",
       "1          Alaska  Markers      2\n",
       "2      California  Bottles      2\n",
       "3      California  Markers      1\n",
       "4  North Carolina      Box      1\n",
       "5  North Carolina  Markers      1\n",
       "6           Texas  Bottles      1\n",
       "7           Texas      Pen      3"
      ],
      "text/html": "<div>\n<style scoped>\n    .dataframe tbody tr th:only-of-type {\n        vertical-align: middle;\n    }\n\n    .dataframe tbody tr th {\n        vertical-align: top;\n    }\n\n    .dataframe thead th {\n        text-align: right;\n    }\n</style>\n<table border=\"1\" class=\"dataframe\">\n  <thead>\n    <tr style=\"text-align: right;\">\n      <th></th>\n      <th>State</th>\n      <th>Product</th>\n      <th>Sales</th>\n    </tr>\n  </thead>\n  <tbody>\n    <tr>\n      <th>0</th>\n      <td>Alaska</td>\n      <td>Box</td>\n      <td>1</td>\n    </tr>\n    <tr>\n      <th>1</th>\n      <td>Alaska</td>\n      <td>Markers</td>\n      <td>2</td>\n    </tr>\n    <tr>\n      <th>2</th>\n      <td>California</td>\n      <td>Bottles</td>\n      <td>2</td>\n    </tr>\n    <tr>\n      <th>3</th>\n      <td>California</td>\n      <td>Markers</td>\n      <td>1</td>\n    </tr>\n    <tr>\n      <th>4</th>\n      <td>North Carolina</td>\n      <td>Box</td>\n      <td>1</td>\n    </tr>\n    <tr>\n      <th>5</th>\n      <td>North Carolina</td>\n      <td>Markers</td>\n      <td>1</td>\n    </tr>\n    <tr>\n      <th>6</th>\n      <td>Texas</td>\n      <td>Bottles</td>\n      <td>1</td>\n    </tr>\n    <tr>\n      <th>7</th>\n      <td>Texas</td>\n      <td>Pen</td>\n      <td>3</td>\n    </tr>\n  </tbody>\n</table>\n</div>"
     },
     "metadata": {},
     "execution_count": 6
    }
   ],
   "source": [
    "''' Groupby multiple columns in pandas python using agg()'''\n",
    "\n",
    "df1.groupby(['State','Product'])['Sales'].agg('count').reset_index()\n"
   ]
  },
  {
   "cell_type": "code",
   "execution_count": 7,
   "metadata": {},
   "outputs": [
    {
     "output_type": "execute_result",
     "data": {
      "text/plain": [
       "                 Sales                  \n",
       "Product        Bottles  Box Markers  Pen\n",
       "State                                   \n",
       "Alaska             0.0  1.0     2.0  0.0\n",
       "California         2.0  0.0     1.0  0.0\n",
       "North Carolina     0.0  1.0     1.0  0.0\n",
       "Texas              1.0  0.0     0.0  3.0"
      ],
      "text/html": "<div>\n<style scoped>\n    .dataframe tbody tr th:only-of-type {\n        vertical-align: middle;\n    }\n\n    .dataframe tbody tr th {\n        vertical-align: top;\n    }\n\n    .dataframe thead tr th {\n        text-align: left;\n    }\n\n    .dataframe thead tr:last-of-type th {\n        text-align: right;\n    }\n</style>\n<table border=\"1\" class=\"dataframe\">\n  <thead>\n    <tr>\n      <th></th>\n      <th colspan=\"4\" halign=\"left\">Sales</th>\n    </tr>\n    <tr>\n      <th>Product</th>\n      <th>Bottles</th>\n      <th>Box</th>\n      <th>Markers</th>\n      <th>Pen</th>\n    </tr>\n    <tr>\n      <th>State</th>\n      <th></th>\n      <th></th>\n      <th></th>\n      <th></th>\n    </tr>\n  </thead>\n  <tbody>\n    <tr>\n      <th>Alaska</th>\n      <td>0.0</td>\n      <td>1.0</td>\n      <td>2.0</td>\n      <td>0.0</td>\n    </tr>\n    <tr>\n      <th>California</th>\n      <td>2.0</td>\n      <td>0.0</td>\n      <td>1.0</td>\n      <td>0.0</td>\n    </tr>\n    <tr>\n      <th>North Carolina</th>\n      <td>0.0</td>\n      <td>1.0</td>\n      <td>1.0</td>\n      <td>0.0</td>\n    </tr>\n    <tr>\n      <th>Texas</th>\n      <td>1.0</td>\n      <td>0.0</td>\n      <td>0.0</td>\n      <td>3.0</td>\n    </tr>\n  </tbody>\n</table>\n</div>"
     },
     "metadata": {},
     "execution_count": 7
    }
   ],
   "source": [
    "''' Groupby multiple columns in pandas python using pivot()'''\n",
    "\n",
    "df1.groupby(['State','Product'],as_index = False).count().pivot('State','Product').fillna(0)\n"
   ]
  },
  {
   "cell_type": "code",
   "execution_count": null,
   "metadata": {},
   "outputs": [],
   "source": []
  }
 ]
}