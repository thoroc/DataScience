{
 "metadata": {
  "language_info": {
   "codemirror_mode": {
    "name": "ipython",
    "version": 3
   },
   "file_extension": ".py",
   "mimetype": "text/x-python",
   "name": "python",
   "nbconvert_exporter": "python",
   "pygments_lexer": "ipython3",
   "version": "3.9.0"
  },
  "orig_nbformat": 2,
  "kernelspec": {
   "name": "pythonjvsc74a57bd0f986b2146d1d979e0b59e1ce291b438a192131f5cf93776136015019779e7c2f",
   "display_name": "Python 3.9.0  ('.venv': venv)"
  },
  "metadata": {
   "interpreter": {
    "hash": "f986b2146d1d979e0b59e1ce291b438a192131f5cf93776136015019779e7c2f"
   }
  }
 },
 "nbformat": 4,
 "nbformat_minor": 2,
 "cells": [
  {
   "source": [
    "# The Art of Writing Loops in Python\n",
    "\n",
    "The for loop is a very basic control flow tool of most programming languages. For example, a simple for loop in C looks like the following:\n",
    "``` C\n",
    "int i;\n",
    "for (i=0;i<N;i++)\n",
    "{\n",
    "  //do something\n",
    "}\n",
    "```\n",
    "There are no other ways to write a for loop more elegantly in C. For a complex scenario, we usually need to write ugly nested loops or define lots of assistant variables (like the `i` in the above code).\n",
    "\n",
    "Fortunately, when it comes to Python, things become much more convenient. We have many tricks to write much more elegant loops and they do make our lives easier. In Python, nested loops are not inevitable, assistant variables are not necessary, and we can even customise a for loop by ourselves.\n",
    "\n",
    "This article will introduce some of the most helpful tricks for writing loops in Python. Hopefully, it can help you feel the beauty of Python.\n",
    "\n",
    "## Get Indexes and Values at Once\n",
    "\n",
    "A common scenario of using a for loop is to get indexes and values from a list. When I started learning Python, I wrote my code like the following:\n",
    "``` python\n",
    "for i in range(len(my_list)):\n",
    "    print(i, my_list[i])\n",
    "```\n",
    "It works of course. But not Pythonic enough. After a few months, I got the standard Pythonic way to do this:\n",
    "``` python\n",
    "for i, v in enumerate(my_list):\n",
    "    print(i, v)\n",
    "```\n",
    "As shown above, the built-in `enumerate` function can make our lives easier.\n",
    "\n",
    "## Avoid Nested Loops by the Product Function\n",
    "\n",
    "Nested loops are headaches. They can reduce the readability of our code and make things complex. For example, breaking out of the nested loops is usually not very easy. We need to know when the inner-most loop was broken, when the second inner-most loop was broken, and so on.\n",
    "\n",
    "Fortunately, there is an awesome function called `product` from the built-in `itertools` module in Python. We can use it to avoid writing lots of nested loops.\n",
    "\n",
    "Let’s feel how useful it is by a simple example:"
   ],
   "cell_type": "markdown",
   "metadata": {}
  },
  {
   "cell_type": "code",
   "execution_count": 1,
   "metadata": {},
   "outputs": [
    {
     "output_type": "stream",
     "name": "stdout",
     "text": [
      "70 2000 7\n"
     ]
    }
   ],
   "source": [
    "list_a = [1, 2020, 70]\n",
    "list_b = [2, 4, 7, 2000]\n",
    "list_c = [3, 70, 7]\n",
    "\n",
    "for a in list_a:\n",
    "    for b in list_b:\n",
    "        for c in list_c:\n",
    "            if a + b + c == 2077:\n",
    "                print(a, b, c)"
   ]
  },
  {
   "source": [
    "As shown above, we need three nested loops to get three numbers whose sum is equal to 2077 from three lists. The code is not neat at all.\n",
    "\n",
    "How about using the `product` function?"
   ],
   "cell_type": "markdown",
   "metadata": {}
  },
  {
   "cell_type": "code",
   "execution_count": 2,
   "metadata": {},
   "outputs": [
    {
     "output_type": "stream",
     "name": "stdout",
     "text": [
      "70 2000 7\n"
     ]
    }
   ],
   "source": [
    "from itertools import product\n",
    "\n",
    "list_a = [1, 2020, 70]\n",
    "list_b = [2, 4, 7, 2000]\n",
    "list_c = [3, 70, 7]\n",
    "\n",
    "for a, b, c in product(list_a, list_b, list_c):\n",
    "    if a + b + c == 2077:\n",
    "        print(a, b, c)"
   ]
  },
  {
   "source": [
    "As shown above, with the help of the `product` function, only one loop is needed.\n",
    "\n",
    "Because the `product` function generates the Cartesian product of input iterables. It can help us avoid nested loops in lots of scenarios.\n",
    "\n",
    "## Use the Itertools Module To Write Fancy Loops\n",
    "\n",
    "In fact, the `product` function is just the tip of the iceberg. If you explore the built-in `itertools` module in Python. A new world will be open to you. This toolbox contains many useful methods to satisfy our needs about loops. The full list of them can be found on the official document. Let’s enjoy a few interesting usages of them here.\n",
    "\n",
    "### Make an infinite loop\n",
    "\n",
    "There are at least three methods to make an infinite loop:\n",
    "\n",
    "1. By the `count` function\n",
    "\n",
    "``` python\n",
    "import itertools\n",
    "\n",
    "natural_num = itertools.count(1)\n",
    "for n in natural_num:\n",
    "    print(n)\n",
    "# 1,2,3,...\n",
    "```\n",
    "2. By the `cycle` function\n",
    "\n",
    "``` python\n",
    "many_yang = itertools.cycle('Yang')\n",
    "for y in many_yang:\n",
    "    print(y)\n",
    "# 'Y','a','n','g','Y','a','n','g',...\n",
    "```\n",
    "3. By the `repeat` function\n",
    "\n",
    "``` python\n",
    "many_yang = itertools.repeat('Yang')\n",
    "for y in many_yang:\n",
    "    print(y)\n",
    "# 'Yang','Yang',...\n",
    "```\n",
    "### Combine multiple iterators into one\n",
    "\n",
    "The `chain()` function can help us combine multiple iterators into one.\n",
    "``` python\n",
    "from itertools import chain\n",
    "\n",
    "list_a = [1, 22]\n",
    "list_b = [7, 20]\n",
    "list_c = [3, 70]\n",
    "\n",
    "for i in chain(list_a, list_b, list_c):\n",
    "    print(i)\n",
    "# 1,22,7,20,3,70\n",
    "```\n",
    "\n",
    "### Pick out adjacent duplicate elements\n",
    "\n",
    "The `groupby` function is to pick out adjacent duplicate items in an iterator and put them together."
   ],
   "cell_type": "markdown",
   "metadata": {}
  },
  {
   "cell_type": "code",
   "execution_count": 3,
   "metadata": {},
   "outputs": [
    {
     "output_type": "stream",
     "name": "stdout",
     "text": [
      "Y ['Y']\nA ['A']\na ['a']\nA ['A']\nN ['N', 'N']\nG ['G', 'G', 'G']\n"
     ]
    }
   ],
   "source": [
    "from itertools import groupby\n",
    "\n",
    "for key, group in groupby('YAaANNGGG'):\n",
    "    print(key, list(group))"
   ]
  },
  {
   "source": [
    "As shown above, the adjacent same characters were put into together. Furthermore, we can tell the `groupby` function how to determine two items are the same or not:"
   ],
   "cell_type": "markdown",
   "metadata": {}
  },
  {
   "cell_type": "code",
   "execution_count": 4,
   "metadata": {},
   "outputs": [
    {
     "output_type": "stream",
     "name": "stdout",
     "text": [
      "Y ['Y']\nA ['A', 'a', 'A']\nN ['N', 'N']\nG ['G', 'G', 'G']\n"
     ]
    }
   ],
   "source": [
    "from itertools import groupby\n",
    "\n",
    "for key, group in groupby('YAaANNGGG', lambda x: x.upper()):\n",
    "    print(key, list(group))"
   ]
  },
  {
   "source": [
    "## Customise a Loop by Ourselves\n",
    "\n",
    "After enjoying all the above examples, it’s time to think about why the for loops in Python are so flexible and elegant. As far as I am concerned, it’s because we can apply functions into the iterator of a for loop. All the tricks mentioned above are just using some special functions to the iterator. The template of all tricks is as follows:\n",
    "\n",
    "``` python\n",
    "for x in function(iterator)\n",
    "```\n",
    "\n",
    "Under the hood, the built-in `itertools` module just implements some commonly used functions for us. If we happen to forget a function in it or cannot find the function we need, we can just write one by ourselves. More specifically, these functions are generators. This is why we can generator infinite loops by them.\n",
    "\n",
    "In a nutshell, we can customise a for loop as we like by writing a customised generator.\n",
    "\n",
    "Let’s see a simple example:"
   ],
   "cell_type": "markdown",
   "metadata": {}
  },
  {
   "cell_type": "code",
   "execution_count": 5,
   "metadata": {},
   "outputs": [
    {
     "output_type": "stream",
     "name": "stdout",
     "text": [
      "4\n2\n"
     ]
    }
   ],
   "source": [
    "def even_only(num):\n",
    "    for i in num:\n",
    "        if i % 2 == 0:\n",
    "            yield i\n",
    "\n",
    "\n",
    "my_list = [1, 9, 3, 4, 2, 5]\n",
    "for n in even_only(my_list):\n",
    "    print(n)"
   ]
  },
  {
   "source": [
    "As the above example shows, we define a generator called `even_only`. If we use this generator in a for loop, only even numbers will be iterated of the list.\n",
    "\n",
    "Of course, the above example is just used for explanation purpose. There are other ways to do the same thing, such as using the list comprehension."
   ],
   "cell_type": "markdown",
   "metadata": {}
  },
  {
   "cell_type": "code",
   "execution_count": 6,
   "metadata": {},
   "outputs": [
    {
     "output_type": "stream",
     "name": "stdout",
     "text": [
      "4\n2\n"
     ]
    }
   ],
   "source": [
    "my_list = [1, 9, 3, 4, 2, 5]\n",
    "for n in (i for i in my_list if not i % 2):\n",
    "    print(n)"
   ]
  },
  {
   "source": [
    "## Conclusion\n",
    "\n",
    "Writing loops in Python can be very flexibly and elegantly. We can use some built-in tools properly or even define generators by ourselves to write neat and simple loops."
   ],
   "cell_type": "markdown",
   "metadata": {}
  }
 ]
}