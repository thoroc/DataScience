{
 "metadata": {
  "language_info": {
   "codemirror_mode": {
    "name": "ipython",
    "version": 3
   },
   "file_extension": ".py",
   "mimetype": "text/x-python",
   "name": "python",
   "nbconvert_exporter": "python",
   "pygments_lexer": "ipython3",
   "version": "3.9.0"
  },
  "orig_nbformat": 2,
  "kernelspec": {
   "name": "python390jvsc74a57bd0f986b2146d1d979e0b59e1ce291b438a192131f5cf93776136015019779e7c2f",
   "display_name": "Python 3.9.0 64-bit ('.venv': venv)"
  },
  "metadata": {
   "interpreter": {
    "hash": "f986b2146d1d979e0b59e1ce291b438a192131f5cf93776136015019779e7c2f"
   }
  }
 },
 "nbformat": 4,
 "nbformat_minor": 2,
 "cells": [
  {
   "source": [
    "# Exercise 1 = running total\n",
    "Write a function called calculate_running_total() which will:\n",
    "\n",
    "* assign the value 0 to a variable called total\n",
    "* ask the user to enter a number\n",
    "* add the number to the total, storing the result in total\n",
    "* ask the user to enter a second number\n",
    "* add this number to the total\n",
    "* ask the user to enter a third number\n",
    "* add this number to the total\n",
    "* print the total\n",
    "\n",
    "___Hint: you should only use TWO variables, number and total for this exercise___\n",
    "\n",
    "Test input:\n",
    "* 3\n",
    "* 5\n",
    "* 8\n",
    "\n",
    "Expected output:\n",
    "* 16"
   ],
   "cell_type": "markdown",
   "metadata": {}
  },
  {
   "cell_type": "code",
   "execution_count": 1,
   "metadata": {},
   "outputs": [
    {
     "output_type": "stream",
     "name": "stdout",
     "text": [
      "13\n"
     ]
    }
   ],
   "source": [
    "def calculate_running_total():\n",
    "    total = 0\n",
    "    number = int(input(\"Please enter a number: \"))\n",
    "    total += number\n",
    "    number = int(input(\"Please enter a second number: \"))\n",
    "    total += number\n",
    "    number = int(input(\"Please enter a third number: \"))\n",
    "    total += number\n",
    "    print(total)\n",
    "\n",
    "calculate_running_total()\n"
   ]
  },
  {
   "source": [
    "# Exercise 2 - continuous decrease\n",
    "Write a function called decrease_time_left() which will:\n",
    "\n",
    "* assign the value 60 to a variable called seconds_left\n",
    "* ask the user to enter a time in seconds\n",
    "* subtract the time from the seconds_left, storing the result in seconds_left\n",
    "* ask the user to enter a second time in seconds\n",
    "* subtract this time from the seconds_left\n",
    "* print seconds_left, \"seconds left\"\n",
    "\n",
    "___Hint: you should only use TWO variables, time and seconds_left for this exercise___\n",
    "\n",
    "Test input:\n",
    "* 40\n",
    "* 20\n",
    "\n",
    "Expected output:\n",
    "* 0 seconds left"
   ],
   "cell_type": "markdown",
   "metadata": {}
  },
  {
   "cell_type": "code",
   "execution_count": null,
   "metadata": {},
   "outputs": [],
   "source": [
    "def decrease_time_left():\n",
    "    second_left = 60\n",
    "    user_time = int(input(\"please enter a time in seconds: \"))\n",
    "    second_left -= user_time\n",
    "    user_time = int(input(\"please enter a second time in seconds: \"))\n",
    "    second_left -= user_time\n",
    "    print(second_left, \"second left\")\n",
    "\n",
    "decrease_time_left()"
   ]
  },
  {
   "source": [
    "# Exercise 3 - decrease by factor\n",
    "Write a function called decrease_by_factor() which will:\n",
    "\n",
    "* ask the user for a factor to decrease by (a whole number between 2 and 8)\n",
    "* ask the user to enter a whole number\n",
    "* divide the number by the factor, using floor division, storing the result in number\n",
    "* print the number\n",
    "* divide the number by the factor again, storing the result again in number\n",
    "* print the number\n",
    "\n",
    "___Hint: On this occasion, you don't need to assign the result of the character input to a variable, because you aren't going to use it, it just lets the user indicate when they are ready to divide again___\n",
    "\n",
    "Test input:\n",
    "* 4\n",
    "* 80\n",
    "\n",
    "Expected output:\n",
    "* 5"
   ],
   "cell_type": "markdown",
   "metadata": {}
  },
  {
   "cell_type": "code",
   "execution_count": null,
   "metadata": {},
   "outputs": [],
   "source": [
    "def decrease_by_factor():\n",
    "    factor = int(input(\"please enter a factor (whole number between 2 and 8): \"))\n",
    "    number = int(input(\"please enter a whole number: \"))\n",
    "    number = number // factor\n",
    "    print(number)\n",
    "    number = number // factor\n",
    "    print(number)\n",
    "\n",
    "decrease_by_factor()"
   ]
  },
  {
   "source": [
    "# Exercise 5 - is it afternoon?\n",
    "Write a function called is_afternoon() which will:\n",
    "\n",
    "* ask the user to enter a time in 24 hour clock format as a whole number (e.g. 1756)\n",
    "* get the hour using floor division\n",
    "* assign the result of comparing the hour to 12 (is it after 12?) to a boolean variable called afternoon\n",
    "* print the message \"It is afternoon\", followed by True or False depending on the result stored in afternoon\n",
    "\n",
    "___Hint: for this exercise 12 is in the afternoon even when the time is 1200___\n",
    "\n",
    "Test input:\n",
    "* 1756\n",
    "\n",
    "Expected output:\n",
    "* It is afternoon True"
   ],
   "cell_type": "markdown",
   "metadata": {}
  },
  {
   "cell_type": "code",
   "execution_count": null,
   "metadata": {},
   "outputs": [],
   "source": [
    "import pandas as pd\n",
    "import re\n",
    "\n",
    "DATE_FORMAT = '([0-9]{1,2})/([0-9]{1,2})/([0-9]{4})'\n",
    "\n",
    "def char_occurence(char, string):\n",
    "    res = 0\n",
    "    for i in range(len(string)):\n",
    "        if (string[i] == char):\n",
    "            res += 1\n",
    "    return res\n",
    "\n",
    "\n",
    "def transform_string_to_date(input_date):\n",
    "    if len(str(input_date)) == 8:\n",
    "        return (input_date[0:2], input_date[2:4], input_date[4:])\n",
    "    if len(str(input_date)) == 6:\n",
    "        return (input_date[0], input_date[1], input_date[2:])\n",
    "    if len(str(input_date)) == 7:\n",
    "        # 9302012\n",
    "        # 1222012\n",
    "        if input_date[0:2] > 12:\n",
    "            month = input_date[0]\n",
    "            day = input_date[1:3]\n",
    "            year = input_date[3:]\n",
    "        else:\n",
    "            month = input_date[0:2]\n",
    "            day = input_date[2]\n",
    "            year = input_date[3:]\n",
    "        return (month, day, year)\n",
    "\n",
    "\n",
    "def validate_date(input_date):\n",
    "    splitted_date = char_occurence('/', input_date)\n",
    "    if len(splitted_date) == 2:\n",
    "        matches = re.findall(DATE_FORMAT, input_date)\n",
    "        return matches\n",
    "    else:\n",
    "        return transform_string_to_date(input_date)\n",
    "        \n",
    "    print(matches)\n",
    "    return matches\n",
    "\n",
    "data = {'date': ['9/30/2012', '12/12/2012', '392012', '3/9/2012']}\n",
    "\n",
    "print(data)\n",
    "\n",
    "for d in data['date']:\n",
    "    validate_date(d)\n",
    "\n",
    "df = pd.DataFrame(data, columns=['date'])\n",
    "df"
   ]
  },
  {
   "cell_type": "code",
   "execution_count": 2,
   "metadata": {},
   "outputs": [
    {
     "output_type": "stream",
     "name": "stdout",
     "text": [
      "False\n"
     ]
    }
   ],
   "source": [
    "def checkNotBoolean(boolean1):\n",
    "    answer = not boolean1\n",
    "\n",
    "    print(answer)\n",
    "\n",
    "checkNotBoolean(True)"
   ]
  },
  {
   "cell_type": "code",
   "execution_count": 3,
   "metadata": {},
   "outputs": [
    {
     "output_type": "stream",
     "name": "stdout",
     "text": [
      "True\n"
     ]
    }
   ],
   "source": [
    "def checkOrBoolean(boolean1, boolean2):\n",
    "    answer = boolean1 or boolean2\n",
    "    print(answer)\n",
    "\n",
    "checkOrBoolean(True, False)"
   ]
  },
  {
   "cell_type": "code",
   "execution_count": 4,
   "metadata": {},
   "outputs": [
    {
     "output_type": "stream",
     "name": "stdout",
     "text": [
      "False\n"
     ]
    }
   ],
   "source": [
    "def checkAndBoolean(boolean1, boolean2):\n",
    "    answer = boolean1 and boolean2\n",
    "    print(answer)\n",
    "\n",
    "checkAndBoolean(True, False)"
   ]
  },
  {
   "source": [
    "# Challenge 2 - triangle shape\n",
    "Write a function called evaluate_triangle_shape() which will check if a triangle is equilateral, isosceles or scalene, based on the three side lengths entered by a user (x, y and z.\n",
    "\n",
    "An equilateral triangle is a triangle in which all three sides are equal. A scalene triangle is a triangle that has three unequal sides. An isosceles triangle is a triangle with (at least) two equal sides.\n",
    "\n",
    "For example:<br>\n",
    "A triange with side lengths<br>\n",
    "x: 6<br>\n",
    "y: 8<br>\n",
    "z: 12<br>\n",
    "is a Scalene triangle<br>\n",
    "\n",
    "A triangle with side lengths<br>\n",
    "x:5<br>\n",
    "y:3<br>\n",
    "z:5<br>\n",
    "is an Isosceles triangle"
   ],
   "cell_type": "markdown",
   "metadata": {}
  },
  {
   "cell_type": "code",
   "execution_count": null,
   "metadata": {},
   "outputs": [],
   "source": [
    "def evaluate_triangle_shape():\n",
    "    length_x = int(input(\" enter a the length of x \"))\n",
    "    length_y = int(input(\" enter a the length of y \"))\n",
    "    length_z = int(input(\" enter a the length of z \"))\n",
    "\n",
    "    input_set = set([length_x, length_y, length_z])\n",
    "\n",
    "    if len(input_set) == 1:\n",
    "       print(\"This is an Equilateral triangle\")\n",
    "    elif len(input_set) == 2:\n",
    "        print(\"This is an Equilateral triangle\")\n",
    "    elif len(input_set) == 3:\n",
    "        print(\"This is an Scalene triangle\")\n",
    "    else:\n",
    "        print(\"There was an unkown error\")\n",
    "\n",
    "\n",
    "evaluate_triangle_shape()"
   ]
  },
  {
   "source": [
    "# Challenge 3 - which season\n",
    "Write a function called determine_season() which will ask the user to enter two integers representing a month and day and prints the season for that month and day.\n",
    "\n",
    "__Note__: for this exercise the season dates are:\n",
    "\n",
    "Winter December 21 to March 20<br>\n",
    "Spring March 21 to June 20<br>\n",
    "Summer June 21 to September 20<br>\n",
    "Autumn September 21 to December 20<br>\n",
    "__Test input__:<br>\n",
    "Input the month (e.g. January, February etc.): 7<br>\n",
    "Input the day: 31<br>\n",
    "\n",
    "__Expected output__:<br>\n",
    "Season is summer\n",
    "\n",
    "___Note: this will require multiple and or or operators and you should use brackets to help Python know which operations to do first___\n",
    "\n",
    "For an extra challenge you can check that the day is valid for the month"
   ],
   "cell_type": "markdown",
   "metadata": {}
  },
  {
   "cell_type": "code",
   "execution_count": null,
   "metadata": {},
   "outputs": [],
   "source": [
    "import datetime\n",
    "\n",
    "def determine_season():\n",
    "    month = int(input(\"please enter the month as a number: \"))\n",
    "    day = int(input(\"please enter the day as a number: \"))\n",
    "    year = 2020\n",
    "\n",
    "    winter_start = datetime.datetime(year, 12, 21)\n",
    "    spring_start = datetime.datetime(year, 3, 21)\n",
    "    summer_start = datetime.datetime(year, 6, 21)\n",
    "    autumn_start = datetime.datetime(year, 9, 21)\n",
    "    user_date = datetime.datetime(year, month, day)\n",
    "\n",
    "    season = \"Undertermined\"\n",
    "    if winter_start < user_date < spring_start:\n",
    "        season = \"Winter\"\n",
    "    elif spring_start < user_date < summer_start:\n",
    "        season = \"Spring\"\n",
    "    elif summer_start < user_date < autumn_start:\n",
    "        season = \"Summer\"\n",
    "    elif autumn_start < user_date < winter_start:\n",
    "        season = \"Autumn\"\n",
    "    \n",
    "    print(\"User entered: \", user_date)\n",
    "    print(\"Season is\", season)\n",
    "\n",
    "determine_season()"
   ]
  },
  {
   "source": [
    "# Write a function called show_special_numbers() which will:\n",
    "\n",
    "display the following menu\n",
    "What value would you like to see?\n",
    "\n",
    "* Pi\n",
    "* Plank’s constant\n",
    "* E\n",
    "* Square root of 2\n",
    "* Quit the program\n",
    "\n",
    "ask the user to input which value they would like to see by typing a number between 1 - 5\n",
    "read and process the choice while the user selects anything other than 5 (Quit the program)\n",
    "To process the choice:\n",
    "<br>\n",
    "if the number is 1 - print 3.14159265359<br>\n",
    "if the number is 2 - print 6.62607004 × 10-34 (in Python this would be written 6.62607004E-34<br>\n",
    "if the number is 3 - print 2.71828<br>\n",
    "if the number is 4 - print 1.414<br>\n",
    "if the number is 5 - print the message (\"Thank you for using this program\")<br>\n",
    "if the number is anything else - print \"Invalid choice\"<br>\n",
    "The program will print the message associated with the menu choice and will then display the menu again and ask the user to select a choice.\n",
    "\n",
    "When the user enters 5, the program should stop repeating.\n",
    "\n",
    "Test input:<br>\n",
    "1<br>\n",
    "4<br>\n",
    "6<br>\n",
    "5<br>\n",
    "\n",
    "Expected output:\n",
    "3.14159265359<br>\n",
    "1.414<br>\n",
    "Invalid choice<br>\n",
    "Thank you for using this program<br>"
   ],
   "cell_type": "markdown",
   "metadata": {}
  },
  {
   "cell_type": "code",
   "execution_count": null,
   "metadata": {},
   "outputs": [],
   "source": [
    "def show_special_numbers():\n",
    "    menu = \"\"\"\n",
    "1. Pi\n",
    "2. Plank’s constant\n",
    "3. E\n",
    "4. Square root of 2\n",
    "5. Quit the program    \n",
    "    \"\"\"\n",
    "\n",
    "    while True:\n",
    "        option = int(input(menu))\n",
    "\n",
    "        if option == 1:\n",
    "            print(3.14159265359)\n",
    "        elif option == 2:\n",
    "            print(6.62607004E-34)\n",
    "        elif option == 3:\n",
    "            print(2.71828)\n",
    "        elif option == 4:\n",
    "            print(1.414)\n",
    "        elif option == 5:\n",
    "            print(\"Thank you for using this program\")\n",
    "            break\n",
    "        else:\n",
    "            print(\"Invalid Choice\")\n",
    "\n",
    "\n",
    "\n",
    "show_special_numbers()"
   ]
  },
  {
   "source": [
    "# Challenge 5 - perfect numbers\n",
    "Write a function called check_perfect() which checks whether a given number is perfect or not.\n",
    "\n",
    "a perfect number is a positive integer that is equal to the sum of its positive factors (factors > 0) excluding the number itself.\n",
    "it is also half the sum of all positive factors including itself\n",
    "For example:<br>\n",
    "6 is a perfect number. It's only factors are 1, 2 & 3.<br>\n",
    "1 + 2 + 3 = 6<br>\n",
    "(1 + 2 + 3 + 6)/2 =6<br>\n",
    "\n",
    "Your function will:<br>\n",
    "\n",
    "ask the user to input a number<br>\n",
    "find all of the given numbers that are positive factors, adding them together as it goes through the loop<br>\n",
    "check whether number is perfect or not (both checks)<br>\n",
    "print either number is perfect or number is not perfect<br>\n",
    "\n",
    "__Test input:__<br>\n",
    "6<br>\n",
    "23<br>\n",
    "28<br>\n",
    "\n",
    "__Expected output:__<br>\n",
    "6 is perfect<br>\n",
    "23 is not perfect<br>\n",
    "28 is perfect<br>"
   ],
   "cell_type": "markdown",
   "metadata": {}
  },
  {
   "cell_type": "code",
   "execution_count": null,
   "metadata": {},
   "outputs": [],
   "source": [
    "def check_perfect():\n",
    "    number = int(input(\"Enter a number: \"))\n",
    "    print(\"Checking if\", number, \"is a perfect number.\")\n",
    "    counter = 0\n",
    "    total = 0\n",
    "    r_total = 0\n",
    "    factors = []\n",
    "\n",
    "    while total < number:\n",
    "        counter += 1\n",
    "        r_total += counter        \n",
    "\n",
    "        factors.append(counter)\n",
    "        total = sum(factors)\n",
    "\n",
    "    if total == number and (r_total + number) / 2 == number:\n",
    "        print(number, \"is a perfect number.\")\n",
    "    else:\n",
    "        print(number, \"is not a perfect number.\")\n",
    "\n",
    "        \n",
    "    print(\"counter\", counter)\n",
    "    print(\"factors\", factors)\n",
    "    print(\"total\", total)\n",
    "    print(\"r_total\", r_total)\n",
    "\n",
    "check_perfect()"
   ]
  },
  {
   "cell_type": "code",
   "execution_count": null,
   "metadata": {},
   "outputs": [],
   "source": [
    "def check_perfect():\n",
    "    # ask the user for whole positive number \n",
    "    number = int(input(\"Enter a number: \"))\n",
    "    # initialize a counter and a running total\n",
    "    counter = 0\n",
    "    running_total = 0\n",
    "\n",
    "    # create your while loop with the condition:\n",
    "    # running total is lower than the user input\n",
    "    while running_total < number:\n",
    "        # increment the counter by 1\n",
    "        counter += 1\n",
    "        # add the new counter value to the running total \n",
    "        running_total += counter        \n",
    "\n",
    "    # once outside the while loop check the following 2 conditions in a single if else\n",
    "    # the running total must be equal to the user input AND\n",
    "    # the running total plus the user input divided by 2 must be equal to the user input\n",
    "    # if the condition are matched print number + \"is a perfect number\"\n",
    "    # else print number + \"is not a perfect number\"\n",
    "    if running_total == number and (running_total + number) / 2 == number:\n",
    "        print(number, \"is a perfect number.\")\n",
    "    else:\n",
    "        print(number, \"is not a perfect number.\")\n",
    "\n",
    "check_perfect()"
   ]
  },
  {
   "cell_type": "code",
   "execution_count": 5,
   "metadata": {},
   "outputs": [
    {
     "output_type": "stream",
     "name": "stdout",
     "text": [
      "1\n2\nfizz\n4\nbuzz\nfizz\n7\n8\nfizz\nbuzz\n11\nfizz\n13\n14\nfizzbuzz\n16\n17\nfizz\n19\nbuzz\nfizz\n22\n23\nfizz\nbuzz\n26\nfizz\n28\n29\nfizzbuzz\n"
     ]
    }
   ],
   "source": [
    "def fizz_buzz(max):\n",
    "    for num in range(1, max+1):\n",
    "        if num % 3 == 0 and num % 5 == 0:\n",
    "            print(\"fizzbuzz\")\n",
    "        elif num % 3 == 0:\n",
    "            print(\"fizz\")\n",
    "        elif num % 5 == 0:\n",
    "            print(\"buzz\")\n",
    "        else:\n",
    "            print(num)\n",
    "\n",
    "fizz_buzz(30)"
   ]
  },
  {
   "cell_type": "code",
   "execution_count": null,
   "metadata": {},
   "outputs": [],
   "source": [
    "def get_largest_change(level1, level2, level3, level4, level5):\n",
    "    #  add your code below here to find the highest change from one year to the next, then run to test it\n",
    "    levels = [level1, level2, level3, level4, level5]\n",
    "    level_count = len(levels)\n",
    "    max = 0\n",
    "\n",
    "    for index, value in enumerate(levels, start=0):\n",
    "        within_inbound = index < len(levels) - 1\n",
    "        if within_inbound:\n",
    "            next_level = levels[index + 1]\n",
    "            diff = abs(curr_level - next_level)\n",
    "            max = diff if diff > max else max\n",
    "\n",
    "    return max\n",
    "    \n",
    "if get_largest_change(8.586614164, 8.901574794, 8.96456692, 9.326771643999999, 8.980314951) == 0.3622047239999997:\n",
    "  print(\"Test 1 passed\")\n",
    "else:\n",
    "  print(\"Test 1 failed\")  "
   ]
  },
  {
   "source": [
    "# Exercise 9 - find factorial\n",
    "Write a function called calculate_factorial(num) which will:\n",
    "\n",
    "if num is negative set factorial to -1<br>\n",
    "if num isn't negative, if it is 0 then set factorial to 1<br>\n",
    "if num isn't 0 then calculate factorial (multiply the numbers from num down to 1<br>\n",
    "return factorial.<br>\n",
    "\n",
    "__Test inputs:__<br>\n",
    "calculate_factorial(5)<br>\n",
    "calculate_factorial(-5)<br>\n",
    "calculate_factorial(0)<br>\n",
    "\n",
    "__Expected outputs:__<br>\n",
    "120<br>\n",
    "-1<br>\n",
    "1<br>"
   ],
   "cell_type": "markdown",
   "metadata": {}
  },
  {
   "cell_type": "code",
   "execution_count": 27,
   "metadata": {},
   "outputs": [
    {
     "output_type": "stream",
     "name": "stdout",
     "text": [
      "1 * 1 = 1\n2 * 1 = 2\n3 * 2 = 6\n4 * 6 = 24\n5 * 24 = 120\n120\n-1\n1\n"
     ]
    }
   ],
   "source": [
    "def calculate_factorial(num):\n",
    "    factorial = 1\n",
    "    if num < 0:\n",
    "        factorial = -1\n",
    "    elif num == 0:\n",
    "        factorial = 1\n",
    "    else:\n",
    "        # for n in range(num):\n",
    "        for n in range(1, num + 1):\n",
    "            print(f'{n} * {factorial} = {n * factorial}')\n",
    "            factorial *= n\n",
    "\n",
    "    return factorial\n",
    "\n",
    "print(calculate_factorial(5))\n",
    "print(calculate_factorial(-5))\n",
    "print(calculate_factorial(0))"
   ]
  },
  {
   "cell_type": "code",
   "execution_count": 34,
   "metadata": {},
   "outputs": [
    {
     "output_type": "stream",
     "name": "stdout",
     "text": [
      "[1, 2, 3, 4, 5]\n15\n"
     ]
    }
   ],
   "source": [
    "number = 5\n",
    "fact = 1\n",
    "# for i in range(1, number + 1):\n",
    "#     fact = fact * i\n",
    "facts = [fact * n for n in range(1, number + 1)]\n",
    "print(facts)\n",
    "print(sum(facts))"
   ]
  },
  {
   "cell_type": "code",
   "execution_count": 23,
   "metadata": {},
   "outputs": [
    {
     "output_type": "stream",
     "name": "stdout",
     "text": [
      "Remaining value: 5\nRemaining value: 4\nRemaining value: 3\nRemaining value: 2\nRemaining value: 1\n120\n-1\n1\n"
     ]
    }
   ],
   "source": [
    "def calculate_factorial(num):\n",
    "    if num == 0:\n",
    "        return 1\n",
    "    if num < 0:\n",
    "        return -1\n",
    "    if num > 0:\n",
    "        print(f'Remaining value: {num}')\n",
    "        return num * calculate_factorial(num - 1)\n",
    "\n",
    "print(calculate_factorial(5))\n",
    "print(calculate_factorial(-5))    \n",
    "print(calculate_factorial(0))"
   ]
  }
 ]
}