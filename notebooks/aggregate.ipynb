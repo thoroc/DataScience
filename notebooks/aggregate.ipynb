{
 "metadata": {
  "language_info": {
   "codemirror_mode": {
    "name": "ipython",
    "version": 3
   },
   "file_extension": ".py",
   "mimetype": "text/x-python",
   "name": "python",
   "nbconvert_exporter": "python",
   "pygments_lexer": "ipython3",
   "version": "3.9.0"
  },
  "orig_nbformat": 2,
  "kernelspec": {
   "name": "pythonjvsc74a57bd0f986b2146d1d979e0b59e1ce291b438a192131f5cf93776136015019779e7c2f",
   "display_name": "Python 3.9.0  ('.venv': venv)"
  },
  "metadata": {
   "interpreter": {
    "hash": "f986b2146d1d979e0b59e1ce291b438a192131f5cf93776136015019779e7c2f"
   }
  }
 },
 "nbformat": 4,
 "nbformat_minor": 2,
 "cells": [
  {
   "source": [
    "https://stackoverflow.com/questions/53781634/aggregation-in-pandas"
   ],
   "cell_type": "markdown",
   "metadata": {}
  },
  {
   "cell_type": "code",
   "execution_count": 1,
   "metadata": {},
   "outputs": [],
   "source": [
    "import pandas as pd\n",
    "import numpy as np"
   ]
  },
  {
   "source": [
    "# Question 1\n",
    "## How to perform aggregation with pandas ?\n",
    "Expanded aggregation documentation: http://pandas.pydata.org/pandas-docs/stable/groupby.html#aggregation\n",
    "\n",
    "Aggregating functions are the ones that reduce the dimension of the returned objects. It means output Series/DataFrame have less or same rows like original. Some common aggregating functions are tabulated below:\n",
    " \n",
    "\n",
    "|Function    |Description|\n",
    "|------------|-----------|\n",
    "|mean()      |Compute mean of groups|\n",
    "|sum()       |Compute sum of group values|\n",
    "|size()      |Compute group sizes|\n",
    "|count()     |Compute count of group|\n",
    "|std()       |Standard deviation of groups|\n",
    "|var()       |Compute variance of groups|\n",
    "|sem()       |Standard error of the mean of groups|\n",
    "|describe()  |Generates descriptive statistics|\n",
    "|first()     |Compute first of group values|\n",
    "|last()      |Compute last of group values|\n",
    "|nth()       |Take nth value, or a subset if n is a list|\n",
    "|min()       |Compute min of group values|\n",
    "|max()       |Compute max of group values|\n",
    "```"
   ],
   "cell_type": "markdown",
   "metadata": {}
  },
  {
   "cell_type": "code",
   "execution_count": 2,
   "metadata": {},
   "outputs": [
    {
     "output_type": "display_data",
     "data": {
      "text/plain": "     A      B  C  D  E\n0  foo    two  1  0  4\n1  baa    two  1  1  0\n2  foo  three  2  0  0\n3  foo  three  3  2  4\n4  foo  three  3  4  1",
      "text/html": "<div>\n<style scoped>\n    .dataframe tbody tr th:only-of-type {\n        vertical-align: middle;\n    }\n\n    .dataframe tbody tr th {\n        vertical-align: top;\n    }\n\n    .dataframe thead th {\n        text-align: right;\n    }\n</style>\n<table border=\"1\" class=\"dataframe\">\n  <thead>\n    <tr style=\"text-align: right;\">\n      <th></th>\n      <th>A</th>\n      <th>B</th>\n      <th>C</th>\n      <th>D</th>\n      <th>E</th>\n    </tr>\n  </thead>\n  <tbody>\n    <tr>\n      <th>0</th>\n      <td>foo</td>\n      <td>two</td>\n      <td>1</td>\n      <td>0</td>\n      <td>4</td>\n    </tr>\n    <tr>\n      <th>1</th>\n      <td>baa</td>\n      <td>two</td>\n      <td>1</td>\n      <td>1</td>\n      <td>0</td>\n    </tr>\n    <tr>\n      <th>2</th>\n      <td>foo</td>\n      <td>three</td>\n      <td>2</td>\n      <td>0</td>\n      <td>0</td>\n    </tr>\n    <tr>\n      <th>3</th>\n      <td>foo</td>\n      <td>three</td>\n      <td>3</td>\n      <td>2</td>\n      <td>4</td>\n    </tr>\n    <tr>\n      <th>4</th>\n      <td>foo</td>\n      <td>three</td>\n      <td>3</td>\n      <td>4</td>\n      <td>1</td>\n    </tr>\n  </tbody>\n</table>\n</div>"
     },
     "metadata": {}
    }
   ],
   "source": [
    "np.random.seed(123)\n",
    "\n",
    "choices_a = ['foo', 'baa']\n",
    "choices_b = ['one', 'two', 'three']\n",
    "sample_size = 50\n",
    "\n",
    "df = pd.DataFrame({\n",
    "    'A' : np.random.choice(choices_a, sample_size),\n",
    "    'B' : np.random.choice(choices_b, sample_size),\n",
    "    'C' : np.random.randint(5, size=sample_size),\n",
    "    'D' : np.random.randint(5, size=sample_size),\n",
    "    'E' : np.random.randint(5, size=sample_size)\n",
    "})\n",
    "\n",
    "display(df.head())"
   ]
  },
  {
   "source": [
    "Aggregation by filtered columns and cython implemented functions: http://pandas.pydata.org/pandas-docs/stable/groupby.html#cython-optimized-aggregation-functions"
   ],
   "cell_type": "markdown",
   "metadata": {}
  },
  {
   "cell_type": "code",
   "execution_count": 3,
   "metadata": {},
   "outputs": [
    {
     "output_type": "display_data",
     "data": {
      "text/plain": "     A      B   C\n0  baa    one   7\n1  baa  three  15\n2  baa    two  19\n3  foo    one  17\n4  foo  three  27\n5  foo    two  21",
      "text/html": "<div>\n<style scoped>\n    .dataframe tbody tr th:only-of-type {\n        vertical-align: middle;\n    }\n\n    .dataframe tbody tr th {\n        vertical-align: top;\n    }\n\n    .dataframe thead th {\n        text-align: right;\n    }\n</style>\n<table border=\"1\" class=\"dataframe\">\n  <thead>\n    <tr style=\"text-align: right;\">\n      <th></th>\n      <th>A</th>\n      <th>B</th>\n      <th>C</th>\n    </tr>\n  </thead>\n  <tbody>\n    <tr>\n      <th>0</th>\n      <td>baa</td>\n      <td>one</td>\n      <td>7</td>\n    </tr>\n    <tr>\n      <th>1</th>\n      <td>baa</td>\n      <td>three</td>\n      <td>15</td>\n    </tr>\n    <tr>\n      <th>2</th>\n      <td>baa</td>\n      <td>two</td>\n      <td>19</td>\n    </tr>\n    <tr>\n      <th>3</th>\n      <td>foo</td>\n      <td>one</td>\n      <td>17</td>\n    </tr>\n    <tr>\n      <th>4</th>\n      <td>foo</td>\n      <td>three</td>\n      <td>27</td>\n    </tr>\n    <tr>\n      <th>5</th>\n      <td>foo</td>\n      <td>two</td>\n      <td>21</td>\n    </tr>\n  </tbody>\n</table>\n</div>"
     },
     "metadata": {}
    }
   ],
   "source": [
    "df1 = df.groupby(['A', 'B'], as_index=False)['C'].sum()\n",
    "\n",
    "display(df1)"
   ]
  },
  {
   "source": [
    "Aggregate function is using for all columns without specified in `groupby` function, here `A, B` columns:"
   ],
   "cell_type": "markdown",
   "metadata": {}
  },
  {
   "cell_type": "code",
   "execution_count": 4,
   "metadata": {},
   "outputs": [
    {
     "output_type": "display_data",
     "data": {
      "text/plain": "     A      B   C   D   E\n0  baa    one   7  13  16\n1  baa  three  15  20  16\n2  baa    two  19  16  14\n3  foo    one  17  15  16\n4  foo  three  27  19  23\n5  foo    two  21  15  18",
      "text/html": "<div>\n<style scoped>\n    .dataframe tbody tr th:only-of-type {\n        vertical-align: middle;\n    }\n\n    .dataframe tbody tr th {\n        vertical-align: top;\n    }\n\n    .dataframe thead th {\n        text-align: right;\n    }\n</style>\n<table border=\"1\" class=\"dataframe\">\n  <thead>\n    <tr style=\"text-align: right;\">\n      <th></th>\n      <th>A</th>\n      <th>B</th>\n      <th>C</th>\n      <th>D</th>\n      <th>E</th>\n    </tr>\n  </thead>\n  <tbody>\n    <tr>\n      <th>0</th>\n      <td>baa</td>\n      <td>one</td>\n      <td>7</td>\n      <td>13</td>\n      <td>16</td>\n    </tr>\n    <tr>\n      <th>1</th>\n      <td>baa</td>\n      <td>three</td>\n      <td>15</td>\n      <td>20</td>\n      <td>16</td>\n    </tr>\n    <tr>\n      <th>2</th>\n      <td>baa</td>\n      <td>two</td>\n      <td>19</td>\n      <td>16</td>\n      <td>14</td>\n    </tr>\n    <tr>\n      <th>3</th>\n      <td>foo</td>\n      <td>one</td>\n      <td>17</td>\n      <td>15</td>\n      <td>16</td>\n    </tr>\n    <tr>\n      <th>4</th>\n      <td>foo</td>\n      <td>three</td>\n      <td>27</td>\n      <td>19</td>\n      <td>23</td>\n    </tr>\n    <tr>\n      <th>5</th>\n      <td>foo</td>\n      <td>two</td>\n      <td>21</td>\n      <td>15</td>\n      <td>18</td>\n    </tr>\n  </tbody>\n</table>\n</div>"
     },
     "metadata": {}
    }
   ],
   "source": [
    "df2 = df.groupby(['A', 'B'], as_index=False).sum()\n",
    "\n",
    "display(df2)"
   ]
  },
  {
   "source": [
    "You can also specify only some columns used for aggregation in a list after `groupby` function:"
   ],
   "cell_type": "markdown",
   "metadata": {}
  },
  {
   "cell_type": "code",
   "execution_count": 5,
   "metadata": {},
   "outputs": [
    {
     "output_type": "stream",
     "name": "stderr",
     "text": [
      "<ipython-input-5-113ff2f8afe8>:1: FutureWarning: Indexing with multiple keys (implicitly converted to a tuple of keys) will be deprecated, use a list instead.\n  df3 = df.groupby(['A', 'B'], as_index=False)['C','D'].sum()\n"
     ]
    },
    {
     "output_type": "display_data",
     "data": {
      "text/plain": "     A      B   C   D\n0  baa    one   7  13\n1  baa  three  15  20\n2  baa    two  19  16\n3  foo    one  17  15\n4  foo  three  27  19\n5  foo    two  21  15",
      "text/html": "<div>\n<style scoped>\n    .dataframe tbody tr th:only-of-type {\n        vertical-align: middle;\n    }\n\n    .dataframe tbody tr th {\n        vertical-align: top;\n    }\n\n    .dataframe thead th {\n        text-align: right;\n    }\n</style>\n<table border=\"1\" class=\"dataframe\">\n  <thead>\n    <tr style=\"text-align: right;\">\n      <th></th>\n      <th>A</th>\n      <th>B</th>\n      <th>C</th>\n      <th>D</th>\n    </tr>\n  </thead>\n  <tbody>\n    <tr>\n      <th>0</th>\n      <td>baa</td>\n      <td>one</td>\n      <td>7</td>\n      <td>13</td>\n    </tr>\n    <tr>\n      <th>1</th>\n      <td>baa</td>\n      <td>three</td>\n      <td>15</td>\n      <td>20</td>\n    </tr>\n    <tr>\n      <th>2</th>\n      <td>baa</td>\n      <td>two</td>\n      <td>19</td>\n      <td>16</td>\n    </tr>\n    <tr>\n      <th>3</th>\n      <td>foo</td>\n      <td>one</td>\n      <td>17</td>\n      <td>15</td>\n    </tr>\n    <tr>\n      <th>4</th>\n      <td>foo</td>\n      <td>three</td>\n      <td>27</td>\n      <td>19</td>\n    </tr>\n    <tr>\n      <th>5</th>\n      <td>foo</td>\n      <td>two</td>\n      <td>21</td>\n      <td>15</td>\n    </tr>\n  </tbody>\n</table>\n</div>"
     },
     "metadata": {}
    }
   ],
   "source": [
    "df3 = df.groupby(['A', 'B'], as_index=False)['C','D'].sum()\n",
    "\n",
    "display(df3)"
   ]
  },
  {
   "source": [
    "Same results by using function DataFrameGroupBy.agg: https://pandas.pydata.org/pandas-docs/stable/reference/api/pandas.core.groupby.DataFrameGroupBy.aggregate.html"
   ],
   "cell_type": "markdown",
   "metadata": {}
  },
  {
   "cell_type": "code",
   "execution_count": 6,
   "metadata": {},
   "outputs": [
    {
     "output_type": "display_data",
     "data": {
      "text/plain": "     A      B   C\n0  baa    one   7\n1  baa  three  15\n2  baa    two  19\n3  foo    one  17\n4  foo  three  27\n5  foo    two  21",
      "text/html": "<div>\n<style scoped>\n    .dataframe tbody tr th:only-of-type {\n        vertical-align: middle;\n    }\n\n    .dataframe tbody tr th {\n        vertical-align: top;\n    }\n\n    .dataframe thead th {\n        text-align: right;\n    }\n</style>\n<table border=\"1\" class=\"dataframe\">\n  <thead>\n    <tr style=\"text-align: right;\">\n      <th></th>\n      <th>A</th>\n      <th>B</th>\n      <th>C</th>\n    </tr>\n  </thead>\n  <tbody>\n    <tr>\n      <th>0</th>\n      <td>baa</td>\n      <td>one</td>\n      <td>7</td>\n    </tr>\n    <tr>\n      <th>1</th>\n      <td>baa</td>\n      <td>three</td>\n      <td>15</td>\n    </tr>\n    <tr>\n      <th>2</th>\n      <td>baa</td>\n      <td>two</td>\n      <td>19</td>\n    </tr>\n    <tr>\n      <th>3</th>\n      <td>foo</td>\n      <td>one</td>\n      <td>17</td>\n    </tr>\n    <tr>\n      <th>4</th>\n      <td>foo</td>\n      <td>three</td>\n      <td>27</td>\n    </tr>\n    <tr>\n      <th>5</th>\n      <td>foo</td>\n      <td>two</td>\n      <td>21</td>\n    </tr>\n  </tbody>\n</table>\n</div>"
     },
     "metadata": {}
    }
   ],
   "source": [
    "df1 = df.groupby(['A', 'B'], as_index=False)['C'].agg('sum')\n",
    "\n",
    "display(df1)"
   ]
  },
  {
   "cell_type": "code",
   "execution_count": 7,
   "metadata": {},
   "outputs": [
    {
     "output_type": "display_data",
     "data": {
      "text/plain": "     A      B   C   D   E\n0  baa    one   7  13  16\n1  baa  three  15  20  16\n2  baa    two  19  16  14\n3  foo    one  17  15  16\n4  foo  three  27  19  23\n5  foo    two  21  15  18",
      "text/html": "<div>\n<style scoped>\n    .dataframe tbody tr th:only-of-type {\n        vertical-align: middle;\n    }\n\n    .dataframe tbody tr th {\n        vertical-align: top;\n    }\n\n    .dataframe thead th {\n        text-align: right;\n    }\n</style>\n<table border=\"1\" class=\"dataframe\">\n  <thead>\n    <tr style=\"text-align: right;\">\n      <th></th>\n      <th>A</th>\n      <th>B</th>\n      <th>C</th>\n      <th>D</th>\n      <th>E</th>\n    </tr>\n  </thead>\n  <tbody>\n    <tr>\n      <th>0</th>\n      <td>baa</td>\n      <td>one</td>\n      <td>7</td>\n      <td>13</td>\n      <td>16</td>\n    </tr>\n    <tr>\n      <th>1</th>\n      <td>baa</td>\n      <td>three</td>\n      <td>15</td>\n      <td>20</td>\n      <td>16</td>\n    </tr>\n    <tr>\n      <th>2</th>\n      <td>baa</td>\n      <td>two</td>\n      <td>19</td>\n      <td>16</td>\n      <td>14</td>\n    </tr>\n    <tr>\n      <th>3</th>\n      <td>foo</td>\n      <td>one</td>\n      <td>17</td>\n      <td>15</td>\n      <td>16</td>\n    </tr>\n    <tr>\n      <th>4</th>\n      <td>foo</td>\n      <td>three</td>\n      <td>27</td>\n      <td>19</td>\n      <td>23</td>\n    </tr>\n    <tr>\n      <th>5</th>\n      <td>foo</td>\n      <td>two</td>\n      <td>21</td>\n      <td>15</td>\n      <td>18</td>\n    </tr>\n  </tbody>\n</table>\n</div>"
     },
     "metadata": {}
    }
   ],
   "source": [
    "df2 = df.groupby(['A', 'B'], as_index=False).agg('sum')\n",
    "\n",
    "display(df2)"
   ]
  },
  {
   "source": [
    "For multiple functions applied for one column use a list of `tuple`s - names of new columns and aggregated functions:"
   ],
   "cell_type": "markdown",
   "metadata": {}
  },
  {
   "cell_type": "code",
   "execution_count": 8,
   "metadata": {},
   "outputs": [
    {
     "output_type": "display_data",
     "data": {
      "text/plain": "     A      B   average  total\n0  baa    one  1.400000      7\n1  baa  three  1.875000     15\n2  baa    two  2.111111     19\n3  foo    one  1.888889     17\n4  foo  three  2.454545     27\n5  foo    two  2.625000     21",
      "text/html": "<div>\n<style scoped>\n    .dataframe tbody tr th:only-of-type {\n        vertical-align: middle;\n    }\n\n    .dataframe tbody tr th {\n        vertical-align: top;\n    }\n\n    .dataframe thead th {\n        text-align: right;\n    }\n</style>\n<table border=\"1\" class=\"dataframe\">\n  <thead>\n    <tr style=\"text-align: right;\">\n      <th></th>\n      <th>A</th>\n      <th>B</th>\n      <th>average</th>\n      <th>total</th>\n    </tr>\n  </thead>\n  <tbody>\n    <tr>\n      <th>0</th>\n      <td>baa</td>\n      <td>one</td>\n      <td>1.400000</td>\n      <td>7</td>\n    </tr>\n    <tr>\n      <th>1</th>\n      <td>baa</td>\n      <td>three</td>\n      <td>1.875000</td>\n      <td>15</td>\n    </tr>\n    <tr>\n      <th>2</th>\n      <td>baa</td>\n      <td>two</td>\n      <td>2.111111</td>\n      <td>19</td>\n    </tr>\n    <tr>\n      <th>3</th>\n      <td>foo</td>\n      <td>one</td>\n      <td>1.888889</td>\n      <td>17</td>\n    </tr>\n    <tr>\n      <th>4</th>\n      <td>foo</td>\n      <td>three</td>\n      <td>2.454545</td>\n      <td>27</td>\n    </tr>\n    <tr>\n      <th>5</th>\n      <td>foo</td>\n      <td>two</td>\n      <td>2.625000</td>\n      <td>21</td>\n    </tr>\n  </tbody>\n</table>\n</div>"
     },
     "metadata": {}
    }
   ],
   "source": [
    "df4 = (df.groupby(['A', 'B'])['C'].agg([('average','mean'),('total','sum')]).reset_index())\n",
    "\n",
    "display(df4)"
   ]
  },
  {
   "source": [
    "If want to pass multiple functions is possible pass `list` of `tuple`s:"
   ],
   "cell_type": "markdown",
   "metadata": {}
  },
  {
   "cell_type": "code",
   "execution_count": 9,
   "metadata": {},
   "outputs": [
    {
     "output_type": "display_data",
     "data": {
      "text/plain": "                  C               D               E      \n            average total   average total   average total\nA   B                                                    \nbaa one    1.400000     7  2.600000    13  3.200000    16\n    three  1.875000    15  2.500000    20  2.000000    16\n    two    2.111111    19  1.777778    16  1.555556    14\nfoo one    1.888889    17  1.666667    15  1.777778    16\n    three  2.454545    27  1.727273    19  2.090909    23\n    two    2.625000    21  1.875000    15  2.250000    18",
      "text/html": "<div>\n<style scoped>\n    .dataframe tbody tr th:only-of-type {\n        vertical-align: middle;\n    }\n\n    .dataframe tbody tr th {\n        vertical-align: top;\n    }\n\n    .dataframe thead tr th {\n        text-align: left;\n    }\n\n    .dataframe thead tr:last-of-type th {\n        text-align: right;\n    }\n</style>\n<table border=\"1\" class=\"dataframe\">\n  <thead>\n    <tr>\n      <th></th>\n      <th></th>\n      <th colspan=\"2\" halign=\"left\">C</th>\n      <th colspan=\"2\" halign=\"left\">D</th>\n      <th colspan=\"2\" halign=\"left\">E</th>\n    </tr>\n    <tr>\n      <th></th>\n      <th></th>\n      <th>average</th>\n      <th>total</th>\n      <th>average</th>\n      <th>total</th>\n      <th>average</th>\n      <th>total</th>\n    </tr>\n    <tr>\n      <th>A</th>\n      <th>B</th>\n      <th></th>\n      <th></th>\n      <th></th>\n      <th></th>\n      <th></th>\n      <th></th>\n    </tr>\n  </thead>\n  <tbody>\n    <tr>\n      <th rowspan=\"3\" valign=\"top\">baa</th>\n      <th>one</th>\n      <td>1.400000</td>\n      <td>7</td>\n      <td>2.600000</td>\n      <td>13</td>\n      <td>3.200000</td>\n      <td>16</td>\n    </tr>\n    <tr>\n      <th>three</th>\n      <td>1.875000</td>\n      <td>15</td>\n      <td>2.500000</td>\n      <td>20</td>\n      <td>2.000000</td>\n      <td>16</td>\n    </tr>\n    <tr>\n      <th>two</th>\n      <td>2.111111</td>\n      <td>19</td>\n      <td>1.777778</td>\n      <td>16</td>\n      <td>1.555556</td>\n      <td>14</td>\n    </tr>\n    <tr>\n      <th rowspan=\"3\" valign=\"top\">foo</th>\n      <th>one</th>\n      <td>1.888889</td>\n      <td>17</td>\n      <td>1.666667</td>\n      <td>15</td>\n      <td>1.777778</td>\n      <td>16</td>\n    </tr>\n    <tr>\n      <th>three</th>\n      <td>2.454545</td>\n      <td>27</td>\n      <td>1.727273</td>\n      <td>19</td>\n      <td>2.090909</td>\n      <td>23</td>\n    </tr>\n    <tr>\n      <th>two</th>\n      <td>2.625000</td>\n      <td>21</td>\n      <td>1.875000</td>\n      <td>15</td>\n      <td>2.250000</td>\n      <td>18</td>\n    </tr>\n  </tbody>\n</table>\n</div>"
     },
     "metadata": {}
    }
   ],
   "source": [
    "df5 = (df.groupby(['A', 'B']).agg([('average','mean'),('total','sum')]))\n",
    "\n",
    "display(df5)"
   ]
  },
  {
   "source": [
    "Then get `MultiIndex` in columns:"
   ],
   "cell_type": "markdown",
   "metadata": {}
  },
  {
   "cell_type": "code",
   "execution_count": 10,
   "metadata": {},
   "outputs": [
    {
     "output_type": "display_data",
     "data": {
      "text/plain": "MultiIndex([('C', 'average'),\n            ('C',   'total'),\n            ('D', 'average'),\n            ('D',   'total'),\n            ('E', 'average'),\n            ('E',   'total')],\n           )"
     },
     "metadata": {}
    }
   ],
   "source": [
    "display(df5.columns)"
   ]
  },
  {
   "source": [
    "And for converting to columns, flattening `MultiIndex` use `ma`p with `join`:"
   ],
   "cell_type": "markdown",
   "metadata": {}
  },
  {
   "cell_type": "code",
   "execution_count": 11,
   "metadata": {},
   "outputs": [
    {
     "output_type": "display_data",
     "data": {
      "text/plain": "     A      B  C_average  C_total  D_average  D_total  E_average  E_total\n0  baa    one   1.400000        7   2.600000       13   3.200000       16\n1  baa  three   1.875000       15   2.500000       20   2.000000       16\n2  baa    two   2.111111       19   1.777778       16   1.555556       14\n3  foo    one   1.888889       17   1.666667       15   1.777778       16\n4  foo  three   2.454545       27   1.727273       19   2.090909       23\n5  foo    two   2.625000       21   1.875000       15   2.250000       18",
      "text/html": "<div>\n<style scoped>\n    .dataframe tbody tr th:only-of-type {\n        vertical-align: middle;\n    }\n\n    .dataframe tbody tr th {\n        vertical-align: top;\n    }\n\n    .dataframe thead th {\n        text-align: right;\n    }\n</style>\n<table border=\"1\" class=\"dataframe\">\n  <thead>\n    <tr style=\"text-align: right;\">\n      <th></th>\n      <th>A</th>\n      <th>B</th>\n      <th>C_average</th>\n      <th>C_total</th>\n      <th>D_average</th>\n      <th>D_total</th>\n      <th>E_average</th>\n      <th>E_total</th>\n    </tr>\n  </thead>\n  <tbody>\n    <tr>\n      <th>0</th>\n      <td>baa</td>\n      <td>one</td>\n      <td>1.400000</td>\n      <td>7</td>\n      <td>2.600000</td>\n      <td>13</td>\n      <td>3.200000</td>\n      <td>16</td>\n    </tr>\n    <tr>\n      <th>1</th>\n      <td>baa</td>\n      <td>three</td>\n      <td>1.875000</td>\n      <td>15</td>\n      <td>2.500000</td>\n      <td>20</td>\n      <td>2.000000</td>\n      <td>16</td>\n    </tr>\n    <tr>\n      <th>2</th>\n      <td>baa</td>\n      <td>two</td>\n      <td>2.111111</td>\n      <td>19</td>\n      <td>1.777778</td>\n      <td>16</td>\n      <td>1.555556</td>\n      <td>14</td>\n    </tr>\n    <tr>\n      <th>3</th>\n      <td>foo</td>\n      <td>one</td>\n      <td>1.888889</td>\n      <td>17</td>\n      <td>1.666667</td>\n      <td>15</td>\n      <td>1.777778</td>\n      <td>16</td>\n    </tr>\n    <tr>\n      <th>4</th>\n      <td>foo</td>\n      <td>three</td>\n      <td>2.454545</td>\n      <td>27</td>\n      <td>1.727273</td>\n      <td>19</td>\n      <td>2.090909</td>\n      <td>23</td>\n    </tr>\n    <tr>\n      <th>5</th>\n      <td>foo</td>\n      <td>two</td>\n      <td>2.625000</td>\n      <td>21</td>\n      <td>1.875000</td>\n      <td>15</td>\n      <td>2.250000</td>\n      <td>18</td>\n    </tr>\n  </tbody>\n</table>\n</div>"
     },
     "metadata": {}
    }
   ],
   "source": [
    "df5.columns = df5.columns.map('_'.join)\n",
    "df5 = df5.reset_index()\n",
    "\n",
    "display(df5)"
   ]
  },
  {
   "source": [
    "Another solution is pass list of aggregate functions, then flatten `MultiIndex` and for another columns names use `str.replace`: http://pandas.pydata.org/pandas-docs/stable/generated/pandas.Series.str.replace.html"
   ],
   "cell_type": "markdown",
   "metadata": {}
  },
  {
   "cell_type": "code",
   "execution_count": 12,
   "metadata": {},
   "outputs": [
    {
     "output_type": "display_data",
     "data": {
      "text/plain": "     A      B  C_average  C_total  D_average  D_total  E_average  E_total\n0  baa    one   1.400000        7   2.600000       13   3.200000       16\n1  baa  three   1.875000       15   2.500000       20   2.000000       16\n2  baa    two   2.111111       19   1.777778       16   1.555556       14\n3  foo    one   1.888889       17   1.666667       15   1.777778       16\n4  foo  three   2.454545       27   1.727273       19   2.090909       23\n5  foo    two   2.625000       21   1.875000       15   2.250000       18",
      "text/html": "<div>\n<style scoped>\n    .dataframe tbody tr th:only-of-type {\n        vertical-align: middle;\n    }\n\n    .dataframe tbody tr th {\n        vertical-align: top;\n    }\n\n    .dataframe thead th {\n        text-align: right;\n    }\n</style>\n<table border=\"1\" class=\"dataframe\">\n  <thead>\n    <tr style=\"text-align: right;\">\n      <th></th>\n      <th>A</th>\n      <th>B</th>\n      <th>C_average</th>\n      <th>C_total</th>\n      <th>D_average</th>\n      <th>D_total</th>\n      <th>E_average</th>\n      <th>E_total</th>\n    </tr>\n  </thead>\n  <tbody>\n    <tr>\n      <th>0</th>\n      <td>baa</td>\n      <td>one</td>\n      <td>1.400000</td>\n      <td>7</td>\n      <td>2.600000</td>\n      <td>13</td>\n      <td>3.200000</td>\n      <td>16</td>\n    </tr>\n    <tr>\n      <th>1</th>\n      <td>baa</td>\n      <td>three</td>\n      <td>1.875000</td>\n      <td>15</td>\n      <td>2.500000</td>\n      <td>20</td>\n      <td>2.000000</td>\n      <td>16</td>\n    </tr>\n    <tr>\n      <th>2</th>\n      <td>baa</td>\n      <td>two</td>\n      <td>2.111111</td>\n      <td>19</td>\n      <td>1.777778</td>\n      <td>16</td>\n      <td>1.555556</td>\n      <td>14</td>\n    </tr>\n    <tr>\n      <th>3</th>\n      <td>foo</td>\n      <td>one</td>\n      <td>1.888889</td>\n      <td>17</td>\n      <td>1.666667</td>\n      <td>15</td>\n      <td>1.777778</td>\n      <td>16</td>\n    </tr>\n    <tr>\n      <th>4</th>\n      <td>foo</td>\n      <td>three</td>\n      <td>2.454545</td>\n      <td>27</td>\n      <td>1.727273</td>\n      <td>19</td>\n      <td>2.090909</td>\n      <td>23</td>\n    </tr>\n    <tr>\n      <th>5</th>\n      <td>foo</td>\n      <td>two</td>\n      <td>2.625000</td>\n      <td>21</td>\n      <td>1.875000</td>\n      <td>15</td>\n      <td>2.250000</td>\n      <td>18</td>\n    </tr>\n  </tbody>\n</table>\n</div>"
     },
     "metadata": {}
    }
   ],
   "source": [
    "df5 = df.groupby(['A', 'B']).agg(['mean','sum'])\n",
    "    \n",
    "df5.columns = (df5.columns.map('_'.join)\n",
    "                  .str.replace('sum','total')\n",
    "                  .str.replace('mean','average'))\n",
    "df5 = df5.reset_index()\n",
    "\n",
    "display(df5)"
   ]
  },
  {
   "source": [
    "If want specified each column with aggregated function separately pass `dictionary`:"
   ],
   "cell_type": "markdown",
   "metadata": {}
  },
  {
   "cell_type": "code",
   "execution_count": 13,
   "metadata": {},
   "outputs": [
    {
     "output_type": "display_data",
     "data": {
      "text/plain": "     A      B  C_total  D_average\n0  baa    one        7   2.600000\n1  baa  three       15   2.500000\n2  baa    two       19   1.777778\n3  foo    one       17   1.666667\n4  foo  three       27   1.727273\n5  foo    two       21   1.875000",
      "text/html": "<div>\n<style scoped>\n    .dataframe tbody tr th:only-of-type {\n        vertical-align: middle;\n    }\n\n    .dataframe tbody tr th {\n        vertical-align: top;\n    }\n\n    .dataframe thead th {\n        text-align: right;\n    }\n</style>\n<table border=\"1\" class=\"dataframe\">\n  <thead>\n    <tr style=\"text-align: right;\">\n      <th></th>\n      <th>A</th>\n      <th>B</th>\n      <th>C_total</th>\n      <th>D_average</th>\n    </tr>\n  </thead>\n  <tbody>\n    <tr>\n      <th>0</th>\n      <td>baa</td>\n      <td>one</td>\n      <td>7</td>\n      <td>2.600000</td>\n    </tr>\n    <tr>\n      <th>1</th>\n      <td>baa</td>\n      <td>three</td>\n      <td>15</td>\n      <td>2.500000</td>\n    </tr>\n    <tr>\n      <th>2</th>\n      <td>baa</td>\n      <td>two</td>\n      <td>19</td>\n      <td>1.777778</td>\n    </tr>\n    <tr>\n      <th>3</th>\n      <td>foo</td>\n      <td>one</td>\n      <td>17</td>\n      <td>1.666667</td>\n    </tr>\n    <tr>\n      <th>4</th>\n      <td>foo</td>\n      <td>three</td>\n      <td>27</td>\n      <td>1.727273</td>\n    </tr>\n    <tr>\n      <th>5</th>\n      <td>foo</td>\n      <td>two</td>\n      <td>21</td>\n      <td>1.875000</td>\n    </tr>\n  </tbody>\n</table>\n</div>"
     },
     "metadata": {}
    }
   ],
   "source": [
    "df6 = (df.groupby(['A', 'B'], as_index=False).agg({'C':'sum','D':'mean'}).rename(columns={'C':'C_total', 'D':'D_average'}))\n",
    "\n",
    "display(df6)"
   ]
  },
  {
   "source": [
    "You can pass custom function too:"
   ],
   "cell_type": "markdown",
   "metadata": {}
  },
  {
   "cell_type": "code",
   "execution_count": 14,
   "metadata": {},
   "outputs": [
    {
     "output_type": "display_data",
     "data": {
      "text/plain": "     A      B  C_total  D_sum_first_and_last\n0  baa    one        7                     5\n1  baa  three       15                     6\n2  baa    two       19                     4\n3  foo    one       17                     4\n4  foo  three       27                     0\n5  foo    two       21                     4",
      "text/html": "<div>\n<style scoped>\n    .dataframe tbody tr th:only-of-type {\n        vertical-align: middle;\n    }\n\n    .dataframe tbody tr th {\n        vertical-align: top;\n    }\n\n    .dataframe thead th {\n        text-align: right;\n    }\n</style>\n<table border=\"1\" class=\"dataframe\">\n  <thead>\n    <tr style=\"text-align: right;\">\n      <th></th>\n      <th>A</th>\n      <th>B</th>\n      <th>C_total</th>\n      <th>D_sum_first_and_last</th>\n    </tr>\n  </thead>\n  <tbody>\n    <tr>\n      <th>0</th>\n      <td>baa</td>\n      <td>one</td>\n      <td>7</td>\n      <td>5</td>\n    </tr>\n    <tr>\n      <th>1</th>\n      <td>baa</td>\n      <td>three</td>\n      <td>15</td>\n      <td>6</td>\n    </tr>\n    <tr>\n      <th>2</th>\n      <td>baa</td>\n      <td>two</td>\n      <td>19</td>\n      <td>4</td>\n    </tr>\n    <tr>\n      <th>3</th>\n      <td>foo</td>\n      <td>one</td>\n      <td>17</td>\n      <td>4</td>\n    </tr>\n    <tr>\n      <th>4</th>\n      <td>foo</td>\n      <td>three</td>\n      <td>27</td>\n      <td>0</td>\n    </tr>\n    <tr>\n      <th>5</th>\n      <td>foo</td>\n      <td>two</td>\n      <td>21</td>\n      <td>4</td>\n    </tr>\n  </tbody>\n</table>\n</div>"
     },
     "metadata": {}
    }
   ],
   "source": [
    "def func(x):\n",
    "    return x.iat[0] + x.iat[-1]\n",
    "\n",
    "df7 = (df.groupby(['A', 'B'], as_index=False).agg({'C':'sum','D': func}).rename(columns={'C':'C_total', 'D':'D_sum_first_and_last'}))\n",
    "\n",
    "display(df7)"
   ]
  },
  {
   "source": [
    "# Question 2\n",
    "\n",
    "## No DataFrame after aggregation! What happened?\n",
    "Aggregation by 2 or more columns:"
   ],
   "cell_type": "markdown",
   "metadata": {}
  },
  {
   "cell_type": "code",
   "execution_count": 15,
   "metadata": {},
   "outputs": [
    {
     "output_type": "display_data",
     "data": {
      "text/plain": "A    B    \nbaa  one       7\n     three    15\n     two      19\nfoo  one      17\n     three    27\n     two      21\nName: C, dtype: int32"
     },
     "metadata": {}
    }
   ],
   "source": [
    "df1 = df.groupby(['A', 'B'])['C'].sum()\n",
    "\n",
    "display(df1)"
   ]
  },
  {
   "source": [
    "First check `Index` and `type` of pandas object:"
   ],
   "cell_type": "markdown",
   "metadata": {}
  },
  {
   "cell_type": "code",
   "execution_count": 16,
   "metadata": {},
   "outputs": [
    {
     "output_type": "display_data",
     "data": {
      "text/plain": "MultiIndex([('baa',   'one'),\n            ('baa', 'three'),\n            ('baa',   'two'),\n            ('foo',   'one'),\n            ('foo', 'three'),\n            ('foo',   'two')],\n           names=['A', 'B'])"
     },
     "metadata": {}
    }
   ],
   "source": [
    "display(df1.index)"
   ]
  },
  {
   "cell_type": "code",
   "execution_count": 17,
   "metadata": {},
   "outputs": [
    {
     "output_type": "display_data",
     "data": {
      "text/plain": "pandas.core.series.Series"
     },
     "metadata": {}
    }
   ],
   "source": [
    "display(type(df1))"
   ]
  },
  {
   "source": [
    "There are 2 solutions how get `MultiIndex Series` to columns:\n",
    "\n",
    "* add parameter `as_index=False`"
   ],
   "cell_type": "markdown",
   "metadata": {}
  },
  {
   "cell_type": "code",
   "execution_count": 18,
   "metadata": {},
   "outputs": [
    {
     "output_type": "display_data",
     "data": {
      "text/plain": "     A      B   C\n0  baa    one   7\n1  baa  three  15\n2  baa    two  19\n3  foo    one  17\n4  foo  three  27\n5  foo    two  21",
      "text/html": "<div>\n<style scoped>\n    .dataframe tbody tr th:only-of-type {\n        vertical-align: middle;\n    }\n\n    .dataframe tbody tr th {\n        vertical-align: top;\n    }\n\n    .dataframe thead th {\n        text-align: right;\n    }\n</style>\n<table border=\"1\" class=\"dataframe\">\n  <thead>\n    <tr style=\"text-align: right;\">\n      <th></th>\n      <th>A</th>\n      <th>B</th>\n      <th>C</th>\n    </tr>\n  </thead>\n  <tbody>\n    <tr>\n      <th>0</th>\n      <td>baa</td>\n      <td>one</td>\n      <td>7</td>\n    </tr>\n    <tr>\n      <th>1</th>\n      <td>baa</td>\n      <td>three</td>\n      <td>15</td>\n    </tr>\n    <tr>\n      <th>2</th>\n      <td>baa</td>\n      <td>two</td>\n      <td>19</td>\n    </tr>\n    <tr>\n      <th>3</th>\n      <td>foo</td>\n      <td>one</td>\n      <td>17</td>\n    </tr>\n    <tr>\n      <th>4</th>\n      <td>foo</td>\n      <td>three</td>\n      <td>27</td>\n    </tr>\n    <tr>\n      <th>5</th>\n      <td>foo</td>\n      <td>two</td>\n      <td>21</td>\n    </tr>\n  </tbody>\n</table>\n</div>"
     },
     "metadata": {}
    }
   ],
   "source": [
    "df1 = df.groupby(['A', 'B'], as_index=False)['C'].sum()\n",
    "\n",
    "display(df1)"
   ]
  },
  {
   "source": [
    "use `Series.reset_index`: http://pandas.pydata.org/pandas-docs/stable/generated/pandas.Series.reset_index.html"
   ],
   "cell_type": "markdown",
   "metadata": {}
  },
  {
   "cell_type": "code",
   "execution_count": 19,
   "metadata": {},
   "outputs": [
    {
     "output_type": "display_data",
     "data": {
      "text/plain": "     A      B   C\n0  baa    one   7\n1  baa  three  15\n2  baa    two  19\n3  foo    one  17\n4  foo  three  27\n5  foo    two  21",
      "text/html": "<div>\n<style scoped>\n    .dataframe tbody tr th:only-of-type {\n        vertical-align: middle;\n    }\n\n    .dataframe tbody tr th {\n        vertical-align: top;\n    }\n\n    .dataframe thead th {\n        text-align: right;\n    }\n</style>\n<table border=\"1\" class=\"dataframe\">\n  <thead>\n    <tr style=\"text-align: right;\">\n      <th></th>\n      <th>A</th>\n      <th>B</th>\n      <th>C</th>\n    </tr>\n  </thead>\n  <tbody>\n    <tr>\n      <th>0</th>\n      <td>baa</td>\n      <td>one</td>\n      <td>7</td>\n    </tr>\n    <tr>\n      <th>1</th>\n      <td>baa</td>\n      <td>three</td>\n      <td>15</td>\n    </tr>\n    <tr>\n      <th>2</th>\n      <td>baa</td>\n      <td>two</td>\n      <td>19</td>\n    </tr>\n    <tr>\n      <th>3</th>\n      <td>foo</td>\n      <td>one</td>\n      <td>17</td>\n    </tr>\n    <tr>\n      <th>4</th>\n      <td>foo</td>\n      <td>three</td>\n      <td>27</td>\n    </tr>\n    <tr>\n      <th>5</th>\n      <td>foo</td>\n      <td>two</td>\n      <td>21</td>\n    </tr>\n  </tbody>\n</table>\n</div>"
     },
     "metadata": {}
    }
   ],
   "source": [
    "df1 = df.groupby(['A', 'B'])['C'].sum().reset_index()\n",
    "\n",
    "display(df1)"
   ]
  },
  {
   "source": [
    "If group by one column:"
   ],
   "cell_type": "markdown",
   "metadata": {}
  },
  {
   "cell_type": "code",
   "execution_count": 20,
   "metadata": {},
   "outputs": [
    {
     "output_type": "display_data",
     "data": {
      "text/plain": "A\nbaa    41\nfoo    65\nName: C, dtype: int32"
     },
     "metadata": {}
    }
   ],
   "source": [
    "df2 = df.groupby('A')['C'].sum()\n",
    "\n",
    "display(df2)"
   ]
  },
  {
   "source": [
    "... get `Series` with `Index`:"
   ],
   "cell_type": "markdown",
   "metadata": {}
  },
  {
   "cell_type": "code",
   "execution_count": 21,
   "metadata": {},
   "outputs": [
    {
     "output_type": "display_data",
     "data": {
      "text/plain": "Index(['baa', 'foo'], dtype='object', name='A')"
     },
     "metadata": {}
    }
   ],
   "source": [
    "display(df2.index)"
   ]
  },
  {
   "cell_type": "code",
   "execution_count": 22,
   "metadata": {},
   "outputs": [
    {
     "output_type": "display_data",
     "data": {
      "text/plain": "pandas.core.series.Series"
     },
     "metadata": {}
    }
   ],
   "source": [
    "display(type(df2))"
   ]
  },
  {
   "source": [
    "And solution is same like in `MultiIndex Series`:"
   ],
   "cell_type": "markdown",
   "metadata": {}
  },
  {
   "cell_type": "code",
   "execution_count": 23,
   "metadata": {},
   "outputs": [
    {
     "output_type": "display_data",
     "data": {
      "text/plain": "     A   C\n0  baa  41\n1  foo  65",
      "text/html": "<div>\n<style scoped>\n    .dataframe tbody tr th:only-of-type {\n        vertical-align: middle;\n    }\n\n    .dataframe tbody tr th {\n        vertical-align: top;\n    }\n\n    .dataframe thead th {\n        text-align: right;\n    }\n</style>\n<table border=\"1\" class=\"dataframe\">\n  <thead>\n    <tr style=\"text-align: right;\">\n      <th></th>\n      <th>A</th>\n      <th>C</th>\n    </tr>\n  </thead>\n  <tbody>\n    <tr>\n      <th>0</th>\n      <td>baa</td>\n      <td>41</td>\n    </tr>\n    <tr>\n      <th>1</th>\n      <td>foo</td>\n      <td>65</td>\n    </tr>\n  </tbody>\n</table>\n</div>"
     },
     "metadata": {}
    }
   ],
   "source": [
    "df2 = df.groupby('A', as_index=False)['C'].sum()\n",
    "\n",
    "display(df2)"
   ]
  },
  {
   "cell_type": "code",
   "execution_count": 24,
   "metadata": {},
   "outputs": [
    {
     "output_type": "display_data",
     "data": {
      "text/plain": "     A   C\n0  baa  41\n1  foo  65",
      "text/html": "<div>\n<style scoped>\n    .dataframe tbody tr th:only-of-type {\n        vertical-align: middle;\n    }\n\n    .dataframe tbody tr th {\n        vertical-align: top;\n    }\n\n    .dataframe thead th {\n        text-align: right;\n    }\n</style>\n<table border=\"1\" class=\"dataframe\">\n  <thead>\n    <tr style=\"text-align: right;\">\n      <th></th>\n      <th>A</th>\n      <th>C</th>\n    </tr>\n  </thead>\n  <tbody>\n    <tr>\n      <th>0</th>\n      <td>baa</td>\n      <td>41</td>\n    </tr>\n    <tr>\n      <th>1</th>\n      <td>foo</td>\n      <td>65</td>\n    </tr>\n  </tbody>\n</table>\n</div>"
     },
     "metadata": {}
    }
   ],
   "source": [
    "df2 = df.groupby('A')['C'].sum().reset_index()\n",
    "\n",
    "display(df2)"
   ]
  },
  {
   "source": [
    "# Question 3\n",
    "## How to aggregate mainly strings columns (to lists, tuples, strings with separator)?"
   ],
   "cell_type": "markdown",
   "metadata": {}
  },
  {
   "cell_type": "code",
   "execution_count": 25,
   "metadata": {},
   "outputs": [
    {
     "output_type": "display_data",
     "data": {
      "text/plain": "   A      B    C  D\n0  c  three  foo  4\n1  b  three  foo  4\n2  c  three  baa  4\n3  c  three  foo  0\n4  a    two  baa  0",
      "text/html": "<div>\n<style scoped>\n    .dataframe tbody tr th:only-of-type {\n        vertical-align: middle;\n    }\n\n    .dataframe tbody tr th {\n        vertical-align: top;\n    }\n\n    .dataframe thead th {\n        text-align: right;\n    }\n</style>\n<table border=\"1\" class=\"dataframe\">\n  <thead>\n    <tr style=\"text-align: right;\">\n      <th></th>\n      <th>A</th>\n      <th>B</th>\n      <th>C</th>\n      <th>D</th>\n    </tr>\n  </thead>\n  <tbody>\n    <tr>\n      <th>0</th>\n      <td>c</td>\n      <td>three</td>\n      <td>foo</td>\n      <td>4</td>\n    </tr>\n    <tr>\n      <th>1</th>\n      <td>b</td>\n      <td>three</td>\n      <td>foo</td>\n      <td>4</td>\n    </tr>\n    <tr>\n      <th>2</th>\n      <td>c</td>\n      <td>three</td>\n      <td>baa</td>\n      <td>4</td>\n    </tr>\n    <tr>\n      <th>3</th>\n      <td>c</td>\n      <td>three</td>\n      <td>foo</td>\n      <td>0</td>\n    </tr>\n    <tr>\n      <th>4</th>\n      <td>a</td>\n      <td>two</td>\n      <td>baa</td>\n      <td>0</td>\n    </tr>\n  </tbody>\n</table>\n</div>"
     },
     "metadata": {}
    }
   ],
   "source": [
    "np.random.seed(123)\n",
    "choices_a = ['a', 'b', 'c']\n",
    "choices_b = ['one', 'two', 'three']\n",
    "choices_c = ['foo', 'baa']\n",
    "sample_size = 50\n",
    "\n",
    "df = pd.DataFrame({\n",
    "    'A' : np.random.choice(choices_a, sample_size),\n",
    "    'B' : np.random.choice(choices_b, sample_size),\n",
    "    'C' : np.random.choice(choices_c, sample_size),\n",
    "    'D' : np.random.randint(5, size=sample_size)\n",
    "})\n",
    "\n",
    "display(df.head())"
   ]
  },
  {
   "source": [
    "Instead of an aggregetion function it is possible to pass `list`, `tuple`, `set` for converting column:"
   ],
   "cell_type": "markdown",
   "metadata": {}
  },
  {
   "cell_type": "code",
   "execution_count": 26,
   "metadata": {},
   "outputs": [
    {
     "output_type": "display_data",
     "data": {
      "text/plain": "   A                                                  B\n0  a  [two, two, three, three, two, three, one, one,...\n1  b  [three, two, three, three, three, three, two, ...\n2  c  [three, three, three, three, one, one, one, on...",
      "text/html": "<div>\n<style scoped>\n    .dataframe tbody tr th:only-of-type {\n        vertical-align: middle;\n    }\n\n    .dataframe tbody tr th {\n        vertical-align: top;\n    }\n\n    .dataframe thead th {\n        text-align: right;\n    }\n</style>\n<table border=\"1\" class=\"dataframe\">\n  <thead>\n    <tr style=\"text-align: right;\">\n      <th></th>\n      <th>A</th>\n      <th>B</th>\n    </tr>\n  </thead>\n  <tbody>\n    <tr>\n      <th>0</th>\n      <td>a</td>\n      <td>[two, two, three, three, two, three, one, one,...</td>\n    </tr>\n    <tr>\n      <th>1</th>\n      <td>b</td>\n      <td>[three, two, three, three, three, three, two, ...</td>\n    </tr>\n    <tr>\n      <th>2</th>\n      <td>c</td>\n      <td>[three, three, three, three, one, one, one, on...</td>\n    </tr>\n  </tbody>\n</table>\n</div>"
     },
     "metadata": {}
    }
   ],
   "source": [
    "df1 = df.groupby('A')['B'].agg(list).reset_index()\n",
    "\n",
    "display(df1)"
   ]
  },
  {
   "source": [
    "Alternative is use `GroupBy.apply`: http://pandas.pydata.org/pandas-docs/stable/generated/pandas.core.groupby.GroupBy.apply.html"
   ],
   "cell_type": "markdown",
   "metadata": {}
  },
  {
   "cell_type": "code",
   "execution_count": 27,
   "metadata": {},
   "outputs": [
    {
     "output_type": "display_data",
     "data": {
      "text/plain": "   A                                                  B\n0  a  [two, two, three, three, two, three, one, one,...\n1  b  [three, two, three, three, three, three, two, ...\n2  c  [three, three, three, three, one, one, one, on...",
      "text/html": "<div>\n<style scoped>\n    .dataframe tbody tr th:only-of-type {\n        vertical-align: middle;\n    }\n\n    .dataframe tbody tr th {\n        vertical-align: top;\n    }\n\n    .dataframe thead th {\n        text-align: right;\n    }\n</style>\n<table border=\"1\" class=\"dataframe\">\n  <thead>\n    <tr style=\"text-align: right;\">\n      <th></th>\n      <th>A</th>\n      <th>B</th>\n    </tr>\n  </thead>\n  <tbody>\n    <tr>\n      <th>0</th>\n      <td>a</td>\n      <td>[two, two, three, three, two, three, one, one,...</td>\n    </tr>\n    <tr>\n      <th>1</th>\n      <td>b</td>\n      <td>[three, two, three, three, three, three, two, ...</td>\n    </tr>\n    <tr>\n      <th>2</th>\n      <td>c</td>\n      <td>[three, three, three, three, one, one, one, on...</td>\n    </tr>\n  </tbody>\n</table>\n</div>"
     },
     "metadata": {}
    }
   ],
   "source": [
    "df1 = df.groupby('A')['B'].apply(list).reset_index()\n",
    "\n",
    "display(df1)"
   ]
  },
  {
   "source": [
    "For converting to strings with separator use `.join` only if string column:"
   ],
   "cell_type": "markdown",
   "metadata": {}
  },
  {
   "cell_type": "code",
   "execution_count": 28,
   "metadata": {},
   "outputs": [
    {
     "output_type": "display_data",
     "data": {
      "text/plain": "   A                                                  B\n0  a  two,two,three,three,two,three,one,one,three,tw...\n1  b  three,two,three,three,three,three,two,two,two,...\n2  c  three,three,three,three,one,one,one,one,one,th...",
      "text/html": "<div>\n<style scoped>\n    .dataframe tbody tr th:only-of-type {\n        vertical-align: middle;\n    }\n\n    .dataframe tbody tr th {\n        vertical-align: top;\n    }\n\n    .dataframe thead th {\n        text-align: right;\n    }\n</style>\n<table border=\"1\" class=\"dataframe\">\n  <thead>\n    <tr style=\"text-align: right;\">\n      <th></th>\n      <th>A</th>\n      <th>B</th>\n    </tr>\n  </thead>\n  <tbody>\n    <tr>\n      <th>0</th>\n      <td>a</td>\n      <td>two,two,three,three,two,three,one,one,three,tw...</td>\n    </tr>\n    <tr>\n      <th>1</th>\n      <td>b</td>\n      <td>three,two,three,three,three,three,two,two,two,...</td>\n    </tr>\n    <tr>\n      <th>2</th>\n      <td>c</td>\n      <td>three,three,three,three,one,one,one,one,one,th...</td>\n    </tr>\n  </tbody>\n</table>\n</div>"
     },
     "metadata": {}
    }
   ],
   "source": [
    "df2 = df.groupby('A')['B'].agg(','.join).reset_index()\n",
    "\n",
    "display(df2)"
   ]
  },
  {
   "source": [
    "If numeric column use lambda function with `astype` for converting to `string`s: http://pandas.pydata.org/pandas-docs/stable/generated/pandas.Series.astype.html"
   ],
   "cell_type": "markdown",
   "metadata": {}
  },
  {
   "cell_type": "code",
   "execution_count": 29,
   "metadata": {},
   "outputs": [
    {
     "output_type": "display_data",
     "data": {
      "text/plain": "   A                                    D\n0  a  0,1,4,2,3,1,1,0,1,1,2,2,3,2,3,3,2,2\n1  b        4,0,2,0,0,4,3,4,1,2,1,1,3,0,2\n2  c    4,4,0,1,0,4,2,2,1,1,3,0,1,3,2,4,3",
      "text/html": "<div>\n<style scoped>\n    .dataframe tbody tr th:only-of-type {\n        vertical-align: middle;\n    }\n\n    .dataframe tbody tr th {\n        vertical-align: top;\n    }\n\n    .dataframe thead th {\n        text-align: right;\n    }\n</style>\n<table border=\"1\" class=\"dataframe\">\n  <thead>\n    <tr style=\"text-align: right;\">\n      <th></th>\n      <th>A</th>\n      <th>D</th>\n    </tr>\n  </thead>\n  <tbody>\n    <tr>\n      <th>0</th>\n      <td>a</td>\n      <td>0,1,4,2,3,1,1,0,1,1,2,2,3,2,3,3,2,2</td>\n    </tr>\n    <tr>\n      <th>1</th>\n      <td>b</td>\n      <td>4,0,2,0,0,4,3,4,1,2,1,1,3,0,2</td>\n    </tr>\n    <tr>\n      <th>2</th>\n      <td>c</td>\n      <td>4,4,0,1,0,4,2,2,1,1,3,0,1,3,2,4,3</td>\n    </tr>\n  </tbody>\n</table>\n</div>"
     },
     "metadata": {}
    }
   ],
   "source": [
    "df3 = (df.groupby('A')['D'].agg(lambda x: ','.join(x.astype(str))).reset_index())\n",
    "\n",
    "display(df3)"
   ]
  },
  {
   "source": [
    "Another solution is converting to strings before `groupby`:"
   ],
   "cell_type": "markdown",
   "metadata": {}
  },
  {
   "cell_type": "code",
   "execution_count": 30,
   "metadata": {},
   "outputs": [
    {
     "output_type": "display_data",
     "data": {
      "text/plain": "   A                                    D\n0  a  0,1,4,2,3,1,1,0,1,1,2,2,3,2,3,3,2,2\n1  b        4,0,2,0,0,4,3,4,1,2,1,1,3,0,2\n2  c    4,4,0,1,0,4,2,2,1,1,3,0,1,3,2,4,3",
      "text/html": "<div>\n<style scoped>\n    .dataframe tbody tr th:only-of-type {\n        vertical-align: middle;\n    }\n\n    .dataframe tbody tr th {\n        vertical-align: top;\n    }\n\n    .dataframe thead th {\n        text-align: right;\n    }\n</style>\n<table border=\"1\" class=\"dataframe\">\n  <thead>\n    <tr style=\"text-align: right;\">\n      <th></th>\n      <th>A</th>\n      <th>D</th>\n    </tr>\n  </thead>\n  <tbody>\n    <tr>\n      <th>0</th>\n      <td>a</td>\n      <td>0,1,4,2,3,1,1,0,1,1,2,2,3,2,3,3,2,2</td>\n    </tr>\n    <tr>\n      <th>1</th>\n      <td>b</td>\n      <td>4,0,2,0,0,4,3,4,1,2,1,1,3,0,2</td>\n    </tr>\n    <tr>\n      <th>2</th>\n      <td>c</td>\n      <td>4,4,0,1,0,4,2,2,1,1,3,0,1,3,2,4,3</td>\n    </tr>\n  </tbody>\n</table>\n</div>"
     },
     "metadata": {}
    }
   ],
   "source": [
    "df3 = (df.assign(D = df['D'].astype(str)).groupby('A')['D'].agg(','.join).reset_index())\n",
    "\n",
    "display(df3)"
   ]
  },
  {
   "source": [
    "For converting all columns pass no list of column(s) after `groupby`. There is no column `D` because automatic exclusion of 'nuisance' columns, it means all numeric columns are excluded. http://pandas.pydata.org/pandas-docs/stable/groupby.html#automatic-exclusion-of-nuisance-columns"
   ],
   "cell_type": "markdown",
   "metadata": {}
  },
  {
   "cell_type": "code",
   "execution_count": 31,
   "metadata": {},
   "outputs": [
    {
     "output_type": "display_data",
     "data": {
      "text/plain": "   A                                                  B  \\\n0  a  two,two,three,three,two,three,one,one,three,tw...   \n1  b  three,two,three,three,three,three,two,two,two,...   \n2  c  three,three,three,three,one,one,one,one,one,th...   \n\n                                                   C  \n0  baa,baa,foo,foo,foo,baa,baa,baa,baa,baa,foo,ba...  \n1  foo,foo,foo,baa,baa,baa,foo,baa,foo,foo,baa,fo...  \n2  foo,baa,foo,baa,foo,baa,baa,foo,baa,baa,baa,ba...  ",
      "text/html": "<div>\n<style scoped>\n    .dataframe tbody tr th:only-of-type {\n        vertical-align: middle;\n    }\n\n    .dataframe tbody tr th {\n        vertical-align: top;\n    }\n\n    .dataframe thead th {\n        text-align: right;\n    }\n</style>\n<table border=\"1\" class=\"dataframe\">\n  <thead>\n    <tr style=\"text-align: right;\">\n      <th></th>\n      <th>A</th>\n      <th>B</th>\n      <th>C</th>\n    </tr>\n  </thead>\n  <tbody>\n    <tr>\n      <th>0</th>\n      <td>a</td>\n      <td>two,two,three,three,two,three,one,one,three,tw...</td>\n      <td>baa,baa,foo,foo,foo,baa,baa,baa,baa,baa,foo,ba...</td>\n    </tr>\n    <tr>\n      <th>1</th>\n      <td>b</td>\n      <td>three,two,three,three,three,three,two,two,two,...</td>\n      <td>foo,foo,foo,baa,baa,baa,foo,baa,foo,foo,baa,fo...</td>\n    </tr>\n    <tr>\n      <th>2</th>\n      <td>c</td>\n      <td>three,three,three,three,one,one,one,one,one,th...</td>\n      <td>foo,baa,foo,baa,foo,baa,baa,foo,baa,baa,baa,ba...</td>\n    </tr>\n  </tbody>\n</table>\n</div>"
     },
     "metadata": {}
    }
   ],
   "source": [
    "df4 = df.groupby('A').agg(','.join).reset_index()\n",
    "\n",
    "display(df4)"
   ]
  },
  {
   "source": [
    "So it's necessary to convert all columns into strings, then get all columns:"
   ],
   "cell_type": "markdown",
   "metadata": {}
  },
  {
   "cell_type": "code",
   "execution_count": 32,
   "metadata": {},
   "outputs": [
    {
     "output_type": "display_data",
     "data": {
      "text/plain": "   A                                                  B  \\\n0  a  two,two,three,three,two,three,one,one,three,tw...   \n1  b  three,two,three,three,three,three,two,two,two,...   \n2  c  three,three,three,three,one,one,one,one,one,th...   \n\n                                                   C  \\\n0  baa,baa,foo,foo,foo,baa,baa,baa,baa,baa,foo,ba...   \n1  foo,foo,foo,baa,baa,baa,foo,baa,foo,foo,baa,fo...   \n2  foo,baa,foo,baa,foo,baa,baa,foo,baa,baa,baa,ba...   \n\n                                     D  \n0  0,1,4,2,3,1,1,0,1,1,2,2,3,2,3,3,2,2  \n1        4,0,2,0,0,4,3,4,1,2,1,1,3,0,2  \n2    4,4,0,1,0,4,2,2,1,1,3,0,1,3,2,4,3  ",
      "text/html": "<div>\n<style scoped>\n    .dataframe tbody tr th:only-of-type {\n        vertical-align: middle;\n    }\n\n    .dataframe tbody tr th {\n        vertical-align: top;\n    }\n\n    .dataframe thead th {\n        text-align: right;\n    }\n</style>\n<table border=\"1\" class=\"dataframe\">\n  <thead>\n    <tr style=\"text-align: right;\">\n      <th></th>\n      <th>A</th>\n      <th>B</th>\n      <th>C</th>\n      <th>D</th>\n    </tr>\n  </thead>\n  <tbody>\n    <tr>\n      <th>0</th>\n      <td>a</td>\n      <td>two,two,three,three,two,three,one,one,three,tw...</td>\n      <td>baa,baa,foo,foo,foo,baa,baa,baa,baa,baa,foo,ba...</td>\n      <td>0,1,4,2,3,1,1,0,1,1,2,2,3,2,3,3,2,2</td>\n    </tr>\n    <tr>\n      <th>1</th>\n      <td>b</td>\n      <td>three,two,three,three,three,three,two,two,two,...</td>\n      <td>foo,foo,foo,baa,baa,baa,foo,baa,foo,foo,baa,fo...</td>\n      <td>4,0,2,0,0,4,3,4,1,2,1,1,3,0,2</td>\n    </tr>\n    <tr>\n      <th>2</th>\n      <td>c</td>\n      <td>three,three,three,three,one,one,one,one,one,th...</td>\n      <td>foo,baa,foo,baa,foo,baa,baa,foo,baa,baa,baa,ba...</td>\n      <td>4,4,0,1,0,4,2,2,1,1,3,0,1,3,2,4,3</td>\n    </tr>\n  </tbody>\n</table>\n</div>"
     },
     "metadata": {}
    }
   ],
   "source": [
    "df5 = (df.groupby('A').agg(lambda x: ','.join(x.astype(str))).reset_index())\n",
    "\n",
    "display(df5)"
   ]
  },
  {
   "source": [
    "# Question 4\n",
    "## How to aggregate counts?"
   ],
   "cell_type": "markdown",
   "metadata": {}
  },
  {
   "cell_type": "code",
   "execution_count": 33,
   "metadata": {},
   "outputs": [
    {
     "output_type": "display_data",
     "data": {
      "text/plain": "   A      B      C    D\n0  b    one    two  NaN\n1  b  three  three  2.0\n2  c    one    nan  4.0\n3  c    two  three  1.0\n4  b    two    one  1.0",
      "text/html": "<div>\n<style scoped>\n    .dataframe tbody tr th:only-of-type {\n        vertical-align: middle;\n    }\n\n    .dataframe tbody tr th {\n        vertical-align: top;\n    }\n\n    .dataframe thead th {\n        text-align: right;\n    }\n</style>\n<table border=\"1\" class=\"dataframe\">\n  <thead>\n    <tr style=\"text-align: right;\">\n      <th></th>\n      <th>A</th>\n      <th>B</th>\n      <th>C</th>\n      <th>D</th>\n    </tr>\n  </thead>\n  <tbody>\n    <tr>\n      <th>0</th>\n      <td>b</td>\n      <td>one</td>\n      <td>two</td>\n      <td>NaN</td>\n    </tr>\n    <tr>\n      <th>1</th>\n      <td>b</td>\n      <td>three</td>\n      <td>three</td>\n      <td>2.0</td>\n    </tr>\n    <tr>\n      <th>2</th>\n      <td>c</td>\n      <td>one</td>\n      <td>nan</td>\n      <td>4.0</td>\n    </tr>\n    <tr>\n      <th>3</th>\n      <td>c</td>\n      <td>two</td>\n      <td>three</td>\n      <td>1.0</td>\n    </tr>\n    <tr>\n      <th>4</th>\n      <td>b</td>\n      <td>two</td>\n      <td>one</td>\n      <td>1.0</td>\n    </tr>\n  </tbody>\n</table>\n</div>"
     },
     "metadata": {}
    }
   ],
   "source": [
    "choices_a = ['a', 'b', 'c']\n",
    "choices_b = ['one', 'two', 'three']\n",
    "choices_c = [np.nan, *choices_b]\n",
    "choices_d = [np.nan, 1, 2, 3, 4]\n",
    "sample_size = 50\n",
    "\n",
    "df = pd.DataFrame({\n",
    "        'A' : np.random.choice(choices_a, sample_size),\n",
    "        'B' : np.random.choice(choices_b, sample_size),\n",
    "        'C' : np.random.choice(choices_c, sample_size),\n",
    "        'D' : np.random.choice(choices_d, sample_size)\n",
    "})\n",
    "\n",
    "display(df.head())"
   ]
  },
  {
   "source": [
    "Function `GroupBy.size` for `size` of each group: http://pandas.pydata.org/pandas-docs/stable/generated/pandas.core.groupby.GroupBy.size.html"
   ],
   "cell_type": "markdown",
   "metadata": {}
  },
  {
   "cell_type": "code",
   "execution_count": 34,
   "metadata": {},
   "outputs": [
    {
     "output_type": "display_data",
     "data": {
      "text/plain": "   A  COUNT\n0  a     15\n1  b     22\n2  c     13",
      "text/html": "<div>\n<style scoped>\n    .dataframe tbody tr th:only-of-type {\n        vertical-align: middle;\n    }\n\n    .dataframe tbody tr th {\n        vertical-align: top;\n    }\n\n    .dataframe thead th {\n        text-align: right;\n    }\n</style>\n<table border=\"1\" class=\"dataframe\">\n  <thead>\n    <tr style=\"text-align: right;\">\n      <th></th>\n      <th>A</th>\n      <th>COUNT</th>\n    </tr>\n  </thead>\n  <tbody>\n    <tr>\n      <th>0</th>\n      <td>a</td>\n      <td>15</td>\n    </tr>\n    <tr>\n      <th>1</th>\n      <td>b</td>\n      <td>22</td>\n    </tr>\n    <tr>\n      <th>2</th>\n      <td>c</td>\n      <td>13</td>\n    </tr>\n  </tbody>\n</table>\n</div>"
     },
     "metadata": {}
    }
   ],
   "source": [
    "df1 = df.groupby('A').size().reset_index(name='COUNT')\n",
    "\n",
    "display(df1)"
   ]
  },
  {
   "source": [
    "Function `GroupBy.count` exclude missing values: http://pandas.pydata.org/pandas-docs/stable/generated/pandas.core.groupby.GroupBy.count.html"
   ],
   "cell_type": "markdown",
   "metadata": {}
  },
  {
   "cell_type": "code",
   "execution_count": 35,
   "metadata": {},
   "outputs": [
    {
     "output_type": "display_data",
     "data": {
      "text/plain": "   A  COUNT\n0  a     15\n1  b     22\n2  c     13",
      "text/html": "<div>\n<style scoped>\n    .dataframe tbody tr th:only-of-type {\n        vertical-align: middle;\n    }\n\n    .dataframe tbody tr th {\n        vertical-align: top;\n    }\n\n    .dataframe thead th {\n        text-align: right;\n    }\n</style>\n<table border=\"1\" class=\"dataframe\">\n  <thead>\n    <tr style=\"text-align: right;\">\n      <th></th>\n      <th>A</th>\n      <th>COUNT</th>\n    </tr>\n  </thead>\n  <tbody>\n    <tr>\n      <th>0</th>\n      <td>a</td>\n      <td>15</td>\n    </tr>\n    <tr>\n      <th>1</th>\n      <td>b</td>\n      <td>22</td>\n    </tr>\n    <tr>\n      <th>2</th>\n      <td>c</td>\n      <td>13</td>\n    </tr>\n  </tbody>\n</table>\n</div>"
     },
     "metadata": {}
    }
   ],
   "source": [
    "df2 = df.groupby('A')['C'].count().reset_index(name='COUNT')\n",
    "\n",
    "display(df2)"
   ]
  },
  {
   "source": [
    "Function should be used fo multiple columns for count non missing values:"
   ],
   "cell_type": "markdown",
   "metadata": {}
  },
  {
   "cell_type": "code",
   "execution_count": 36,
   "metadata": {},
   "outputs": [
    {
     "output_type": "display_data",
     "data": {
      "text/plain": "   A  B_COUNT  C_COUNT  D_COUNT\n0  a       15       15       11\n1  b       22       22       14\n2  c       13       13       11",
      "text/html": "<div>\n<style scoped>\n    .dataframe tbody tr th:only-of-type {\n        vertical-align: middle;\n    }\n\n    .dataframe tbody tr th {\n        vertical-align: top;\n    }\n\n    .dataframe thead th {\n        text-align: right;\n    }\n</style>\n<table border=\"1\" class=\"dataframe\">\n  <thead>\n    <tr style=\"text-align: right;\">\n      <th></th>\n      <th>A</th>\n      <th>B_COUNT</th>\n      <th>C_COUNT</th>\n      <th>D_COUNT</th>\n    </tr>\n  </thead>\n  <tbody>\n    <tr>\n      <th>0</th>\n      <td>a</td>\n      <td>15</td>\n      <td>15</td>\n      <td>11</td>\n    </tr>\n    <tr>\n      <th>1</th>\n      <td>b</td>\n      <td>22</td>\n      <td>22</td>\n      <td>14</td>\n    </tr>\n    <tr>\n      <th>2</th>\n      <td>c</td>\n      <td>13</td>\n      <td>13</td>\n      <td>11</td>\n    </tr>\n  </tbody>\n</table>\n</div>"
     },
     "metadata": {}
    }
   ],
   "source": [
    "df3 = df.groupby('A').count().add_suffix('_COUNT').reset_index()\n",
    "\n",
    "display(df3)"
   ]
  },
  {
   "source": [
    "Related function `Series.value_counts` return size object containing counts of unique values in descending order so that the first element is the most frequently-occurring element. Excludes `NaN`s values by default. http://pandas.pydata.org/pandas-docs/stable/generated/pandas.Series.value_counts.html"
   ],
   "cell_type": "markdown",
   "metadata": {}
  },
  {
   "cell_type": "code",
   "execution_count": 37,
   "metadata": {},
   "outputs": [
    {
     "output_type": "display_data",
     "data": {
      "text/plain": "   A  COUNT\n0  b     22\n1  a     15\n2  c     13",
      "text/html": "<div>\n<style scoped>\n    .dataframe tbody tr th:only-of-type {\n        vertical-align: middle;\n    }\n\n    .dataframe tbody tr th {\n        vertical-align: top;\n    }\n\n    .dataframe thead th {\n        text-align: right;\n    }\n</style>\n<table border=\"1\" class=\"dataframe\">\n  <thead>\n    <tr style=\"text-align: right;\">\n      <th></th>\n      <th>A</th>\n      <th>COUNT</th>\n    </tr>\n  </thead>\n  <tbody>\n    <tr>\n      <th>0</th>\n      <td>b</td>\n      <td>22</td>\n    </tr>\n    <tr>\n      <th>1</th>\n      <td>a</td>\n      <td>15</td>\n    </tr>\n    <tr>\n      <th>2</th>\n      <td>c</td>\n      <td>13</td>\n    </tr>\n  </tbody>\n</table>\n</div>"
     },
     "metadata": {}
    }
   ],
   "source": [
    "df4 = (df['A'].value_counts().rename_axis('A').reset_index(name='COUNT'))\n",
    "\n",
    "display(df4)"
   ]
  },
  {
   "source": [
    "If you want same output like using function `groupby` + `size` add `Series.sort_index`: http://pandas.pydata.org/pandas-docs/stable/generated/pandas.Series.sort_index.html"
   ],
   "cell_type": "markdown",
   "metadata": {}
  },
  {
   "cell_type": "code",
   "execution_count": 38,
   "metadata": {},
   "outputs": [
    {
     "output_type": "display_data",
     "data": {
      "text/plain": "   A  COUNT\n0  a     15\n1  b     22\n2  c     13",
      "text/html": "<div>\n<style scoped>\n    .dataframe tbody tr th:only-of-type {\n        vertical-align: middle;\n    }\n\n    .dataframe tbody tr th {\n        vertical-align: top;\n    }\n\n    .dataframe thead th {\n        text-align: right;\n    }\n</style>\n<table border=\"1\" class=\"dataframe\">\n  <thead>\n    <tr style=\"text-align: right;\">\n      <th></th>\n      <th>A</th>\n      <th>COUNT</th>\n    </tr>\n  </thead>\n  <tbody>\n    <tr>\n      <th>0</th>\n      <td>a</td>\n      <td>15</td>\n    </tr>\n    <tr>\n      <th>1</th>\n      <td>b</td>\n      <td>22</td>\n    </tr>\n    <tr>\n      <th>2</th>\n      <td>c</td>\n      <td>13</td>\n    </tr>\n  </tbody>\n</table>\n</div>"
     },
     "metadata": {}
    }
   ],
   "source": [
    "df5 = (df['A'].value_counts().sort_index().rename_axis('A').reset_index(name='COUNT'))\n",
    "\n",
    "display(df5)"
   ]
  },
  {
   "source": [
    "# Question 5\n",
    "## How to create new column filled by aggregated values?\n",
    "Method `GroupBy.transform` returns an object that is indexed the same (same size) as the one being grouped\n",
    "\n",
    "Pandas documentation for more information: http://pandas.pydata.org/pandas-docs/stable/groupby.html#transformation"
   ],
   "cell_type": "markdown",
   "metadata": {}
  },
  {
   "cell_type": "code",
   "execution_count": 39,
   "metadata": {},
   "outputs": [
    {
     "output_type": "display_data",
     "data": {
      "text/plain": "     A      B  C  D\n0  foo    two  1  0\n1  baa    two  1  1\n2  foo  three  2  0\n3  foo  three  3  2\n4  foo  three  3  4",
      "text/html": "<div>\n<style scoped>\n    .dataframe tbody tr th:only-of-type {\n        vertical-align: middle;\n    }\n\n    .dataframe tbody tr th {\n        vertical-align: top;\n    }\n\n    .dataframe thead th {\n        text-align: right;\n    }\n</style>\n<table border=\"1\" class=\"dataframe\">\n  <thead>\n    <tr style=\"text-align: right;\">\n      <th></th>\n      <th>A</th>\n      <th>B</th>\n      <th>C</th>\n      <th>D</th>\n    </tr>\n  </thead>\n  <tbody>\n    <tr>\n      <th>0</th>\n      <td>foo</td>\n      <td>two</td>\n      <td>1</td>\n      <td>0</td>\n    </tr>\n    <tr>\n      <th>1</th>\n      <td>baa</td>\n      <td>two</td>\n      <td>1</td>\n      <td>1</td>\n    </tr>\n    <tr>\n      <th>2</th>\n      <td>foo</td>\n      <td>three</td>\n      <td>2</td>\n      <td>0</td>\n    </tr>\n    <tr>\n      <th>3</th>\n      <td>foo</td>\n      <td>three</td>\n      <td>3</td>\n      <td>2</td>\n    </tr>\n    <tr>\n      <th>4</th>\n      <td>foo</td>\n      <td>three</td>\n      <td>3</td>\n      <td>4</td>\n    </tr>\n  </tbody>\n</table>\n</div>"
     },
     "metadata": {}
    }
   ],
   "source": [
    "np.random.seed(123)\n",
    "\n",
    "choices_a = ['foo', 'baa']\n",
    "choices_b = ['one', 'two', 'three']\n",
    "sample_size = 50\n",
    "\n",
    "df = pd.DataFrame({\n",
    "    'A' : np.random.choice(choices_a, sample_size),\n",
    "    'B' : np.random.choice(choices_b, sample_size),\n",
    "    'C' : np.random.randint(5, size=sample_size),\n",
    "    'D' : np.random.randint(5, size=sample_size)\n",
    "})\n",
    "\n",
    "display(df.head())\n"
   ]
  },
  {
   "cell_type": "code",
   "execution_count": 41,
   "metadata": {},
   "outputs": [
    {
     "output_type": "stream",
     "name": "stderr",
     "text": [
      "<ipython-input-41-788527e007f8>:5: FutureWarning: Indexing with multiple keys (implicitly converted to a tuple of keys) will be deprecated, use a list instead.\n  df[['C3','D3']] = df.groupby('A')['C','D'].transform('sum')\n<ipython-input-41-788527e007f8>:6: FutureWarning: Indexing with multiple keys (implicitly converted to a tuple of keys) will be deprecated, use a list instead.\n  df[['C4','D4']] = df.groupby(['A','B'])['C','D'].transform('sum')\n"
     ]
    },
    {
     "output_type": "display_data",
     "data": {
      "text/plain": "     A      B  C  D  C1  C2  C3  D3  C4  D4\n0  foo    two  1  0  65  21  65  49  21  15\n1  baa    two  1  1  41  19  41  49  19  16\n2  foo  three  2  0  65  27  65  49  27  19\n3  foo  three  3  2  65  27  65  49  27  19\n4  foo  three  3  4  65  27  65  49  27  19",
      "text/html": "<div>\n<style scoped>\n    .dataframe tbody tr th:only-of-type {\n        vertical-align: middle;\n    }\n\n    .dataframe tbody tr th {\n        vertical-align: top;\n    }\n\n    .dataframe thead th {\n        text-align: right;\n    }\n</style>\n<table border=\"1\" class=\"dataframe\">\n  <thead>\n    <tr style=\"text-align: right;\">\n      <th></th>\n      <th>A</th>\n      <th>B</th>\n      <th>C</th>\n      <th>D</th>\n      <th>C1</th>\n      <th>C2</th>\n      <th>C3</th>\n      <th>D3</th>\n      <th>C4</th>\n      <th>D4</th>\n    </tr>\n  </thead>\n  <tbody>\n    <tr>\n      <th>0</th>\n      <td>foo</td>\n      <td>two</td>\n      <td>1</td>\n      <td>0</td>\n      <td>65</td>\n      <td>21</td>\n      <td>65</td>\n      <td>49</td>\n      <td>21</td>\n      <td>15</td>\n    </tr>\n    <tr>\n      <th>1</th>\n      <td>baa</td>\n      <td>two</td>\n      <td>1</td>\n      <td>1</td>\n      <td>41</td>\n      <td>19</td>\n      <td>41</td>\n      <td>49</td>\n      <td>19</td>\n      <td>16</td>\n    </tr>\n    <tr>\n      <th>2</th>\n      <td>foo</td>\n      <td>three</td>\n      <td>2</td>\n      <td>0</td>\n      <td>65</td>\n      <td>27</td>\n      <td>65</td>\n      <td>49</td>\n      <td>27</td>\n      <td>19</td>\n    </tr>\n    <tr>\n      <th>3</th>\n      <td>foo</td>\n      <td>three</td>\n      <td>3</td>\n      <td>2</td>\n      <td>65</td>\n      <td>27</td>\n      <td>65</td>\n      <td>49</td>\n      <td>27</td>\n      <td>19</td>\n    </tr>\n    <tr>\n      <th>4</th>\n      <td>foo</td>\n      <td>three</td>\n      <td>3</td>\n      <td>4</td>\n      <td>65</td>\n      <td>27</td>\n      <td>65</td>\n      <td>49</td>\n      <td>27</td>\n      <td>19</td>\n    </tr>\n  </tbody>\n</table>\n</div>"
     },
     "metadata": {}
    }
   ],
   "source": [
    "df['C1'] = df.groupby('A')['C'].transform('sum')\n",
    "df['C2'] = df.groupby(['A','B'])['C'].transform('sum')\n",
    "\n",
    "\n",
    "df[['C3','D3']] = df.groupby('A')['C','D'].transform('sum')\n",
    "df[['C4','D4']] = df.groupby(['A','B'])['C','D'].transform('sum')\n",
    "\n",
    "display(df.head())"
   ]
  },
  {
   "source": [
    "# Pandas: aggregate when column contains numpy arrays"
   ],
   "cell_type": "markdown",
   "metadata": {}
  },
  {
   "cell_type": "code",
   "execution_count": 43,
   "metadata": {},
   "outputs": [
    {
     "output_type": "display_data",
     "data": {
      "text/plain": "   category     arraydata\n0         1  [10, 20, 30]\n1         1  [40, 50, 60]\n2         2  [20, 30, 40]",
      "text/html": "<div>\n<style scoped>\n    .dataframe tbody tr th:only-of-type {\n        vertical-align: middle;\n    }\n\n    .dataframe tbody tr th {\n        vertical-align: top;\n    }\n\n    .dataframe thead th {\n        text-align: right;\n    }\n</style>\n<table border=\"1\" class=\"dataframe\">\n  <thead>\n    <tr style=\"text-align: right;\">\n      <th></th>\n      <th>category</th>\n      <th>arraydata</th>\n    </tr>\n  </thead>\n  <tbody>\n    <tr>\n      <th>0</th>\n      <td>1</td>\n      <td>[10, 20, 30]</td>\n    </tr>\n    <tr>\n      <th>1</th>\n      <td>1</td>\n      <td>[40, 50, 60]</td>\n    </tr>\n    <tr>\n      <th>2</th>\n      <td>2</td>\n      <td>[20, 30, 40]</td>\n    </tr>\n  </tbody>\n</table>\n</div>"
     },
     "metadata": {}
    }
   ],
   "source": [
    "DF = pd.DataFrame([\n",
    "    [1,np.array([10,20,30])],\n",
    "    [1,np.array([40,50,60])], \n",
    "    [2,np.array([20,30,40])],\n",
    "    ], columns=['category','arraydata'])\n",
    "\n",
    "display(DF)"
   ]
  },
  {
   "cell_type": "code",
   "execution_count": 45,
   "metadata": {},
   "outputs": [
    {
     "output_type": "display_data",
     "data": {
      "text/plain": "             arraydata\ncategory              \n1         [50, 70, 90]\n2         [20, 30, 40]",
      "text/html": "<div>\n<style scoped>\n    .dataframe tbody tr th:only-of-type {\n        vertical-align: middle;\n    }\n\n    .dataframe tbody tr th {\n        vertical-align: top;\n    }\n\n    .dataframe thead th {\n        text-align: right;\n    }\n</style>\n<table border=\"1\" class=\"dataframe\">\n  <thead>\n    <tr style=\"text-align: right;\">\n      <th></th>\n      <th>arraydata</th>\n    </tr>\n    <tr>\n      <th>category</th>\n      <th></th>\n    </tr>\n  </thead>\n  <tbody>\n    <tr>\n      <th>1</th>\n      <td>[50, 70, 90]</td>\n    </tr>\n    <tr>\n      <th>2</th>\n      <td>[20, 30, 40]</td>\n    </tr>\n  </tbody>\n</table>\n</div>"
     },
     "metadata": {}
    }
   ],
   "source": [
    "grouped = DF.groupby(\"category\")\n",
    "aggregate = list((k, v[\"arraydata\"].sum()) for k, v in grouped)\n",
    "new_df = pd.DataFrame(aggregate, columns=[\"category\", \"arraydata\"]).set_index(\"category\")\n",
    "\n",
    "display(new_df)"
   ]
  },
  {
   "cell_type": "code",
   "execution_count": 46,
   "metadata": {},
   "outputs": [
    {
     "output_type": "display_data",
     "data": {
      "text/plain": "             arraydata\ncategory              \n1         [50, 70, 90]\n2         [20, 30, 40]",
      "text/html": "<div>\n<style scoped>\n    .dataframe tbody tr th:only-of-type {\n        vertical-align: middle;\n    }\n\n    .dataframe tbody tr th {\n        vertical-align: top;\n    }\n\n    .dataframe thead th {\n        text-align: right;\n    }\n</style>\n<table border=\"1\" class=\"dataframe\">\n  <thead>\n    <tr style=\"text-align: right;\">\n      <th></th>\n      <th>arraydata</th>\n    </tr>\n    <tr>\n      <th>category</th>\n      <th></th>\n    </tr>\n  </thead>\n  <tbody>\n    <tr>\n      <th>1</th>\n      <td>[50, 70, 90]</td>\n    </tr>\n    <tr>\n      <th>2</th>\n      <td>[20, 30, 40]</td>\n    </tr>\n  </tbody>\n</table>\n</div>"
     },
     "metadata": {}
    }
   ],
   "source": [
    "result = DF.groupby(\"category\").agg({\"arraydata\": lambda x: list(x.sum())})\n",
    "result[\"arraydata\"] = result[\"arraydata\"].apply(np.array)\n",
    "\n",
    "display(result)"
   ]
  },
  {
   "source": [
    "# Pandas agg function gives different results for numpy std vs nanstd"
   ],
   "cell_type": "markdown",
   "metadata": {}
  },
  {
   "cell_type": "code",
   "execution_count": 47,
   "metadata": {},
   "outputs": [
    {
     "output_type": "display_data",
     "data": {
      "text/plain": "           A        B\nfoo  1.17136  1.11816\nfoo  1.13096  1.04134\nfoo  1.13865  1.03414\nbar  1.09053  0.96330\nbar  1.02455  0.94728\nbar  1.18182  1.04950\nbar  1.09620  1.06686",
      "text/html": "<div>\n<style scoped>\n    .dataframe tbody tr th:only-of-type {\n        vertical-align: middle;\n    }\n\n    .dataframe tbody tr th {\n        vertical-align: top;\n    }\n\n    .dataframe thead th {\n        text-align: right;\n    }\n</style>\n<table border=\"1\" class=\"dataframe\">\n  <thead>\n    <tr style=\"text-align: right;\">\n      <th></th>\n      <th>A</th>\n      <th>B</th>\n    </tr>\n  </thead>\n  <tbody>\n    <tr>\n      <th>foo</th>\n      <td>1.17136</td>\n      <td>1.11816</td>\n    </tr>\n    <tr>\n      <th>foo</th>\n      <td>1.13096</td>\n      <td>1.04134</td>\n    </tr>\n    <tr>\n      <th>foo</th>\n      <td>1.13865</td>\n      <td>1.03414</td>\n    </tr>\n    <tr>\n      <th>bar</th>\n      <td>1.09053</td>\n      <td>0.96330</td>\n    </tr>\n    <tr>\n      <th>bar</th>\n      <td>1.02455</td>\n      <td>0.94728</td>\n    </tr>\n    <tr>\n      <th>bar</th>\n      <td>1.18182</td>\n      <td>1.04950</td>\n    </tr>\n    <tr>\n      <th>bar</th>\n      <td>1.09620</td>\n      <td>1.06686</td>\n    </tr>\n  </tbody>\n</table>\n</div>"
     },
     "metadata": {}
    }
   ],
   "source": [
    "arr = np.array([\n",
    "    [1.17136, 1.11816],\n",
    "    [1.13096, 1.04134],\n",
    "    [1.13865, 1.03414],\n",
    "    [1.09053, 0.96330],\n",
    "    [1.02455, 0.94728],\n",
    "    [1.18182, 1.04950],\n",
    "    [1.09620, 1.06686]\n",
    "])\n",
    "\n",
    "df = pd.DataFrame(arr, index=['foo']*3 + ['bar']*4, columns=['A', 'B'])\n",
    "\n",
    "display(df)"
   ]
  },
  {
   "cell_type": "code",
   "execution_count": 50,
   "metadata": {},
   "outputs": [
    {
     "output_type": "display_data",
     "data": {
      "text/plain": "<pandas.core.groupby.generic.DataFrameGroupBy object at 0x0000012DCB54F760>"
     },
     "metadata": {}
    }
   ],
   "source": [
    "g = df.groupby(df.index)\n",
    "\n",
    "display(g)"
   ]
  },
  {
   "cell_type": "code",
   "execution_count": 51,
   "metadata": {},
   "outputs": [
    {
     "output_type": "execute_result",
     "data": {
      "text/plain": [
       "         mean    median       std\n",
       "bar  1.098275  1.093365  0.064497\n",
       "foo  1.146990  1.138650  0.021452"
      ],
      "text/html": "<div>\n<style scoped>\n    .dataframe tbody tr th:only-of-type {\n        vertical-align: middle;\n    }\n\n    .dataframe tbody tr th {\n        vertical-align: top;\n    }\n\n    .dataframe thead th {\n        text-align: right;\n    }\n</style>\n<table border=\"1\" class=\"dataframe\">\n  <thead>\n    <tr style=\"text-align: right;\">\n      <th></th>\n      <th>mean</th>\n      <th>median</th>\n      <th>std</th>\n    </tr>\n  </thead>\n  <tbody>\n    <tr>\n      <th>bar</th>\n      <td>1.098275</td>\n      <td>1.093365</td>\n      <td>0.064497</td>\n    </tr>\n    <tr>\n      <th>foo</th>\n      <td>1.146990</td>\n      <td>1.138650</td>\n      <td>0.021452</td>\n    </tr>\n  </tbody>\n</table>\n</div>"
     },
     "metadata": {},
     "execution_count": 51
    }
   ],
   "source": [
    "g['A'].agg([np.mean, np.median, np.std])"
   ]
  },
  {
   "cell_type": "code",
   "execution_count": 52,
   "metadata": {},
   "outputs": [
    {
     "output_type": "execute_result",
     "data": {
      "text/plain": [
       "         mean    median    nanstd\n",
       "bar  1.098275  1.093365  0.064497\n",
       "foo  1.146990  1.138650  0.021452"
      ],
      "text/html": "<div>\n<style scoped>\n    .dataframe tbody tr th:only-of-type {\n        vertical-align: middle;\n    }\n\n    .dataframe tbody tr th {\n        vertical-align: top;\n    }\n\n    .dataframe thead th {\n        text-align: right;\n    }\n</style>\n<table border=\"1\" class=\"dataframe\">\n  <thead>\n    <tr style=\"text-align: right;\">\n      <th></th>\n      <th>mean</th>\n      <th>median</th>\n      <th>nanstd</th>\n    </tr>\n  </thead>\n  <tbody>\n    <tr>\n      <th>bar</th>\n      <td>1.098275</td>\n      <td>1.093365</td>\n      <td>0.064497</td>\n    </tr>\n    <tr>\n      <th>foo</th>\n      <td>1.146990</td>\n      <td>1.138650</td>\n      <td>0.021452</td>\n    </tr>\n  </tbody>\n</table>\n</div>"
     },
     "metadata": {},
     "execution_count": 52
    }
   ],
   "source": [
    "g['A'].agg([np.mean, np.median, np.nanstd])"
   ]
  },
  {
   "cell_type": "code",
   "execution_count": 53,
   "metadata": {},
   "outputs": [
    {
     "output_type": "execute_result",
     "data": {
      "text/plain": [
       "         mean    median       std\n",
       "bar  1.098275  1.093365  0.064497\n",
       "foo  1.146990  1.138650  0.021452"
      ],
      "text/html": "<div>\n<style scoped>\n    .dataframe tbody tr th:only-of-type {\n        vertical-align: middle;\n    }\n\n    .dataframe tbody tr th {\n        vertical-align: top;\n    }\n\n    .dataframe thead th {\n        text-align: right;\n    }\n</style>\n<table border=\"1\" class=\"dataframe\">\n  <thead>\n    <tr style=\"text-align: right;\">\n      <th></th>\n      <th>mean</th>\n      <th>median</th>\n      <th>std</th>\n    </tr>\n  </thead>\n  <tbody>\n    <tr>\n      <th>bar</th>\n      <td>1.098275</td>\n      <td>1.093365</td>\n      <td>0.064497</td>\n    </tr>\n    <tr>\n      <th>foo</th>\n      <td>1.146990</td>\n      <td>1.138650</td>\n      <td>0.021452</td>\n    </tr>\n  </tbody>\n</table>\n</div>"
     },
     "metadata": {},
     "execution_count": 53
    }
   ],
   "source": [
    "g['A'].agg(['mean', 'median', 'std'])"
   ]
  },
  {
   "cell_type": "code",
   "execution_count": 54,
   "metadata": {},
   "outputs": [
    {
     "output_type": "execute_result",
     "data": {
      "text/plain": [
       "         mean    median  <lambda_0>\n",
       "bar  1.098275  1.093365    0.055856\n",
       "foo  1.146990  1.138650    0.017516"
      ],
      "text/html": "<div>\n<style scoped>\n    .dataframe tbody tr th:only-of-type {\n        vertical-align: middle;\n    }\n\n    .dataframe tbody tr th {\n        vertical-align: top;\n    }\n\n    .dataframe thead th {\n        text-align: right;\n    }\n</style>\n<table border=\"1\" class=\"dataframe\">\n  <thead>\n    <tr style=\"text-align: right;\">\n      <th></th>\n      <th>mean</th>\n      <th>median</th>\n      <th>&lt;lambda_0&gt;</th>\n    </tr>\n  </thead>\n  <tbody>\n    <tr>\n      <th>bar</th>\n      <td>1.098275</td>\n      <td>1.093365</td>\n      <td>0.055856</td>\n    </tr>\n    <tr>\n      <th>foo</th>\n      <td>1.146990</td>\n      <td>1.138650</td>\n      <td>0.017516</td>\n    </tr>\n  </tbody>\n</table>\n</div>"
     },
     "metadata": {},
     "execution_count": 54
    }
   ],
   "source": [
    "g['A'].agg([np.mean, np.median, lambda x: np.std(x)])"
   ]
  },
  {
   "cell_type": "code",
   "execution_count": 55,
   "metadata": {},
   "outputs": [
    {
     "output_type": "execute_result",
     "data": {
      "text/plain": [
       "         mean    median       std  <lambda_0>\n",
       "bar  1.098275  1.093365  0.064497    0.064497\n",
       "foo  1.146990  1.138650  0.021452    0.021452"
      ],
      "text/html": "<div>\n<style scoped>\n    .dataframe tbody tr th:only-of-type {\n        vertical-align: middle;\n    }\n\n    .dataframe tbody tr th {\n        vertical-align: top;\n    }\n\n    .dataframe thead th {\n        text-align: right;\n    }\n</style>\n<table border=\"1\" class=\"dataframe\">\n  <thead>\n    <tr style=\"text-align: right;\">\n      <th></th>\n      <th>mean</th>\n      <th>median</th>\n      <th>std</th>\n      <th>&lt;lambda_0&gt;</th>\n    </tr>\n  </thead>\n  <tbody>\n    <tr>\n      <th>bar</th>\n      <td>1.098275</td>\n      <td>1.093365</td>\n      <td>0.064497</td>\n      <td>0.064497</td>\n    </tr>\n    <tr>\n      <th>foo</th>\n      <td>1.146990</td>\n      <td>1.138650</td>\n      <td>0.021452</td>\n      <td>0.021452</td>\n    </tr>\n  </tbody>\n</table>\n</div>"
     },
     "metadata": {},
     "execution_count": 55
    }
   ],
   "source": [
    "g['A'].agg([np.mean, np.median, np.std, lambda x: np.std(x, ddof=1)])"
   ]
  },
  {
   "cell_type": "code",
   "execution_count": 56,
   "metadata": {},
   "outputs": [
    {
     "output_type": "execute_result",
     "data": {
      "text/plain": [
       "         mean    median       std  <lambda_0>\n",
       "bar  1.098275  1.093365  0.064497    0.064497\n",
       "foo  1.146990  1.138650  0.021452    0.021452"
      ],
      "text/html": "<div>\n<style scoped>\n    .dataframe tbody tr th:only-of-type {\n        vertical-align: middle;\n    }\n\n    .dataframe tbody tr th {\n        vertical-align: top;\n    }\n\n    .dataframe thead th {\n        text-align: right;\n    }\n</style>\n<table border=\"1\" class=\"dataframe\">\n  <thead>\n    <tr style=\"text-align: right;\">\n      <th></th>\n      <th>mean</th>\n      <th>median</th>\n      <th>std</th>\n      <th>&lt;lambda_0&gt;</th>\n    </tr>\n  </thead>\n  <tbody>\n    <tr>\n      <th>bar</th>\n      <td>1.098275</td>\n      <td>1.093365</td>\n      <td>0.064497</td>\n      <td>0.064497</td>\n    </tr>\n    <tr>\n      <th>foo</th>\n      <td>1.146990</td>\n      <td>1.138650</td>\n      <td>0.021452</td>\n      <td>0.021452</td>\n    </tr>\n  </tbody>\n</table>\n</div>"
     },
     "metadata": {},
     "execution_count": 56
    }
   ],
   "source": [
    "g['A'].agg([np.mean, np.median, 'std', lambda x: np.std(x, ddof=1)])"
   ]
  }
 ]
}