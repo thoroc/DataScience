{
 "metadata": {
  "language_info": {
   "codemirror_mode": {
    "name": "ipython",
    "version": 3
   },
   "file_extension": ".py",
   "mimetype": "text/x-python",
   "name": "python",
   "nbconvert_exporter": "python",
   "pygments_lexer": "ipython3",
   "version": "3.8.5"
  },
  "orig_nbformat": 2,
  "kernelspec": {
   "name": "python385jvsc74a57bd0b3ba2566441a7c06988d0923437866b63cedc61552a5af99d1f4fb67d367b25f",
   "display_name": "Python 3.8.5 64-bit ('base': conda)"
  }
 },
 "nbformat": 4,
 "nbformat_minor": 2,
 "cells": [
  {
   "cell_type": "code",
   "execution_count": 1,
   "metadata": {},
   "outputs": [],
   "source": [
    "from random import randint\n",
    "from datetime import date, datetime\n",
    "import pandas as pd\n",
    "from pathlib import Path"
   ]
  },
  {
   "cell_type": "code",
   "execution_count": 2,
   "metadata": {},
   "outputs": [
    {
     "output_type": "execute_result",
     "data": {
      "text/plain": [
       "['Craig', 'Gary', 'Sean', 'Thomas']"
      ]
     },
     "metadata": {},
     "execution_count": 2
    }
   ],
   "source": [
    "users = ['Craig', 'Gary', 'Sean', 'Thomas']\n",
    "\n",
    "users"
   ]
  },
  {
   "cell_type": "code",
   "execution_count": 3,
   "metadata": {},
   "outputs": [
    {
     "output_type": "execute_result",
     "data": {
      "text/plain": [
       "('Craig', 'Sean')"
      ]
     },
     "metadata": {},
     "execution_count": 3
    }
   ],
   "source": [
    "def get_initial_batman_and_robin(users):\n",
    "    choices = users.copy()\n",
    "    batman = choices[randint(0, len(choices) - 1)]\n",
    "    choices.remove(batman)\n",
    "    robin = choices[randint(0, len(choices) - 1)]\n",
    "\n",
    "    return (batman, robin)\n",
    "\n",
    "get_initial_batman_and_robin(users)"
   ]
  },
  {
   "cell_type": "code",
   "execution_count": 4,
   "metadata": {},
   "outputs": [
    {
     "output_type": "execute_result",
     "data": {
      "text/plain": [
       "'Thomas'"
      ]
     },
     "metadata": {},
     "execution_count": 4
    }
   ],
   "source": [
    "def get_batman(users, batman, robin):\n",
    "    choices = users.copy()\n",
    "    choices.remove(batman)\n",
    "    choices.remove(robin)\n",
    "    \n",
    "    return choices[randint(0, len(choices) - 1)]\n",
    "\n",
    "get_batman(users, 'Craig', 'Sean')"
   ]
  },
  {
   "cell_type": "code",
   "execution_count": 5,
   "metadata": {},
   "outputs": [
    {
     "output_type": "stream",
     "name": "stdout",
     "text": [
      "('Gary', 'Craig')\n('Craig', 'Sean')\n('Thomas', 'Craig')\n('Thomas', 'Sean')\n('Craig', 'Sean')\n"
     ]
    }
   ],
   "source": [
    "def get_champs(candidates, batman = None, robin = None):\n",
    "    choices = candidates.copy()\n",
    "\n",
    "    if batman != None:\n",
    "        choices.remove(batman)\n",
    "\n",
    "    if robin != None:\n",
    "        choices.remove(robin)\n",
    "\n",
    "    batman = choices[randint(0, len(choices) - 1)]\n",
    "    choices.remove(batman)\n",
    "    robin = choices[randint(0, len(choices) - 1)]\n",
    "    return (batman, robin)\n",
    "\n",
    "print(get_champs(users))\n",
    "print(get_champs(users, 'Thomas'))\n",
    "print(get_champs(users, robin='Sean'))\n",
    "print(get_champs(users, batman='Craig'))\n",
    "print(get_champs(users, 'Gary', 'Thomas'))"
   ]
  },
  {
   "cell_type": "code",
   "execution_count": 6,
   "metadata": {},
   "outputs": [
    {
     "output_type": "execute_result",
     "data": {
      "text/plain": [
       "['Craig', 'Gary', 'Sean', 'Thomas']"
      ]
     },
     "metadata": {},
     "execution_count": 6
    }
   ],
   "source": [
    "users"
   ]
  },
  {
   "cell_type": "code",
   "execution_count": 7,
   "metadata": {},
   "outputs": [
    {
     "output_type": "stream",
     "name": "stdout",
     "text": [
      "DatetimeIndex(['2021-01-04', '2021-01-11', '2021-01-18', '2021-01-25',\n               '2021-02-01'],\n              dtype='datetime64[ns]', freq='W-MON')\n"
     ]
    }
   ],
   "source": [
    "def get_date_range(start_date, end_date):\n",
    "    dates = pd.date_range(start_date, end_date, freq='W-MON')\n",
    "    return dates\n",
    "    # return [i.strftime('%Y-%m-%d') for i in dates]\n",
    "    \n",
    "start_date = date(2021, 1, 1)\n",
    "end_date = date(2021, 12, 31)\n",
    "dates = get_date_range(start_date, end_date)\n",
    "\n",
    "print(dates[:5])"
   ]
  },
  {
   "cell_type": "code",
   "execution_count": 8,
   "metadata": {},
   "outputs": [
    {
     "output_type": "execute_result",
     "data": {
      "text/plain": [
       "  Weekly date  Batman   Robin\n",
       "0  2021-01-04  Thomas    Gary\n",
       "1  2021-01-11    Sean  Thomas\n",
       "2  2021-01-18   Craig    Sean\n",
       "3  2021-01-25  Thomas   Craig\n",
       "4  2021-02-01    Gary  Thomas"
      ],
      "text/html": "<div>\n<style scoped>\n    .dataframe tbody tr th:only-of-type {\n        vertical-align: middle;\n    }\n\n    .dataframe tbody tr th {\n        vertical-align: top;\n    }\n\n    .dataframe thead th {\n        text-align: right;\n    }\n</style>\n<table border=\"1\" class=\"dataframe\">\n  <thead>\n    <tr style=\"text-align: right;\">\n      <th></th>\n      <th>Weekly date</th>\n      <th>Batman</th>\n      <th>Robin</th>\n    </tr>\n  </thead>\n  <tbody>\n    <tr>\n      <th>0</th>\n      <td>2021-01-04</td>\n      <td>Thomas</td>\n      <td>Gary</td>\n    </tr>\n    <tr>\n      <th>1</th>\n      <td>2021-01-11</td>\n      <td>Sean</td>\n      <td>Thomas</td>\n    </tr>\n    <tr>\n      <th>2</th>\n      <td>2021-01-18</td>\n      <td>Craig</td>\n      <td>Sean</td>\n    </tr>\n    <tr>\n      <th>3</th>\n      <td>2021-01-25</td>\n      <td>Thomas</td>\n      <td>Craig</td>\n    </tr>\n    <tr>\n      <th>4</th>\n      <td>2021-02-01</td>\n      <td>Gary</td>\n      <td>Thomas</td>\n    </tr>\n  </tbody>\n</table>\n</div>"
     },
     "metadata": {},
     "execution_count": 8
    }
   ],
   "source": [
    "def populate_users(dates, users):\n",
    "    data = []\n",
    "    for i in range(len(dates)):\n",
    "        if i == 0:\n",
    "            # batman, robin = get_initial_batman_and_robin(users)\n",
    "            batman, robin = get_champs(users)\n",
    "        else:\n",
    "            robin = data[i - 1]['Batman']\n",
    "            batman = get_champs(users, robin=robin)[0]\n",
    "        data.append({\n",
    "            'Weekly date': dates[i],\n",
    "            'Batman': batman,\n",
    "            'Robin': robin,\n",
    "        })\n",
    "        \n",
    "    return pd.DataFrame(data)\n",
    "\n",
    "rota = pd.DataFrame(populate_users(dates, users))\n",
    "rota.head(5)"
   ]
  },
  {
   "cell_type": "code",
   "execution_count": 19,
   "metadata": {},
   "outputs": [
    {
     "output_type": "stream",
     "name": "stdout",
     "text": [
      "Last Date in the month: 2021-04-30\nIs the first day a Monday? False\nToday=2021-04-16 (Friday), Last Monday=2021-04-13, Next Friday=2021-04-16\n"
     ]
    }
   ],
   "source": [
    "import calendar\n",
    "from datetime import timedelta\n",
    "\n",
    "def get_last_day_of_the_month(dto):\n",
    "    weekday, days = calendar.monthrange(dto.year, dto.month)\n",
    "    return date(dto.year, dto.month, days)\n",
    "\n",
    "last_day = get_last_day_of_the_month(today)\n",
    "print(f'Last Date in the month: {last_day}')\n",
    "\n",
    "def is_first_day_monday(dto):\n",
    "    weekday, days = calendar.monthrange(dto.year, dto.month)\n",
    "    return weekday == 0\n",
    "\n",
    "print(f'Is the first day a Monday? {is_first_day_monday(today)}')\n",
    "\n",
    "def is_draw_week(start_date, end_date):\n",
    "    # Wednesday must be the 1st at the very latest\n",
    "\n",
    "def get_monday(dto):\n",
    "    if 0 == dto.weekday():\n",
    "        return dto\n",
    "    return dto - timedelta(days=-dto.weekday(), weeks=1)\n",
    "\n",
    "def get_friday(dto):\n",
    "    if 4 == dto.weekday():\n",
    "        return dto\n",
    "    return dto - timedelta(days=dto.weekday()) + timedelta(days=4, weeks=-1)\n",
    "\n",
    "today = date.today()\n",
    "monday = get_monday(today)\n",
    "friday = get_friday(today)\n",
    "\n",
    "print(f'Today={today} ({calendar.day_name[today.weekday()]}), Last Monday={monday}, Next Friday={friday}')"
   ]
  },
  {
   "cell_type": "code",
   "execution_count": 11,
   "metadata": {},
   "outputs": [
    {
     "output_type": "execute_result",
     "data": {
      "text/plain": [
       "  Weekly date Weekday start End of Week Weekday end  Draw Week  Batman   Robin\n",
       "0  2021-01-04        Monday  2021-01-08      Friday 2021-01-04  Thomas    Gary\n",
       "1  2021-01-11        Monday  2021-01-15      Friday 2021-01-11    Sean  Thomas\n",
       "2  2021-01-18        Monday  2021-01-22      Friday 2021-01-18   Craig    Sean\n",
       "3  2021-01-25        Monday  2021-01-29      Friday 2021-01-25  Thomas   Craig\n",
       "4  2021-02-01        Monday  2021-02-05      Friday 2021-02-01    Gary  Thomas"
      ],
      "text/html": "<div>\n<style scoped>\n    .dataframe tbody tr th:only-of-type {\n        vertical-align: middle;\n    }\n\n    .dataframe tbody tr th {\n        vertical-align: top;\n    }\n\n    .dataframe thead th {\n        text-align: right;\n    }\n</style>\n<table border=\"1\" class=\"dataframe\">\n  <thead>\n    <tr style=\"text-align: right;\">\n      <th></th>\n      <th>Weekly date</th>\n      <th>Weekday start</th>\n      <th>End of Week</th>\n      <th>Weekday end</th>\n      <th>Draw Week</th>\n      <th>Batman</th>\n      <th>Robin</th>\n    </tr>\n  </thead>\n  <tbody>\n    <tr>\n      <th>0</th>\n      <td>2021-01-04</td>\n      <td>Monday</td>\n      <td>2021-01-08</td>\n      <td>Friday</td>\n      <td>2021-01-04</td>\n      <td>Thomas</td>\n      <td>Gary</td>\n    </tr>\n    <tr>\n      <th>1</th>\n      <td>2021-01-11</td>\n      <td>Monday</td>\n      <td>2021-01-15</td>\n      <td>Friday</td>\n      <td>2021-01-11</td>\n      <td>Sean</td>\n      <td>Thomas</td>\n    </tr>\n    <tr>\n      <th>2</th>\n      <td>2021-01-18</td>\n      <td>Monday</td>\n      <td>2021-01-22</td>\n      <td>Friday</td>\n      <td>2021-01-18</td>\n      <td>Craig</td>\n      <td>Sean</td>\n    </tr>\n    <tr>\n      <th>3</th>\n      <td>2021-01-25</td>\n      <td>Monday</td>\n      <td>2021-01-29</td>\n      <td>Friday</td>\n      <td>2021-01-25</td>\n      <td>Thomas</td>\n      <td>Craig</td>\n    </tr>\n    <tr>\n      <th>4</th>\n      <td>2021-02-01</td>\n      <td>Monday</td>\n      <td>2021-02-05</td>\n      <td>Friday</td>\n      <td>2021-02-01</td>\n      <td>Gary</td>\n      <td>Thomas</td>\n    </tr>\n  </tbody>\n</table>\n</div>"
     },
     "metadata": {},
     "execution_count": 11
    }
   ],
   "source": [
    "rota['End of Week'] = rota['Weekly date'] + pd.offsets.Week(weekday=4)\n",
    "rota['Weekday start'] = rota['Weekly date'].dt.day_name()\n",
    "rota['Weekday end'] = rota['End of Week'].dt.day_name()\n",
    "rota['Draw Week'] = rota['Weekly date']\n",
    "rota = rota[['Weekly date', 'Weekday start', 'End of Week', 'Weekday end', 'Draw Week', 'Batman', 'Robin']]\n",
    "rota.head()"
   ]
  },
  {
   "cell_type": "code",
   "execution_count": 12,
   "metadata": {},
   "outputs": [
    {
     "output_type": "execute_result",
     "data": {
      "text/plain": [
       "  Weekly Dates Batman Support Robin Support\n",
       "0   04/01/2021          Craig        Thomas\n",
       "1   11/01/2021         Thomas          Gary\n",
       "2   18/01/2021           Gary          Sean\n",
       "3   25/01/2021           Sean        Thomas\n",
       "4   01/02/2021         Thomas          Gary"
      ],
      "text/html": "<div>\n<style scoped>\n    .dataframe tbody tr th:only-of-type {\n        vertical-align: middle;\n    }\n\n    .dataframe tbody tr th {\n        vertical-align: top;\n    }\n\n    .dataframe thead th {\n        text-align: right;\n    }\n</style>\n<table border=\"1\" class=\"dataframe\">\n  <thead>\n    <tr style=\"text-align: right;\">\n      <th></th>\n      <th>Weekly Dates</th>\n      <th>Batman Support</th>\n      <th>Robin Support</th>\n    </tr>\n  </thead>\n  <tbody>\n    <tr>\n      <th>0</th>\n      <td>04/01/2021</td>\n      <td>Craig</td>\n      <td>Thomas</td>\n    </tr>\n    <tr>\n      <th>1</th>\n      <td>11/01/2021</td>\n      <td>Thomas</td>\n      <td>Gary</td>\n    </tr>\n    <tr>\n      <th>2</th>\n      <td>18/01/2021</td>\n      <td>Gary</td>\n      <td>Sean</td>\n    </tr>\n    <tr>\n      <th>3</th>\n      <td>25/01/2021</td>\n      <td>Sean</td>\n      <td>Thomas</td>\n    </tr>\n    <tr>\n      <th>4</th>\n      <td>01/02/2021</td>\n      <td>Thomas</td>\n      <td>Gary</td>\n    </tr>\n  </tbody>\n</table>\n</div>"
     },
     "metadata": {},
     "execution_count": 12
    }
   ],
   "source": [
    "data_file = Path('data', 'routa.csv')\n",
    "df = pd.read_csv(data_file)\n",
    "df.head(5)\n"
   ]
  },
  {
   "cell_type": "code",
   "execution_count": 13,
   "metadata": {},
   "outputs": [
    {
     "output_type": "execute_result",
     "data": {
      "text/plain": [
       "Batman\n",
       "Craig      9\n",
       "Gary      11\n",
       "Sean      13\n",
       "Thomas    19\n",
       "Name: Weekly date, dtype: int64"
      ]
     },
     "metadata": {},
     "execution_count": 13
    }
   ],
   "source": [
    "rota.groupby(['Batman'])['Weekly date'].count()"
   ]
  },
  {
   "cell_type": "code",
   "execution_count": null,
   "metadata": {},
   "outputs": [],
   "source": []
  }
 ]
}