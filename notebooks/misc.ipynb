{
 "metadata": {
  "language_info": {
   "codemirror_mode": {
    "name": "ipython",
    "version": 3
   },
   "file_extension": ".py",
   "mimetype": "text/x-python",
   "name": "python",
   "nbconvert_exporter": "python",
   "pygments_lexer": "ipython3",
   "version": "3.9.0"
  },
  "orig_nbformat": 2,
  "kernelspec": {
   "name": "pythonjvsc74a57bd0f986b2146d1d979e0b59e1ce291b438a192131f5cf93776136015019779e7c2f",
   "display_name": "Python 3.9.0  ('.venv': venv)"
  },
  "metadata": {
   "interpreter": {
    "hash": "f986b2146d1d979e0b59e1ce291b438a192131f5cf93776136015019779e7c2f"
   }
  }
 },
 "nbformat": 4,
 "nbformat_minor": 2,
 "cells": [
  {
   "cell_type": "code",
   "execution_count": 1,
   "metadata": {},
   "outputs": [
    {
     "output_type": "execute_result",
     "data": {
      "text/plain": [
       "{'box': [10, 15, 20, 25, 30, 40],\n",
       " 'price': [16.99, 21.99, 22.99, 29.99, 29.99, 44.99]}"
      ]
     },
     "metadata": {},
     "execution_count": 1
    }
   ],
   "source": [
    "import pandas as pd\n",
    "\n",
    "boxes = {\n",
    "    'box': [10, 15, 20, 25, 30, 40],\n",
    "    'price': [16.99, 21.99, 22.99, 29.99, 29.99, 44.99]\n",
    "    }\n",
    "boxes"
   ]
  },
  {
   "cell_type": "code",
   "execution_count": 2,
   "metadata": {},
   "outputs": [
    {
     "output_type": "execute_result",
     "data": {
      "text/plain": [
       "   box  price      unit\n",
       "0   10  16.99  1.699000\n",
       "1   15  21.99  1.466000\n",
       "2   20  22.99  1.149500\n",
       "3   25  29.99  1.199600\n",
       "4   30  29.99  0.999667\n",
       "5   40  44.99  1.124750"
      ],
      "text/html": "<div>\n<style scoped>\n    .dataframe tbody tr th:only-of-type {\n        vertical-align: middle;\n    }\n\n    .dataframe tbody tr th {\n        vertical-align: top;\n    }\n\n    .dataframe thead th {\n        text-align: right;\n    }\n</style>\n<table border=\"1\" class=\"dataframe\">\n  <thead>\n    <tr style=\"text-align: right;\">\n      <th></th>\n      <th>box</th>\n      <th>price</th>\n      <th>unit</th>\n    </tr>\n  </thead>\n  <tbody>\n    <tr>\n      <th>0</th>\n      <td>10</td>\n      <td>16.99</td>\n      <td>1.699000</td>\n    </tr>\n    <tr>\n      <th>1</th>\n      <td>15</td>\n      <td>21.99</td>\n      <td>1.466000</td>\n    </tr>\n    <tr>\n      <th>2</th>\n      <td>20</td>\n      <td>22.99</td>\n      <td>1.149500</td>\n    </tr>\n    <tr>\n      <th>3</th>\n      <td>25</td>\n      <td>29.99</td>\n      <td>1.199600</td>\n    </tr>\n    <tr>\n      <th>4</th>\n      <td>30</td>\n      <td>29.99</td>\n      <td>0.999667</td>\n    </tr>\n    <tr>\n      <th>5</th>\n      <td>40</td>\n      <td>44.99</td>\n      <td>1.124750</td>\n    </tr>\n  </tbody>\n</table>\n</div>"
     },
     "metadata": {},
     "execution_count": 2
    }
   ],
   "source": [
    "df = pd.DataFrame(boxes)\n",
    "df['unit'] = df['price'] / df['box']\n",
    "df"
   ]
  },
  {
   "cell_type": "code",
   "execution_count": 3,
   "metadata": {},
   "outputs": [
    {
     "output_type": "stream",
     "name": "stdout",
     "text": [
      "Requirement already satisfied: lxml in e:\\projects\\data-science\\.venv\\lib\\site-packages (4.6.3)\n"
     ]
    }
   ],
   "source": [
    "import sys\n",
    "!{sys.executable} -m pip install lxml "
   ]
  },
  {
   "cell_type": "code",
   "execution_count": 4,
   "metadata": {},
   "outputs": [
    {
     "output_type": "stream",
     "name": "stderr",
     "text": [
      "'conda' is not recognized as an internal or external command,\noperable program or batch file.\n"
     ]
    }
   ],
   "source": [
    "import sys\n",
    "!conda install --yes --prefix {sys.prefix} lxml"
   ]
  },
  {
   "cell_type": "code",
   "execution_count": 11,
   "metadata": {
    "tags": []
   },
   "outputs": [
    {
     "output_type": "stream",
     "name": "stdout",
     "text": [
      "<class 'list'>\n"
     ]
    }
   ],
   "source": [
    "wiki_page = pd.read_html(\"https://en.wikipedia.org/wiki/Glasgow#Climate\")\n",
    "print(type(wiki_page))"
   ]
  },
  {
   "cell_type": "code",
   "execution_count": 14,
   "metadata": {
    "tags": []
   },
   "outputs": [
    {
     "output_type": "stream",
     "name": "stdout",
     "text": [
      "25\n['Glasgow  Glesca, Glesga (Scots)[1]Glaschu (Scottish Gaelic)', 'Glasgow  Glesca, Glesga (Scots)[1]Glaschu (Scottish Gaelic).1']\n['The coat of arms of the City of Glasgow', 'The coat of arms of the City of Glasgow.1']\n['Destinations from Glasgow', 'Destinations from Glasgow.1', 'Unnamed: 2']\n[0, 1, 2]\n[('.mw-parser-output .navbar{display:inline;font-size:88%;font-weight:normal}.mw-parser-output .navbar-collapse{float:left;text-align:left}.mw-parser-output .navbar-boxtext{word-spacing:0}.mw-parser-output .navbar ul{display:inline-block;white-space:nowrap;line-height:inherit}.mw-parser-output .navbar-brackets::before{margin-right:-0.125em;content:\"[ \"}.mw-parser-output .navbar-brackets::after{margin-left:-0.125em;content:\" ]\"}.mw-parser-output .navbar li{word-spacing:-0.125em}.mw-parser-output .navbar-mini abbr{font-variant:small-caps;border-bottom:none;text-decoration:none;cursor:inherit}.mw-parser-output .navbar-ct-full{font-size:114%;margin:0 7em}.mw-parser-output .navbar-ct-mini{font-size:114%;margin:0 4em}.mw-parser-output .infobox .navbar{font-size:100%}.mw-parser-output .navbox .navbar{display:block;font-size:100%}.mw-parser-output .navbox-title .navbar{float:left;text-align:left;margin-right:0.5em}vteClimate data for Paisley[a], elevation: 16\\xa0m (52\\xa0ft), 1981–2010 normals, extremes 1959–present', 'Month'), ('.mw-parser-output .navbar{display:inline;font-size:88%;font-weight:normal}.mw-parser-output .navbar-collapse{float:left;text-align:left}.mw-parser-output .navbar-boxtext{word-spacing:0}.mw-parser-output .navbar ul{display:inline-block;white-space:nowrap;line-height:inherit}.mw-parser-output .navbar-brackets::before{margin-right:-0.125em;content:\"[ \"}.mw-parser-output .navbar-brackets::after{margin-left:-0.125em;content:\" ]\"}.mw-parser-output .navbar li{word-spacing:-0.125em}.mw-parser-output .navbar-mini abbr{font-variant:small-caps;border-bottom:none;text-decoration:none;cursor:inherit}.mw-parser-output .navbar-ct-full{font-size:114%;margin:0 7em}.mw-parser-output .navbar-ct-mini{font-size:114%;margin:0 4em}.mw-parser-output .infobox .navbar{font-size:100%}.mw-parser-output .navbox .navbar{display:block;font-size:100%}.mw-parser-output .navbox-title .navbar{float:left;text-align:left;margin-right:0.5em}vteClimate data for Paisley[a], elevation: 16\\xa0m (52\\xa0ft), 1981–2010 normals, extremes 1959–present', 'Jan'), ('.mw-parser-output .navbar{display:inline;font-size:88%;font-weight:normal}.mw-parser-output .navbar-collapse{float:left;text-align:left}.mw-parser-output .navbar-boxtext{word-spacing:0}.mw-parser-output .navbar ul{display:inline-block;white-space:nowrap;line-height:inherit}.mw-parser-output .navbar-brackets::before{margin-right:-0.125em;content:\"[ \"}.mw-parser-output .navbar-brackets::after{margin-left:-0.125em;content:\" ]\"}.mw-parser-output .navbar li{word-spacing:-0.125em}.mw-parser-output .navbar-mini abbr{font-variant:small-caps;border-bottom:none;text-decoration:none;cursor:inherit}.mw-parser-output .navbar-ct-full{font-size:114%;margin:0 7em}.mw-parser-output .navbar-ct-mini{font-size:114%;margin:0 4em}.mw-parser-output .infobox .navbar{font-size:100%}.mw-parser-output .navbox .navbar{display:block;font-size:100%}.mw-parser-output .navbox-title .navbar{float:left;text-align:left;margin-right:0.5em}vteClimate data for Paisley[a], elevation: 16\\xa0m (52\\xa0ft), 1981–2010 normals, extremes 1959–present', 'Feb'), ('.mw-parser-output .navbar{display:inline;font-size:88%;font-weight:normal}.mw-parser-output .navbar-collapse{float:left;text-align:left}.mw-parser-output .navbar-boxtext{word-spacing:0}.mw-parser-output .navbar ul{display:inline-block;white-space:nowrap;line-height:inherit}.mw-parser-output .navbar-brackets::before{margin-right:-0.125em;content:\"[ \"}.mw-parser-output .navbar-brackets::after{margin-left:-0.125em;content:\" ]\"}.mw-parser-output .navbar li{word-spacing:-0.125em}.mw-parser-output .navbar-mini abbr{font-variant:small-caps;border-bottom:none;text-decoration:none;cursor:inherit}.mw-parser-output .navbar-ct-full{font-size:114%;margin:0 7em}.mw-parser-output .navbar-ct-mini{font-size:114%;margin:0 4em}.mw-parser-output .infobox .navbar{font-size:100%}.mw-parser-output .navbox .navbar{display:block;font-size:100%}.mw-parser-output .navbox-title .navbar{float:left;text-align:left;margin-right:0.5em}vteClimate data for Paisley[a], elevation: 16\\xa0m (52\\xa0ft), 1981–2010 normals, extremes 1959–present', 'Mar'), ('.mw-parser-output .navbar{display:inline;font-size:88%;font-weight:normal}.mw-parser-output .navbar-collapse{float:left;text-align:left}.mw-parser-output .navbar-boxtext{word-spacing:0}.mw-parser-output .navbar ul{display:inline-block;white-space:nowrap;line-height:inherit}.mw-parser-output .navbar-brackets::before{margin-right:-0.125em;content:\"[ \"}.mw-parser-output .navbar-brackets::after{margin-left:-0.125em;content:\" ]\"}.mw-parser-output .navbar li{word-spacing:-0.125em}.mw-parser-output .navbar-mini abbr{font-variant:small-caps;border-bottom:none;text-decoration:none;cursor:inherit}.mw-parser-output .navbar-ct-full{font-size:114%;margin:0 7em}.mw-parser-output .navbar-ct-mini{font-size:114%;margin:0 4em}.mw-parser-output .infobox .navbar{font-size:100%}.mw-parser-output .navbox .navbar{display:block;font-size:100%}.mw-parser-output .navbox-title .navbar{float:left;text-align:left;margin-right:0.5em}vteClimate data for Paisley[a], elevation: 16\\xa0m (52\\xa0ft), 1981–2010 normals, extremes 1959–present', 'Apr'), ('.mw-parser-output .navbar{display:inline;font-size:88%;font-weight:normal}.mw-parser-output .navbar-collapse{float:left;text-align:left}.mw-parser-output .navbar-boxtext{word-spacing:0}.mw-parser-output .navbar ul{display:inline-block;white-space:nowrap;line-height:inherit}.mw-parser-output .navbar-brackets::before{margin-right:-0.125em;content:\"[ \"}.mw-parser-output .navbar-brackets::after{margin-left:-0.125em;content:\" ]\"}.mw-parser-output .navbar li{word-spacing:-0.125em}.mw-parser-output .navbar-mini abbr{font-variant:small-caps;border-bottom:none;text-decoration:none;cursor:inherit}.mw-parser-output .navbar-ct-full{font-size:114%;margin:0 7em}.mw-parser-output .navbar-ct-mini{font-size:114%;margin:0 4em}.mw-parser-output .infobox .navbar{font-size:100%}.mw-parser-output .navbox .navbar{display:block;font-size:100%}.mw-parser-output .navbox-title .navbar{float:left;text-align:left;margin-right:0.5em}vteClimate data for Paisley[a], elevation: 16\\xa0m (52\\xa0ft), 1981–2010 normals, extremes 1959–present', 'May'), ('.mw-parser-output .navbar{display:inline;font-size:88%;font-weight:normal}.mw-parser-output .navbar-collapse{float:left;text-align:left}.mw-parser-output .navbar-boxtext{word-spacing:0}.mw-parser-output .navbar ul{display:inline-block;white-space:nowrap;line-height:inherit}.mw-parser-output .navbar-brackets::before{margin-right:-0.125em;content:\"[ \"}.mw-parser-output .navbar-brackets::after{margin-left:-0.125em;content:\" ]\"}.mw-parser-output .navbar li{word-spacing:-0.125em}.mw-parser-output .navbar-mini abbr{font-variant:small-caps;border-bottom:none;text-decoration:none;cursor:inherit}.mw-parser-output .navbar-ct-full{font-size:114%;margin:0 7em}.mw-parser-output .navbar-ct-mini{font-size:114%;margin:0 4em}.mw-parser-output .infobox .navbar{font-size:100%}.mw-parser-output .navbox .navbar{display:block;font-size:100%}.mw-parser-output .navbox-title .navbar{float:left;text-align:left;margin-right:0.5em}vteClimate data for Paisley[a], elevation: 16\\xa0m (52\\xa0ft), 1981–2010 normals, extremes 1959–present', 'Jun'), ('.mw-parser-output .navbar{display:inline;font-size:88%;font-weight:normal}.mw-parser-output .navbar-collapse{float:left;text-align:left}.mw-parser-output .navbar-boxtext{word-spacing:0}.mw-parser-output .navbar ul{display:inline-block;white-space:nowrap;line-height:inherit}.mw-parser-output .navbar-brackets::before{margin-right:-0.125em;content:\"[ \"}.mw-parser-output .navbar-brackets::after{margin-left:-0.125em;content:\" ]\"}.mw-parser-output .navbar li{word-spacing:-0.125em}.mw-parser-output .navbar-mini abbr{font-variant:small-caps;border-bottom:none;text-decoration:none;cursor:inherit}.mw-parser-output .navbar-ct-full{font-size:114%;margin:0 7em}.mw-parser-output .navbar-ct-mini{font-size:114%;margin:0 4em}.mw-parser-output .infobox .navbar{font-size:100%}.mw-parser-output .navbox .navbar{display:block;font-size:100%}.mw-parser-output .navbox-title .navbar{float:left;text-align:left;margin-right:0.5em}vteClimate data for Paisley[a], elevation: 16\\xa0m (52\\xa0ft), 1981–2010 normals, extremes 1959–present', 'Jul'), ('.mw-parser-output .navbar{display:inline;font-size:88%;font-weight:normal}.mw-parser-output .navbar-collapse{float:left;text-align:left}.mw-parser-output .navbar-boxtext{word-spacing:0}.mw-parser-output .navbar ul{display:inline-block;white-space:nowrap;line-height:inherit}.mw-parser-output .navbar-brackets::before{margin-right:-0.125em;content:\"[ \"}.mw-parser-output .navbar-brackets::after{margin-left:-0.125em;content:\" ]\"}.mw-parser-output .navbar li{word-spacing:-0.125em}.mw-parser-output .navbar-mini abbr{font-variant:small-caps;border-bottom:none;text-decoration:none;cursor:inherit}.mw-parser-output .navbar-ct-full{font-size:114%;margin:0 7em}.mw-parser-output .navbar-ct-mini{font-size:114%;margin:0 4em}.mw-parser-output .infobox .navbar{font-size:100%}.mw-parser-output .navbox .navbar{display:block;font-size:100%}.mw-parser-output .navbox-title .navbar{float:left;text-align:left;margin-right:0.5em}vteClimate data for Paisley[a], elevation: 16\\xa0m (52\\xa0ft), 1981–2010 normals, extremes 1959–present', 'Aug'), ('.mw-parser-output .navbar{display:inline;font-size:88%;font-weight:normal}.mw-parser-output .navbar-collapse{float:left;text-align:left}.mw-parser-output .navbar-boxtext{word-spacing:0}.mw-parser-output .navbar ul{display:inline-block;white-space:nowrap;line-height:inherit}.mw-parser-output .navbar-brackets::before{margin-right:-0.125em;content:\"[ \"}.mw-parser-output .navbar-brackets::after{margin-left:-0.125em;content:\" ]\"}.mw-parser-output .navbar li{word-spacing:-0.125em}.mw-parser-output .navbar-mini abbr{font-variant:small-caps;border-bottom:none;text-decoration:none;cursor:inherit}.mw-parser-output .navbar-ct-full{font-size:114%;margin:0 7em}.mw-parser-output .navbar-ct-mini{font-size:114%;margin:0 4em}.mw-parser-output .infobox .navbar{font-size:100%}.mw-parser-output .navbox .navbar{display:block;font-size:100%}.mw-parser-output .navbox-title .navbar{float:left;text-align:left;margin-right:0.5em}vteClimate data for Paisley[a], elevation: 16\\xa0m (52\\xa0ft), 1981–2010 normals, extremes 1959–present', 'Sep'), ('.mw-parser-output .navbar{display:inline;font-size:88%;font-weight:normal}.mw-parser-output .navbar-collapse{float:left;text-align:left}.mw-parser-output .navbar-boxtext{word-spacing:0}.mw-parser-output .navbar ul{display:inline-block;white-space:nowrap;line-height:inherit}.mw-parser-output .navbar-brackets::before{margin-right:-0.125em;content:\"[ \"}.mw-parser-output .navbar-brackets::after{margin-left:-0.125em;content:\" ]\"}.mw-parser-output .navbar li{word-spacing:-0.125em}.mw-parser-output .navbar-mini abbr{font-variant:small-caps;border-bottom:none;text-decoration:none;cursor:inherit}.mw-parser-output .navbar-ct-full{font-size:114%;margin:0 7em}.mw-parser-output .navbar-ct-mini{font-size:114%;margin:0 4em}.mw-parser-output .infobox .navbar{font-size:100%}.mw-parser-output .navbox .navbar{display:block;font-size:100%}.mw-parser-output .navbox-title .navbar{float:left;text-align:left;margin-right:0.5em}vteClimate data for Paisley[a], elevation: 16\\xa0m (52\\xa0ft), 1981–2010 normals, extremes 1959–present', 'Oct'), ('.mw-parser-output .navbar{display:inline;font-size:88%;font-weight:normal}.mw-parser-output .navbar-collapse{float:left;text-align:left}.mw-parser-output .navbar-boxtext{word-spacing:0}.mw-parser-output .navbar ul{display:inline-block;white-space:nowrap;line-height:inherit}.mw-parser-output .navbar-brackets::before{margin-right:-0.125em;content:\"[ \"}.mw-parser-output .navbar-brackets::after{margin-left:-0.125em;content:\" ]\"}.mw-parser-output .navbar li{word-spacing:-0.125em}.mw-parser-output .navbar-mini abbr{font-variant:small-caps;border-bottom:none;text-decoration:none;cursor:inherit}.mw-parser-output .navbar-ct-full{font-size:114%;margin:0 7em}.mw-parser-output .navbar-ct-mini{font-size:114%;margin:0 4em}.mw-parser-output .infobox .navbar{font-size:100%}.mw-parser-output .navbox .navbar{display:block;font-size:100%}.mw-parser-output .navbox-title .navbar{float:left;text-align:left;margin-right:0.5em}vteClimate data for Paisley[a], elevation: 16\\xa0m (52\\xa0ft), 1981–2010 normals, extremes 1959–present', 'Nov'), ('.mw-parser-output .navbar{display:inline;font-size:88%;font-weight:normal}.mw-parser-output .navbar-collapse{float:left;text-align:left}.mw-parser-output .navbar-boxtext{word-spacing:0}.mw-parser-output .navbar ul{display:inline-block;white-space:nowrap;line-height:inherit}.mw-parser-output .navbar-brackets::before{margin-right:-0.125em;content:\"[ \"}.mw-parser-output .navbar-brackets::after{margin-left:-0.125em;content:\" ]\"}.mw-parser-output .navbar li{word-spacing:-0.125em}.mw-parser-output .navbar-mini abbr{font-variant:small-caps;border-bottom:none;text-decoration:none;cursor:inherit}.mw-parser-output .navbar-ct-full{font-size:114%;margin:0 7em}.mw-parser-output .navbar-ct-mini{font-size:114%;margin:0 4em}.mw-parser-output .infobox .navbar{font-size:100%}.mw-parser-output .navbox .navbar{display:block;font-size:100%}.mw-parser-output .navbox-title .navbar{float:left;text-align:left;margin-right:0.5em}vteClimate data for Paisley[a], elevation: 16\\xa0m (52\\xa0ft), 1981–2010 normals, extremes 1959–present', 'Dec'), ('.mw-parser-output .navbar{display:inline;font-size:88%;font-weight:normal}.mw-parser-output .navbar-collapse{float:left;text-align:left}.mw-parser-output .navbar-boxtext{word-spacing:0}.mw-parser-output .navbar ul{display:inline-block;white-space:nowrap;line-height:inherit}.mw-parser-output .navbar-brackets::before{margin-right:-0.125em;content:\"[ \"}.mw-parser-output .navbar-brackets::after{margin-left:-0.125em;content:\" ]\"}.mw-parser-output .navbar li{word-spacing:-0.125em}.mw-parser-output .navbar-mini abbr{font-variant:small-caps;border-bottom:none;text-decoration:none;cursor:inherit}.mw-parser-output .navbar-ct-full{font-size:114%;margin:0 7em}.mw-parser-output .navbar-ct-mini{font-size:114%;margin:0 4em}.mw-parser-output .infobox .navbar{font-size:100%}.mw-parser-output .navbox .navbar{display:block;font-size:100%}.mw-parser-output .navbox-title .navbar{float:left;text-align:left;margin-right:0.5em}vteClimate data for Paisley[a], elevation: 16\\xa0m (52\\xa0ft), 1981–2010 normals, extremes 1959–present', 'Year')]\n[('vteClimate data for Abbotsinch[b], elevation: 8\\xa0m (26\\xa0ft), 1981–2010 normals, extremes 1951–present', 'Month'), ('vteClimate data for Abbotsinch[b], elevation: 8\\xa0m (26\\xa0ft), 1981–2010 normals, extremes 1951–present', 'Jan'), ('vteClimate data for Abbotsinch[b], elevation: 8\\xa0m (26\\xa0ft), 1981–2010 normals, extremes 1951–present', 'Feb'), ('vteClimate data for Abbotsinch[b], elevation: 8\\xa0m (26\\xa0ft), 1981–2010 normals, extremes 1951–present', 'Mar'), ('vteClimate data for Abbotsinch[b], elevation: 8\\xa0m (26\\xa0ft), 1981–2010 normals, extremes 1951–present', 'Apr'), ('vteClimate data for Abbotsinch[b], elevation: 8\\xa0m (26\\xa0ft), 1981–2010 normals, extremes 1951–present', 'May'), ('vteClimate data for Abbotsinch[b], elevation: 8\\xa0m (26\\xa0ft), 1981–2010 normals, extremes 1951–present', 'Jun'), ('vteClimate data for Abbotsinch[b], elevation: 8\\xa0m (26\\xa0ft), 1981–2010 normals, extremes 1951–present', 'Jul'), ('vteClimate data for Abbotsinch[b], elevation: 8\\xa0m (26\\xa0ft), 1981–2010 normals, extremes 1951–present', 'Aug'), ('vteClimate data for Abbotsinch[b], elevation: 8\\xa0m (26\\xa0ft), 1981–2010 normals, extremes 1951–present', 'Sep'), ('vteClimate data for Abbotsinch[b], elevation: 8\\xa0m (26\\xa0ft), 1981–2010 normals, extremes 1951–present', 'Oct'), ('vteClimate data for Abbotsinch[b], elevation: 8\\xa0m (26\\xa0ft), 1981–2010 normals, extremes 1951–present', 'Nov'), ('vteClimate data for Abbotsinch[b], elevation: 8\\xa0m (26\\xa0ft), 1981–2010 normals, extremes 1951–present', 'Dec'), ('vteClimate data for Abbotsinch[b], elevation: 8\\xa0m (26\\xa0ft), 1981–2010 normals, extremes 1951–present', 'Year')]\n['Location', 'Population', 'Area', 'Density', 'Unnamed: 4']\n['Historical population of Glasgow and city limits', 'Unnamed: 1', 'Unnamed: 2', 'Unnamed: 3', 'Unnamed: 4']\n['Year[78]', 'Population', 'Area (km2)', 'Density (inhabitants/km2)', 'Area changes']\n['Glasgow compared[80][81]', 'Glasgow compared[80][81].1', 'Glasgow compared[80][81].2', 'Glasgow compared[80][81].3']\n['Club', 'Founded', 'League', 'Venue', 'Capacity']\n['vteThe City of Glasgow', 'vteThe City of Glasgow.1', 'vteThe City of Glasgow.2']\n['Articles relating to Glasgow', 'Articles relating to Glasgow.1', 'Unnamed: 2', 'Unnamed: 3', 'Unnamed: 4']\n['vteAreas of Glasgow', 'vteAreas of Glasgow.1']\n[0, 1]\n[0, 1]\n['vteCouncil areas of Scotland', 'vteCouncil areas of Scotland.1']\n['vteCore Cities Group', 'vteCore Cities Group.1']\n['vte Cities of the United Kingdom', 'vte Cities of the United Kingdom.1']\n['vteCommonwealth Games host cities', 'vteCommonwealth Games host cities.1', 'Unnamed: 2', 'Unnamed: 3', 'Unnamed: 4']\n[0, 1, 2, 3, 4]\n['vteEuropean Capitals of Culture', 'vteEuropean Capitals of Culture.1']\n['vteEuropean Capitals of Sport', 'vteEuropean Capitals of Sport.1']\n[0, 1]\n[0, 1]\n"
     ]
    }
   ],
   "source": [
    "print(len(wiki_page))\n",
    "\n",
    "for table in wiki_page:\n",
    "    print(list(table.columns))\n"
   ]
  },
  {
   "cell_type": "code",
   "execution_count": 16,
   "metadata": {},
   "outputs": [
    {
     "output_type": "execute_result",
     "data": {
      "text/plain": [
       "  vteClimate data for Abbotsinch[b], elevation: 8 m (26 ft), 1981–2010 normals, extremes 1951–present  \\\n",
       "                                                                                                Month   \n",
       "0                                Record high °C (°F)                                                    \n",
       "1                               Average high °C (°F)                                                    \n",
       "2                                 Daily mean °C (°F)                                                    \n",
       "3                                Average low °C (°F)                                                    \n",
       "4                                 Record low °C (°F)                                                    \n",
       "5                  Average precipitation mm (inches)                                                    \n",
       "6              Average precipitation days (≥ 1.0 mm)                                                    \n",
       "7                        Mean monthly sunshine hours                                                    \n",
       "8                              Source: MetOffice[71]                                                    \n",
       "\n",
       "                                                                        \\\n",
       "                     Jan                    Feb                    Mar   \n",
       "0             13.5(56.3)             14.3(57.7)             18.9(66.0)   \n",
       "1              6.4(43.5)              6.9(44.4)              9.0(48.2)   \n",
       "2              3.8(38.8)              4.1(39.4)              5.8(42.4)   \n",
       "3              1.2(34.2)              1.3(34.3)              2.5(36.5)   \n",
       "4             −17.4(0.7)             −15.0(5.0)             −12.5(9.5)   \n",
       "5            153.0(6.02)            112.3(4.42)            124.8(4.91)   \n",
       "6                   18.1                   13.4                   16.6   \n",
       "7                   44.7                   72.0                  103.5   \n",
       "8  Source: MetOffice[71]  Source: MetOffice[71]  Source: MetOffice[71]   \n",
       "\n",
       "                                                                        \\\n",
       "                     Apr                    May                    Jun   \n",
       "0             24.0(75.2)             27.4(81.3)             29.6(85.3)   \n",
       "1             11.7(53.1)             15.0(59.0)             17.4(63.3)   \n",
       "2              7.8(46.0)             10.6(51.1)             13.2(55.8)   \n",
       "3              3.9(39.0)              6.2(43.2)              9.0(48.2)   \n",
       "4             −5.4(22.3)             −3.9(25.0)              1.2(34.2)   \n",
       "5             67.4(2.65)             65.3(2.57)             73.4(2.89)   \n",
       "6                   13.1                   11.3                   11.5   \n",
       "7                  140.1                  189.5                  161.7   \n",
       "8  Source: MetOffice[71]  Source: MetOffice[71]  Source: MetOffice[71]   \n",
       "\n",
       "                                                                        \\\n",
       "                     Jul                    Aug                    Sep   \n",
       "0             30.1(86.2)             31.2(88.2)             26.7(80.1)   \n",
       "1             19.2(66.6)             18.9(66.0)             16.2(61.2)   \n",
       "2             15.2(59.4)             14.9(58.8)             12.7(54.9)   \n",
       "3             11.1(52.0)             10.8(51.4)              9.1(48.4)   \n",
       "4              0.8(33.4)              1.1(34.0)             −4.0(24.8)   \n",
       "5             77.7(3.06)            100.9(3.97)            123.9(4.88)   \n",
       "6                   13.3                   12.2                   14.2   \n",
       "7                  169.9                  158.5                  117.5   \n",
       "8  Source: MetOffice[71]  Source: MetOffice[71]  Source: MetOffice[71]   \n",
       "\n",
       "                                                                        \\\n",
       "                     Oct                    Nov                    Dec   \n",
       "0             23.9(75.0)             16.0(60.8)             14.6(58.3)   \n",
       "1             12.4(54.3)              9.1(48.4)              6.4(43.5)   \n",
       "2              9.3(48.7)              6.4(43.5)              3.8(38.8)   \n",
       "3              6.2(43.2)              3.6(38.5)              1.1(34.0)   \n",
       "4             −7.1(19.2)            −10.4(13.3)            −19.9(−3.8)   \n",
       "5            142.6(5.61)            131.7(5.19)            145.6(5.73)   \n",
       "6                   17.0                   17.8                   16.2   \n",
       "7                   89.1                   57.4                   44.2   \n",
       "8  Source: MetOffice[71]  Source: MetOffice[71]  Source: MetOffice[71]   \n",
       "\n",
       "                          \n",
       "                    Year  \n",
       "0             31.2(88.2)  \n",
       "1             12.4(54.3)  \n",
       "2              8.9(48.0)  \n",
       "3              5.5(41.9)  \n",
       "4            −19.9(−3.8)  \n",
       "5         1,318.4(51.91)  \n",
       "6                  174.6  \n",
       "7                 1348.1  \n",
       "8  Source: MetOffice[71]  "
      ],
      "text/html": "<div>\n<style scoped>\n    .dataframe tbody tr th:only-of-type {\n        vertical-align: middle;\n    }\n\n    .dataframe tbody tr th {\n        vertical-align: top;\n    }\n\n    .dataframe thead tr th {\n        text-align: left;\n    }\n</style>\n<table border=\"1\" class=\"dataframe\">\n  <thead>\n    <tr>\n      <th></th>\n      <th colspan=\"14\" halign=\"left\">vteClimate data for Abbotsinch[b], elevation: 8 m (26 ft), 1981–2010 normals, extremes 1951–present</th>\n    </tr>\n    <tr>\n      <th></th>\n      <th>Month</th>\n      <th>Jan</th>\n      <th>Feb</th>\n      <th>Mar</th>\n      <th>Apr</th>\n      <th>May</th>\n      <th>Jun</th>\n      <th>Jul</th>\n      <th>Aug</th>\n      <th>Sep</th>\n      <th>Oct</th>\n      <th>Nov</th>\n      <th>Dec</th>\n      <th>Year</th>\n    </tr>\n  </thead>\n  <tbody>\n    <tr>\n      <th>0</th>\n      <td>Record high °C (°F)</td>\n      <td>13.5(56.3)</td>\n      <td>14.3(57.7)</td>\n      <td>18.9(66.0)</td>\n      <td>24.0(75.2)</td>\n      <td>27.4(81.3)</td>\n      <td>29.6(85.3)</td>\n      <td>30.1(86.2)</td>\n      <td>31.2(88.2)</td>\n      <td>26.7(80.1)</td>\n      <td>23.9(75.0)</td>\n      <td>16.0(60.8)</td>\n      <td>14.6(58.3)</td>\n      <td>31.2(88.2)</td>\n    </tr>\n    <tr>\n      <th>1</th>\n      <td>Average high °C (°F)</td>\n      <td>6.4(43.5)</td>\n      <td>6.9(44.4)</td>\n      <td>9.0(48.2)</td>\n      <td>11.7(53.1)</td>\n      <td>15.0(59.0)</td>\n      <td>17.4(63.3)</td>\n      <td>19.2(66.6)</td>\n      <td>18.9(66.0)</td>\n      <td>16.2(61.2)</td>\n      <td>12.4(54.3)</td>\n      <td>9.1(48.4)</td>\n      <td>6.4(43.5)</td>\n      <td>12.4(54.3)</td>\n    </tr>\n    <tr>\n      <th>2</th>\n      <td>Daily mean °C (°F)</td>\n      <td>3.8(38.8)</td>\n      <td>4.1(39.4)</td>\n      <td>5.8(42.4)</td>\n      <td>7.8(46.0)</td>\n      <td>10.6(51.1)</td>\n      <td>13.2(55.8)</td>\n      <td>15.2(59.4)</td>\n      <td>14.9(58.8)</td>\n      <td>12.7(54.9)</td>\n      <td>9.3(48.7)</td>\n      <td>6.4(43.5)</td>\n      <td>3.8(38.8)</td>\n      <td>8.9(48.0)</td>\n    </tr>\n    <tr>\n      <th>3</th>\n      <td>Average low °C (°F)</td>\n      <td>1.2(34.2)</td>\n      <td>1.3(34.3)</td>\n      <td>2.5(36.5)</td>\n      <td>3.9(39.0)</td>\n      <td>6.2(43.2)</td>\n      <td>9.0(48.2)</td>\n      <td>11.1(52.0)</td>\n      <td>10.8(51.4)</td>\n      <td>9.1(48.4)</td>\n      <td>6.2(43.2)</td>\n      <td>3.6(38.5)</td>\n      <td>1.1(34.0)</td>\n      <td>5.5(41.9)</td>\n    </tr>\n    <tr>\n      <th>4</th>\n      <td>Record low °C (°F)</td>\n      <td>−17.4(0.7)</td>\n      <td>−15.0(5.0)</td>\n      <td>−12.5(9.5)</td>\n      <td>−5.4(22.3)</td>\n      <td>−3.9(25.0)</td>\n      <td>1.2(34.2)</td>\n      <td>0.8(33.4)</td>\n      <td>1.1(34.0)</td>\n      <td>−4.0(24.8)</td>\n      <td>−7.1(19.2)</td>\n      <td>−10.4(13.3)</td>\n      <td>−19.9(−3.8)</td>\n      <td>−19.9(−3.8)</td>\n    </tr>\n    <tr>\n      <th>5</th>\n      <td>Average precipitation mm (inches)</td>\n      <td>153.0(6.02)</td>\n      <td>112.3(4.42)</td>\n      <td>124.8(4.91)</td>\n      <td>67.4(2.65)</td>\n      <td>65.3(2.57)</td>\n      <td>73.4(2.89)</td>\n      <td>77.7(3.06)</td>\n      <td>100.9(3.97)</td>\n      <td>123.9(4.88)</td>\n      <td>142.6(5.61)</td>\n      <td>131.7(5.19)</td>\n      <td>145.6(5.73)</td>\n      <td>1,318.4(51.91)</td>\n    </tr>\n    <tr>\n      <th>6</th>\n      <td>Average precipitation days (≥ 1.0 mm)</td>\n      <td>18.1</td>\n      <td>13.4</td>\n      <td>16.6</td>\n      <td>13.1</td>\n      <td>11.3</td>\n      <td>11.5</td>\n      <td>13.3</td>\n      <td>12.2</td>\n      <td>14.2</td>\n      <td>17.0</td>\n      <td>17.8</td>\n      <td>16.2</td>\n      <td>174.6</td>\n    </tr>\n    <tr>\n      <th>7</th>\n      <td>Mean monthly sunshine hours</td>\n      <td>44.7</td>\n      <td>72.0</td>\n      <td>103.5</td>\n      <td>140.1</td>\n      <td>189.5</td>\n      <td>161.7</td>\n      <td>169.9</td>\n      <td>158.5</td>\n      <td>117.5</td>\n      <td>89.1</td>\n      <td>57.4</td>\n      <td>44.2</td>\n      <td>1348.1</td>\n    </tr>\n    <tr>\n      <th>8</th>\n      <td>Source: MetOffice[71]</td>\n      <td>Source: MetOffice[71]</td>\n      <td>Source: MetOffice[71]</td>\n      <td>Source: MetOffice[71]</td>\n      <td>Source: MetOffice[71]</td>\n      <td>Source: MetOffice[71]</td>\n      <td>Source: MetOffice[71]</td>\n      <td>Source: MetOffice[71]</td>\n      <td>Source: MetOffice[71]</td>\n      <td>Source: MetOffice[71]</td>\n      <td>Source: MetOffice[71]</td>\n      <td>Source: MetOffice[71]</td>\n      <td>Source: MetOffice[71]</td>\n      <td>Source: MetOffice[71]</td>\n    </tr>\n  </tbody>\n</table>\n</div>"
     },
     "metadata": {},
     "execution_count": 16
    }
   ],
   "source": [
    "climate_df = wiki_page[5]\n",
    "climate_df"
   ]
  },
  {
   "cell_type": "code",
   "execution_count": 17,
   "metadata": {},
   "outputs": [
    {
     "output_type": "execute_result",
     "data": {
      "text/plain": [
       "     Historical population of Glasgow and city limits  Unnamed: 1  Unnamed: 2  \\\n",
       "0   Historical population and city limits Year[78]...         NaN         NaN   \n",
       "1                                            Year[78]  Population  Area (km2)   \n",
       "2                                                1300        1500       -[79]   \n",
       "3                                                1600        7000           –   \n",
       "4                                                1791       66000        7.16   \n",
       "5                                                1831      202426        8.83   \n",
       "6                                                1846      280000       23.44   \n",
       "7                                                1872      494824       24.42   \n",
       "8                                                1891      658073       48.00   \n",
       "9                                                1901      761712       51.35   \n",
       "10                                               1912      800000       77.63   \n",
       "11                                               1921     1034174       77.63   \n",
       "12                                               1926     1090380      119.42   \n",
       "13                                               1938     1127825      160.77   \n",
       "14                                               1946     1050000      160.77   \n",
       "15                                               1951     1089555      160.77   \n",
       "16                                               1961     1055017      160.77   \n",
       "17                                               1971      897485      160.77   \n",
       "18                                               1981      774068      202.35   \n",
       "19                                               1991      688600      202.67   \n",
       "20                                               2001      586710      177.30   \n",
       "21                                               2011      599650      174.70   \n",
       "\n",
       "                   Unnamed: 3  \\\n",
       "0                         NaN   \n",
       "1   Density (inhabitants/km2)   \n",
       "2                           –   \n",
       "3                           –   \n",
       "4                        9217   \n",
       "5                       22924   \n",
       "6                       11945   \n",
       "7                       20263   \n",
       "8                       13709   \n",
       "9                       14833   \n",
       "10                      10305   \n",
       "11                      13321   \n",
       "12                       9130   \n",
       "13                       7015   \n",
       "14                       6531   \n",
       "15                       6777   \n",
       "16                       6562   \n",
       "17                       5582   \n",
       "18                       3825   \n",
       "19                       3397   \n",
       "20                       3309   \n",
       "21                       3432   \n",
       "\n",
       "                                           Unnamed: 4  \n",
       "0                                                 NaN  \n",
       "1                                        Area changes  \n",
       "2                                             Initial  \n",
       "3                                             Unknown  \n",
       "4   Anderson to James Street/West Nile Street to C...  \n",
       "5                           Necropolis and Blythswood  \n",
       "6    Burghs of Anderston and Calton/Barony of Gorbals  \n",
       "7   Districts of Keppochhill, Alexandra Parade and...  \n",
       "8   Burghs of Govanhill, Crosshill, Pollokshields,...  \n",
       "9   Bellahouston Park and Craigton. Districts of B...  \n",
       "10  Burghs of Govan, Partick, Pollokshaws. Distric...  \n",
       "11                                          No change  \n",
       "12  Districts of Lambhill, Millerston, Aikenhead, ...  \n",
       "13  Districts of Balmuildy, Auchinairn, Cardowan, ...  \n",
       "14                                          No change  \n",
       "15                                          No change  \n",
       "16                                          No change  \n",
       "17                                          No change  \n",
       "18  Burghs of Rutherglen, Cambuslang, Mount Vernon...  \n",
       "19                              Minor boundary change  \n",
       "20  Rutherglen and Cambuslang transferred to South...  \n",
       "21                              Minor boundary change  "
      ],
      "text/html": "<div>\n<style scoped>\n    .dataframe tbody tr th:only-of-type {\n        vertical-align: middle;\n    }\n\n    .dataframe tbody tr th {\n        vertical-align: top;\n    }\n\n    .dataframe thead th {\n        text-align: right;\n    }\n</style>\n<table border=\"1\" class=\"dataframe\">\n  <thead>\n    <tr style=\"text-align: right;\">\n      <th></th>\n      <th>Historical population of Glasgow and city limits</th>\n      <th>Unnamed: 1</th>\n      <th>Unnamed: 2</th>\n      <th>Unnamed: 3</th>\n      <th>Unnamed: 4</th>\n    </tr>\n  </thead>\n  <tbody>\n    <tr>\n      <th>0</th>\n      <td>Historical population and city limits Year[78]...</td>\n      <td>NaN</td>\n      <td>NaN</td>\n      <td>NaN</td>\n      <td>NaN</td>\n    </tr>\n    <tr>\n      <th>1</th>\n      <td>Year[78]</td>\n      <td>Population</td>\n      <td>Area (km2)</td>\n      <td>Density (inhabitants/km2)</td>\n      <td>Area changes</td>\n    </tr>\n    <tr>\n      <th>2</th>\n      <td>1300</td>\n      <td>1500</td>\n      <td>-[79]</td>\n      <td>–</td>\n      <td>Initial</td>\n    </tr>\n    <tr>\n      <th>3</th>\n      <td>1600</td>\n      <td>7000</td>\n      <td>–</td>\n      <td>–</td>\n      <td>Unknown</td>\n    </tr>\n    <tr>\n      <th>4</th>\n      <td>1791</td>\n      <td>66000</td>\n      <td>7.16</td>\n      <td>9217</td>\n      <td>Anderson to James Street/West Nile Street to C...</td>\n    </tr>\n    <tr>\n      <th>5</th>\n      <td>1831</td>\n      <td>202426</td>\n      <td>8.83</td>\n      <td>22924</td>\n      <td>Necropolis and Blythswood</td>\n    </tr>\n    <tr>\n      <th>6</th>\n      <td>1846</td>\n      <td>280000</td>\n      <td>23.44</td>\n      <td>11945</td>\n      <td>Burghs of Anderston and Calton/Barony of Gorbals</td>\n    </tr>\n    <tr>\n      <th>7</th>\n      <td>1872</td>\n      <td>494824</td>\n      <td>24.42</td>\n      <td>20263</td>\n      <td>Districts of Keppochhill, Alexandra Parade and...</td>\n    </tr>\n    <tr>\n      <th>8</th>\n      <td>1891</td>\n      <td>658073</td>\n      <td>48.00</td>\n      <td>13709</td>\n      <td>Burghs of Govanhill, Crosshill, Pollokshields,...</td>\n    </tr>\n    <tr>\n      <th>9</th>\n      <td>1901</td>\n      <td>761712</td>\n      <td>51.35</td>\n      <td>14833</td>\n      <td>Bellahouston Park and Craigton. Districts of B...</td>\n    </tr>\n    <tr>\n      <th>10</th>\n      <td>1912</td>\n      <td>800000</td>\n      <td>77.63</td>\n      <td>10305</td>\n      <td>Burghs of Govan, Partick, Pollokshaws. Distric...</td>\n    </tr>\n    <tr>\n      <th>11</th>\n      <td>1921</td>\n      <td>1034174</td>\n      <td>77.63</td>\n      <td>13321</td>\n      <td>No change</td>\n    </tr>\n    <tr>\n      <th>12</th>\n      <td>1926</td>\n      <td>1090380</td>\n      <td>119.42</td>\n      <td>9130</td>\n      <td>Districts of Lambhill, Millerston, Aikenhead, ...</td>\n    </tr>\n    <tr>\n      <th>13</th>\n      <td>1938</td>\n      <td>1127825</td>\n      <td>160.77</td>\n      <td>7015</td>\n      <td>Districts of Balmuildy, Auchinairn, Cardowan, ...</td>\n    </tr>\n    <tr>\n      <th>14</th>\n      <td>1946</td>\n      <td>1050000</td>\n      <td>160.77</td>\n      <td>6531</td>\n      <td>No change</td>\n    </tr>\n    <tr>\n      <th>15</th>\n      <td>1951</td>\n      <td>1089555</td>\n      <td>160.77</td>\n      <td>6777</td>\n      <td>No change</td>\n    </tr>\n    <tr>\n      <th>16</th>\n      <td>1961</td>\n      <td>1055017</td>\n      <td>160.77</td>\n      <td>6562</td>\n      <td>No change</td>\n    </tr>\n    <tr>\n      <th>17</th>\n      <td>1971</td>\n      <td>897485</td>\n      <td>160.77</td>\n      <td>5582</td>\n      <td>No change</td>\n    </tr>\n    <tr>\n      <th>18</th>\n      <td>1981</td>\n      <td>774068</td>\n      <td>202.35</td>\n      <td>3825</td>\n      <td>Burghs of Rutherglen, Cambuslang, Mount Vernon...</td>\n    </tr>\n    <tr>\n      <th>19</th>\n      <td>1991</td>\n      <td>688600</td>\n      <td>202.67</td>\n      <td>3397</td>\n      <td>Minor boundary change</td>\n    </tr>\n    <tr>\n      <th>20</th>\n      <td>2001</td>\n      <td>586710</td>\n      <td>177.30</td>\n      <td>3309</td>\n      <td>Rutherglen and Cambuslang transferred to South...</td>\n    </tr>\n    <tr>\n      <th>21</th>\n      <td>2011</td>\n      <td>599650</td>\n      <td>174.70</td>\n      <td>3432</td>\n      <td>Minor boundary change</td>\n    </tr>\n  </tbody>\n</table>\n</div>"
     },
     "metadata": {},
     "execution_count": 17
    }
   ],
   "source": [
    "df = wiki_page[7]\n",
    "df"
   ]
  },
  {
   "cell_type": "code",
   "execution_count": 28,
   "metadata": {},
   "outputs": [
    {
     "output_type": "stream",
     "name": "stdout",
     "text": [
      "2021-04-23 08:42:23.669000+01:00 => 2021-04-23 08:42:23.669000+01:00\n2021-04-23 08:45:03.152000+01:00 => 2021-04-23 08:45:03.152000+01:00\n2021-04-23 14:33:14.998000+01:00 => 2021-04-23 14:33:14.998000+01:00\n2021-04-23 14:33:12.584000+01:00 => 2021-04-23 14:33:12.584000+01:00\n2021-04-23 14:33:13.651000+01:00 => 2021-04-23 14:33:13.651000+01:00\n2021-04-23 06:57:34+00:00 => 2021-04-23 07:57:34+01:00\n2021-04-23 07:00:34+00:00 => 2021-04-23 08:00:34+01:00\n2021-04-05 14:01:37+00:00 => 2021-04-05 15:01:37+01:00\n"
     ]
    }
   ],
   "source": [
    "import datetime\n",
    "from dateutil.tz import tzlocal, tzutc\n",
    "import pytz\n",
    "\n",
    "data = {\n",
    "    'standard_ami': {\n",
    "        'id': 'ami-01f6baf55e3d25326',\n",
    "        'date': datetime.datetime(2021, 4, 23, 8, 42, 23, 669000, tzinfo=tzlocal())\n",
    "    },\n",
    "    'ecs_ami': {\n",
    "        'id': 'ami-036c56aa73e614f32',\n",
    "        'date': datetime.datetime(2021, 4, 23, 8, 45, 3, 152000, tzinfo=tzlocal())\n",
    "    },\n",
    "    'current_beehive_ami': {\n",
    "        'id': 'ami-036c56aa73e614f32',\n",
    "        'date': datetime.datetime(2021, 4, 23, 14, 33, 14, 998000, tzinfo=tzlocal())\n",
    "    },\n",
    "    'current_activemq_ami': {\n",
    "        'id': 'ami-01f6baf55e3d25326',\n",
    "        'date': datetime.datetime(2021, 4, 23, 14, 33, 12, 584000, tzinfo=tzlocal())\n",
    "    },\n",
    "    'current_rundeck_ami': {\n",
    "        'id': 'ami-036c56aa73e614f32',\n",
    "        'date': datetime.datetime(2021, 4, 23, 14, 33, 13, 651000, tzinfo=tzlocal())\n",
    "    },\n",
    "    'newest_beehive_ami': {\n",
    "        'id': 'ami-0ef652024ecc34abf',\n",
    "        'date': datetime.datetime(2021, 4, 23, 6, 57, 34, tzinfo=tzutc())\n",
    "    },\n",
    "    'newest_activemq_ami': {\n",
    "        'id': 'ami-01f369601251fd602',\n",
    "        'date': datetime.datetime(2021, 4, 23, 7, 0, 34, tzinfo=tzutc())\n",
    "    },\n",
    "    'newest_rundeck_ami': {\n",
    "        'id': 'ami-0ef652024ecc34abf',\n",
    "        'date': datetime.datetime(2021, 4, 5, 14, 1, 37, tzinfo=tzutc())\n",
    "    }\n",
    "}\n",
    "\n",
    "local_tz = pytz.timezone('Europe/London')\n",
    "\n",
    "for k, v in data.items():\n",
    "    dt_date = v['date']\n",
    "    dt_local = dt_date.astimezone(local_tz)\n",
    "    print(f'{dt_date} => {dt_local}')\n"
   ]
  },
  {
   "cell_type": "code",
   "execution_count": 26,
   "metadata": {
    "tags": []
   },
   "outputs": [
    {
     "output_type": "stream",
     "name": "stdout",
     "text": [
      "['Europe', 'Amsterdam']\n['Europe', 'Andorra']\n['Europe', 'Astrakhan']\n['Europe', 'Athens']\n['Europe', 'Belfast']\n['Europe', 'Belgrade']\n['Europe', 'Berlin']\n['Europe', 'Bratislava']\n['Europe', 'Brussels']\n['Europe', 'Bucharest']\n['Europe', 'Budapest']\n['Europe', 'Busingen']\n['Europe', 'Chisinau']\n['Europe', 'Copenhagen']\n['Europe', 'Dublin']\n['Europe', 'Gibraltar']\n['Europe', 'Guernsey']\n['Europe', 'Helsinki']\n['Europe', 'Isle_of_Man']\n['Europe', 'Istanbul']\n['Europe', 'Jersey']\n['Europe', 'Kaliningrad']\n['Europe', 'Kiev']\n['Europe', 'Kirov']\n['Europe', 'Lisbon']\n['Europe', 'Ljubljana']\n['Europe', 'London']\n['Europe', 'Luxembourg']\n['Europe', 'Madrid']\n['Europe', 'Malta']\n['Europe', 'Mariehamn']\n['Europe', 'Minsk']\n['Europe', 'Monaco']\n['Europe', 'Moscow']\n['Europe', 'Nicosia']\n['Europe', 'Oslo']\n['Europe', 'Paris']\n['Europe', 'Podgorica']\n['Europe', 'Prague']\n['Europe', 'Riga']\n['Europe', 'Rome']\n['Europe', 'Samara']\n['Europe', 'San_Marino']\n['Europe', 'Sarajevo']\n['Europe', 'Saratov']\n['Europe', 'Simferopol']\n['Europe', 'Skopje']\n['Europe', 'Sofia']\n['Europe', 'Stockholm']\n['Europe', 'Tallinn']\n['Europe', 'Tirane']\n['Europe', 'Tiraspol']\n['Europe', 'Ulyanovsk']\n['Europe', 'Uzhgorod']\n['Europe', 'Vaduz']\n['Europe', 'Vatican']\n['Europe', 'Vienna']\n['Europe', 'Vilnius']\n['Europe', 'Volgograd']\n['Europe', 'Warsaw']\n['Europe', 'Zagreb']\n['Europe', 'Zaporozhye']\n['Europe', 'Zurich']\n"
     ]
    }
   ],
   "source": [
    "for t in pytz.all_timezones:\n",
    "    parts = t.split('/')\n",
    "    if 1 < len(parts) < 3 and parts[0].lower() == 'europe':\n",
    "        print(parts)\n",
    "\n",
    "    # if len(parts) < 2 or len(parts) > 2:\n",
    "    #     print(f'odd one out: {parts}')\n",
    "    # elif parts[0].lower() == 'europe':\n",
    "    #     print(parts)\n",
    "    # else:\n",
    "    #     print(f'Not what we are looking for: {parts}')"
   ]
  }
 ]
}