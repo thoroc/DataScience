{
 "metadata": {
  "language_info": {
   "codemirror_mode": {
    "name": "ipython",
    "version": 3
   },
   "file_extension": ".py",
   "mimetype": "text/x-python",
   "name": "python",
   "nbconvert_exporter": "python",
   "pygments_lexer": "ipython3",
   "version": "3.9.0"
  },
  "orig_nbformat": 2,
  "kernelspec": {
   "name": "pythonjvsc74a57bd0f986b2146d1d979e0b59e1ce291b438a192131f5cf93776136015019779e7c2f",
   "display_name": "Python 3.9.0  ('.venv': venv)"
  },
  "metadata": {
   "interpreter": {
    "hash": "f986b2146d1d979e0b59e1ce291b438a192131f5cf93776136015019779e7c2f"
   }
  }
 },
 "nbformat": 4,
 "nbformat_minor": 2,
 "cells": [
  {
   "source": [
    "## Get four date of birth so as:\n",
    "* the oldest is over 21 years old,\n",
    "* the second oldest is between 21 and 18 years old,\n",
    "* the third oldest one is exactly 18 years old, and\n",
    "* the youngest is under 18 years old."
   ],
   "cell_type": "markdown",
   "metadata": {}
  },
  {
   "cell_type": "code",
   "execution_count": 34,
   "metadata": {},
   "outputs": [],
   "source": [
    "from dateutil.relativedelta import relativedelta\n",
    "from random import randint\n",
    "from datetime import date, datetime\n",
    "\n",
    "FORMAT_DATE = \"%d/%m/%Y\""
   ]
  },
  {
   "cell_type": "code",
   "execution_count": 35,
   "metadata": {},
   "outputs": [
    {
     "output_type": "display_data",
     "data": {
      "text/plain": "'03/04/2001'"
     },
     "metadata": {}
    },
    {
     "output_type": "display_data",
     "data": {
      "text/plain": "'13/04/2003'"
     },
     "metadata": {}
    },
    {
     "output_type": "display_data",
     "data": {
      "text/plain": "'02/06/2003'"
     },
     "metadata": {}
    },
    {
     "output_type": "display_data",
     "data": {
      "text/plain": "'08/05/2006'"
     },
     "metadata": {}
    }
   ],
   "source": [
    "def get_dob(years_lapsed: int, exact=False) -> datetime:\n",
    "    today = datetime.now()\n",
    "    days = 1\n",
    "    months = 1\n",
    "    if not exact:\n",
    "        days = randint(-30, 30)\n",
    "        months = randint(-12, 0)\n",
    "    dob = today - relativedelta(days=days, months=months, years=years_lapsed)\n",
    "\n",
    "    return dob\n",
    "\n",
    "dob_1 = get_dob(21)\n",
    "display(dob_1.strftime(FORMAT_DATE))\n",
    "dob_2 = get_dob(18, True)\n",
    "display(dob_2.strftime(FORMAT_DATE))\n",
    "dob_3 = get_dob(18)\n",
    "display(dob_3.strftime(FORMAT_DATE))\n",
    "dob_4 = get_dob(16)\n",
    "display(dob_4.strftime(FORMAT_DATE))"
   ]
  },
  {
   "cell_type": "code",
   "execution_count": 36,
   "metadata": {},
   "outputs": [
    {
     "output_type": "stream",
     "name": "stdout",
     "text": [
      "Checking date of birth: 03/04/2001\nIs an adult: 20 years, 1 months, 11 days\nChecking date of birth: 13/04/2003\nIs an adult: 18 years, 1 months, 1 days\nChecking date of birth: 02/06/2003\nIs not an adult: 17 years, 11 months, 12 days\nChecking date of birth: 08/05/2006\nIs not an adult: 15 years, 0 months, 6 days\n"
     ]
    }
   ],
   "source": [
    "def is_adult(dob: datetime, legal_age=18):\n",
    "    now = datetime.now()\n",
    "    try:\n",
    "        diff = relativedelta(now, dob)\n",
    "        return (diff.years >= legal_age, diff.years, diff.months, diff.days)\n",
    "    except ValueError as err:\n",
    "        return err\n",
    "\n",
    "\n",
    "def print_is_adult(dob: datetime, legal_age=18):\n",
    "    print(f\"Checking date of birth: {dob.strftime(FORMAT_DATE)}\")\n",
    "    check, years, months, days = is_adult(dob, legal_age)\n",
    "    msg = \"Is an adult\"\n",
    "    if not check:\n",
    "        msg = \"Is not an adult\"\n",
    "    print(f\"{msg}: {years} years, {months} months, {days} days\")\n",
    "\n",
    "\n",
    "print_is_adult(dob_1)\n",
    "print_is_adult(dob_2)\n",
    "print_is_adult(dob_3)\n",
    "print_is_adult(dob_4)"
   ]
  },
  {
   "cell_type": "code",
   "execution_count": null,
   "metadata": {},
   "outputs": [],
   "source": []
  }
 ]
}